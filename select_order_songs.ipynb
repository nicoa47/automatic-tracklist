{
 "cells": [
  {
   "cell_type": "markdown",
   "metadata": {},
   "source": [
    "**task: order and sort mp3s**  \n",
    "\n",
    "criteria:  \n",
    "<font color=\"green\"></font>\n",
    "a) first/last song the best from list (use model cat1)  \n",
    "b) durations should fit  \n",
    "c) song selection: artists evenly distributed (TODO)"
   ]
  },
  {
   "cell_type": "code",
   "execution_count": null,
   "metadata": {},
   "outputs": [],
   "source": [
    "# user parameters\n",
    "path_str = \"test_songs/M\"         # path where the MP3 files to be selected/ordered are located\n",
    "best_first = \"\"                   # insert song name (without .mp3) if specific first song is desired (else leave EMPTY!!)\n",
    "best_last = \"\"                    # insert song name (without .mp3) if specific last song is desired (else leave EMPTY!!)\n",
    "keeps = []                        # let user decide if a selection of songs HAS TO be included\n",
    "rm_songs = []                     # let user decide if a selection of songs HAS TO be excluded\n",
    "space_total = (80*60-1)           # space in seconds"
   ]
  },
  {
   "cell_type": "code",
   "execution_count": 17,
   "metadata": {},
   "outputs": [],
   "source": [
    "%matplotlib notebook\n",
    "\n",
    "#imports\n",
    "from pathlib import Path\n",
    "import os\n",
    "import eyed3\n",
    "import eyed3.id3\n",
    "from tqdm import tqdm\n",
    "import math\n",
    "import pywt\n",
    "import numpy as np\n",
    "import matplotlib.pyplot as plt\n",
    "from scipy import signal\n",
    "import librosa                   # load in mp3 data\n",
    "import pydub                     # to get waveform\n",
    "import PIL\n",
    "from PIL import Image, ImageDraw # for drawing song duration bar\n",
    "import io                        # to get from plt output to im\n",
    "from librosa.core.audio import __audioread_load\n",
    "                                 # use more basic function, quicker loading time\n",
    "import pickle\n",
    "import random                    # test the likelihood of correct categorization\n",
    "from fastai.vision.all import *\n",
    "                                 # following lines: omits error for loading trained models on windows\n",
    "import pathlib\n",
    "temp = pathlib.PosixPath\n",
    "pathlib.PosixPath = pathlib.WindowsPath\n",
    "\n",
    "import pandas as pd\n",
    "from mutagen.mp3 import MP3      # to get the duration of MP3s\n",
    "                                 # to describe song fitness distribution as sigmoid\n",
    "from scipy.optimize import curve_fit\n",
    "                                 # to quickly find the fuzzy str matches\n",
    "from difflib import SequenceMatcher\n",
    "import datetime"
   ]
  },
  {
   "cell_type": "code",
   "execution_count": 2,
   "metadata": {},
   "outputs": [
    {
     "data": {
      "text/plain": [
       "['03 - Valentine.mp3',\n",
       " '04 - Still.mp3',\n",
       " '05 - Wait For You.mp3',\n",
       " '08 - Through Glass.mp3',\n",
       " '09 - Morei Sky.mp3',\n",
       " '16 - Off We Go.mp3',\n",
       " 'Craig Irving - 01. Let Go.mp3',\n",
       " 'Daniel Powter - Do You Wanna Get Lucky (Official Video).mp3',\n",
       " 'Daniel Powter – Perfect For Me (Official Lyrics Video).mp3',\n",
       " \"FINNEAS - 01. Can't Wait To Be Dead (Explicit).mp3\",\n",
       " \"FINNEAS - 01. What They'll Say About Us.mp3\",\n",
       " 'I Sat By The Ocean - Queens Of The Stone Age.mp3',\n",
       " 'Instant History - Biffy Clyro.mp3',\n",
       " 'Knights Of Cydonia - Muse.mp3',\n",
       " 'Last Day Under the Sun - Volbeat.mp3',\n",
       " 'Let It Burn - Volbeat.mp3',\n",
       " 'New Born - Muse.mp3',\n",
       " 'Resistance - Muse.mp3',\n",
       " 'Space - Biffy Clyro.mp3',\n",
       " 'Tell Them Who You Are.mp3',\n",
       " 'theyouth.mp3',\n",
       " 'Tiny Indoor Fireworks - Biffy Clyro.mp3']"
      ]
     },
     "execution_count": 2,
     "metadata": {},
     "output_type": "execute_result"
    }
   ],
   "source": [
    "# path to MP3 folder\n",
    "mp3_path = Path(r\"\"+path_str)\n",
    "mp3s = [f for f in os.listdir(mp3_path) if f.endswith(\".mp3\")]\n",
    "mp3s"
   ]
  },
  {
   "cell_type": "code",
   "execution_count": 3,
   "metadata": {},
   "outputs": [],
   "source": [
    "def scale_1d_data(data, *args):\n",
    "    # decimate data to not lose contrast\n",
    "    # fixed len, e.g. 1000 --> 78000/x = 1000\n",
    "    data = data[::max(1, int(len(data)/500))]\n",
    "    data = np.array(data)\n",
    "    if len(args) == 0:\n",
    "        minmax_goal = [0, 255]\n",
    "        minmax = [min(data), max(data)]\n",
    "    elif len(args) == 1:\n",
    "        minmax_goal = [0, 255]\n",
    "        minmax = args[0]\n",
    "    else:\n",
    "        minmax_goal = args[1]\n",
    "        minmax = args[0]\n",
    "    # scale values\n",
    "    data = data - minmax[0] # all positive values\n",
    "    data = data/(minmax[1] - minmax[0]) # standardized to 1\n",
    "    return minmax_goal[0] + data*(minmax_goal[1] - minmax_goal[0])\n",
    "\n",
    "def get_im_from_1d_data(data, *args):\n",
    "    if len(args) > 1:\n",
    "        data_scaled = scale_1d_data(data, args[0], args[1])\n",
    "    elif len(args) > 0:\n",
    "        data_scaled = scale_1d_data(data, args[0])\n",
    "    else:\n",
    "        data_scaled = scale_1d_data(data)\n",
    "    # add artifical y dimension (same values) to get data in form of 2d image\n",
    "    # don't add to much y values, otherwise it will take too long\n",
    "    added_arti_y_data = [list(data_scaled) for i in range( max(10, int(len(data)/500)) )]\n",
    "    return Image.fromarray(np.array(added_arti_y_data).astype(np.uint8))\n",
    "\n",
    "def get_im_from_plt(fig):\n",
    "    # from https://web-backend.icare.univ-lille.fr/tutorials/convert_a_matplotlib_figure\n",
    "    # draw the renderer\n",
    "    fig.canvas.draw()\n",
    "    # Get the RGBA buffer from the figure\n",
    "    w, h = fig.canvas.get_width_height()\n",
    "    buf = np.fromstring(fig.canvas.tostring_argb(), dtype=np.uint8)\n",
    "    buf.shape = (w, h, 4)\n",
    "    # canvas.tostring_argb give pixmap in ARGB mode. Roll the ALPHA channel to have it in RGBA mode\n",
    "    buf = np.roll(buf, 3, axis = 2)\n",
    "    return Image.frombytes(\"RGBA\", (w, h), buf.tostring())\n",
    "\n",
    "def get_im_from_data(y, data_2d=False):\n",
    "    f = plt.figure(figsize = (7,5))\n",
    "    plt.xticks([])\n",
    "    plt.yticks([])\n",
    "    # TODO find way to suppress visual output\n",
    "    if data_2d:\n",
    "        _ = plt.imshow(y, aspect=\"auto\")\n",
    "    else:\n",
    "        _ = plt.plot(y)\n",
    "    f.canvas.draw()\n",
    "    im = PIL.Image.frombytes('RGB', f.canvas.get_width_height(), f.canvas.tostring_rgb())\n",
    "    #im = get_im_from_plt(f)\n",
    "    w, h = im.size\n",
    "    return im.crop((90, 60, w-70, h-55))\n",
    "\n",
    "def get_wavelet(sos, y, padding_len=500):\n",
    "    filtered = signal.sosfilt(sos, y)\n",
    "    # save data: decimate list\n",
    "    filtered_reduced = filtered[::1000]\n",
    "    # add padding to remove cone of influence in wavelets\n",
    "    padding = [0 for i in range(padding_len)]\n",
    "    # plot wavelet low pass\n",
    "    ctw_data = ctw_out(padding + list(filtered_reduced) + padding)\n",
    "    # remove padding in wavelet\n",
    "    return ctw_data[:,len(padding):-len(padding)]\n",
    "\n",
    "def get_lo_cwt_data(y):\n",
    "    # reduce amount of data --> low pass filter\n",
    "    sos = signal.butter(5, 0.1, 'lp', fs=sr, output='sos')\n",
    "    return get_wavelet(sos, y)\n",
    "\n",
    "def get_lo_hi_im(y, type_=\"lo\"):\n",
    "    if type_ == \"lo\":\n",
    "        cwt_data = get_lo_cwt_data(y)\n",
    "    else:\n",
    "        cwt_data = get_hi_cwt_data(y)\n",
    "    vmax=abs(cwt_data).max()\n",
    "    cwt_data = cwt_data+vmax # all positive values\n",
    "    cwt_data = cwt_data/(2*vmax) # standardized to 1\n",
    "    cwt_data = cwt_data*255 # set max to 255\n",
    "    return Image.fromarray(cwt_data)\n",
    "\n",
    "def get_hi_data(y, sr):\n",
    "    # reduce amount of data --> high pass filter\n",
    "    sos = signal.butter(10, 11024, 'hp', fs=sr, output='sos')\n",
    "    filtered = signal.sosfilt(sos, y)\n",
    "    # save data: decimate list\n",
    "    return filtered[::1000]\n",
    "\n",
    "def get_lo_data(y, sr):\n",
    "    # reduce amount of data --> high pass filter\n",
    "    sos = signal.butter(5, 0.1, 'lp', fs=sr, output='sos')\n",
    "    filtered = signal.sosfilt(sos, y)\n",
    "    # save data: decimate list\n",
    "    return filtered[::1000]\n",
    "\n",
    "def get_hi_cwt_data(y):\n",
    "    # reduce amount of data --> high pass filter\n",
    "    sos = signal.butter(10, 11024, 'hp', fs=sr, output='sos')\n",
    "    return get_wavelet(sos, y)\n",
    "\n",
    "def get_vol_data(y):\n",
    "    # volume information\n",
    "    return librosa.feature.rms(y, center=True)[0]\n",
    "\n",
    "def get_dur_im(y, sr, max_dur=20):\n",
    "    perc_of_total = ((len(y)/sr)/60)/max_dur\n",
    "    part_dur = PIL.Image.new(mode = \"RGB\", size = (500, 50))\n",
    "    draw = ImageDraw.Draw(part_dur)\n",
    "    draw.rectangle([0, 0, part_dur.width*perc_of_total, part_dur.height], fill=(255,255,255), outline=None, width=1)\n",
    "    return part_dur\n",
    "\n",
    "def get_all_info_im(y, sr):\n",
    "    all_parts = PIL.Image.new(mode = \"RGB\", size = (500, 500))\n",
    "    part_dur = get_dur_im(y, sr)\n",
    "    part_vol = get_im_from_1d_data(get_vol_data(y), [0, 0.5], [0, 255]).resize((500,150))\n",
    "    part_hi = get_im_from_1d_data(get_hi_data(y, sr)).resize((500,150))\n",
    "    part_lo = get_im_from_1d_data(get_lo_data(y, sr)).resize((500,150))#get_lo_hi_im(y).resize((500,150))\n",
    "    all_parts.paste(part_dur, (0, 0))\n",
    "    all_parts.paste(part_vol, (0, 50))\n",
    "    all_parts.paste(part_hi, (0, 200))\n",
    "    all_parts.paste(part_lo, (0, 350))\n",
    "    return all_parts.resize((200,200))\n",
    "\n",
    "def store_song_info_im(mp3):\n",
    "    #y, sr = librosa.load(os.path.join(mp3_path, mp3)) # TODO takes too long, alternative see below\n",
    "    y, sr = __audioread_load(os.path.join(mp3_path, mp3), 0, None, \"float16\") #, offset, duration, dtype\n",
    "    im = get_all_info_im(y[0], sr)\n",
    "    im.save(mp3_path/((str(Path(mp3).stem)+\".png\")))"
   ]
  },
  {
   "cell_type": "code",
   "execution_count": 4,
   "metadata": {
    "scrolled": true
   },
   "outputs": [
    {
     "name": "stderr",
     "output_type": "stream",
     "text": [
      "100%|██████████| 22/22 [00:31<00:00,  1.44s/it]\n"
     ]
    }
   ],
   "source": [
    "for mp3 in tqdm(mp3s):\n",
    "    store_song_info_im(mp3)"
   ]
  },
  {
   "cell_type": "code",
   "execution_count": 5,
   "metadata": {},
   "outputs": [],
   "source": [
    "def get_cat():\n",
    "    pass\n",
    "\n",
    "learn_c1 = load_learner(Path(\"export_cat1.pkl\"))"
   ]
  },
  {
   "cell_type": "code",
   "execution_count": 6,
   "metadata": {},
   "outputs": [
    {
     "data": {
      "text/html": [],
      "text/plain": [
       "<IPython.core.display.HTML object>"
      ]
     },
     "metadata": {},
     "output_type": "display_data"
    },
    {
     "data": {
      "text/html": [],
      "text/plain": [
       "<IPython.core.display.HTML object>"
      ]
     },
     "metadata": {},
     "output_type": "display_data"
    },
    {
     "data": {
      "text/html": [],
      "text/plain": [
       "<IPython.core.display.HTML object>"
      ]
     },
     "metadata": {},
     "output_type": "display_data"
    },
    {
     "data": {
      "text/html": [],
      "text/plain": [
       "<IPython.core.display.HTML object>"
      ]
     },
     "metadata": {},
     "output_type": "display_data"
    },
    {
     "data": {
      "text/html": [],
      "text/plain": [
       "<IPython.core.display.HTML object>"
      ]
     },
     "metadata": {},
     "output_type": "display_data"
    },
    {
     "data": {
      "text/html": [],
      "text/plain": [
       "<IPython.core.display.HTML object>"
      ]
     },
     "metadata": {},
     "output_type": "display_data"
    },
    {
     "data": {
      "text/html": [],
      "text/plain": [
       "<IPython.core.display.HTML object>"
      ]
     },
     "metadata": {},
     "output_type": "display_data"
    },
    {
     "data": {
      "text/html": [],
      "text/plain": [
       "<IPython.core.display.HTML object>"
      ]
     },
     "metadata": {},
     "output_type": "display_data"
    },
    {
     "data": {
      "text/html": [],
      "text/plain": [
       "<IPython.core.display.HTML object>"
      ]
     },
     "metadata": {},
     "output_type": "display_data"
    },
    {
     "data": {
      "text/html": [],
      "text/plain": [
       "<IPython.core.display.HTML object>"
      ]
     },
     "metadata": {},
     "output_type": "display_data"
    },
    {
     "data": {
      "text/html": [],
      "text/plain": [
       "<IPython.core.display.HTML object>"
      ]
     },
     "metadata": {},
     "output_type": "display_data"
    },
    {
     "name": "stderr",
     "output_type": "stream",
     "text": [
      "Frame 'SYLT' is not yet supported, using raw Frame to parse\n"
     ]
    },
    {
     "data": {
      "text/html": [],
      "text/plain": [
       "<IPython.core.display.HTML object>"
      ]
     },
     "metadata": {},
     "output_type": "display_data"
    },
    {
     "data": {
      "text/html": [],
      "text/plain": [
       "<IPython.core.display.HTML object>"
      ]
     },
     "metadata": {},
     "output_type": "display_data"
    },
    {
     "name": "stderr",
     "output_type": "stream",
     "text": [
      "Frame 'SYLT' is not yet supported, using raw Frame to parse\n"
     ]
    },
    {
     "data": {
      "text/html": [],
      "text/plain": [
       "<IPython.core.display.HTML object>"
      ]
     },
     "metadata": {},
     "output_type": "display_data"
    },
    {
     "data": {
      "text/html": [],
      "text/plain": [
       "<IPython.core.display.HTML object>"
      ]
     },
     "metadata": {},
     "output_type": "display_data"
    },
    {
     "data": {
      "text/html": [],
      "text/plain": [
       "<IPython.core.display.HTML object>"
      ]
     },
     "metadata": {},
     "output_type": "display_data"
    },
    {
     "name": "stderr",
     "output_type": "stream",
     "text": [
      "Frame 'SYLT' is not yet supported, using raw Frame to parse\n"
     ]
    },
    {
     "data": {
      "text/html": [],
      "text/plain": [
       "<IPython.core.display.HTML object>"
      ]
     },
     "metadata": {},
     "output_type": "display_data"
    },
    {
     "name": "stderr",
     "output_type": "stream",
     "text": [
      "Frame 'SYLT' is not yet supported, using raw Frame to parse\n"
     ]
    },
    {
     "data": {
      "text/html": [],
      "text/plain": [
       "<IPython.core.display.HTML object>"
      ]
     },
     "metadata": {},
     "output_type": "display_data"
    },
    {
     "data": {
      "text/html": [],
      "text/plain": [
       "<IPython.core.display.HTML object>"
      ]
     },
     "metadata": {},
     "output_type": "display_data"
    },
    {
     "data": {
      "text/html": [],
      "text/plain": [
       "<IPython.core.display.HTML object>"
      ]
     },
     "metadata": {},
     "output_type": "display_data"
    },
    {
     "data": {
      "text/html": [],
      "text/plain": [
       "<IPython.core.display.HTML object>"
      ]
     },
     "metadata": {},
     "output_type": "display_data"
    },
    {
     "data": {
      "text/html": [],
      "text/plain": [
       "<IPython.core.display.HTML object>"
      ]
     },
     "metadata": {},
     "output_type": "display_data"
    }
   ],
   "source": [
    "# read tags from mp3 files and predict the class (apply model)\n",
    "\n",
    "pics = [Path(mp3_path)/f for f in os.listdir(mp3_path) if f.endswith(\".png\")]\n",
    "pic_stems = []\n",
    "cats = [[] for i in range(3)]\n",
    "artists = []\n",
    "durs = []\n",
    "\n",
    "for pic in pics:\n",
    "    # identifier (file name)\n",
    "    pic_stems.append(pic.stem)\n",
    "    # tag infos\n",
    "    tag = eyed3.id3.tag.Tag()\n",
    "    tag.parse(os.path.join(mp3_path, pic.stem+\".mp3\"))\n",
    "    artists.append(tag.artist)\n",
    "    # song duration\n",
    "    audio = MP3(os.path.join(mp3_path, pic.stem+\".mp3\"))\n",
    "    durs.append(audio.info.length)\n",
    "    # prediction\n",
    "    pred = learn_c1.predict(pic)[-1]\n",
    "    for i in range(3):\n",
    "        cats[i].append(float(pred[i]))"
   ]
  },
  {
   "cell_type": "code",
   "execution_count": 7,
   "metadata": {},
   "outputs": [],
   "source": [
    "df_1 = pd.DataFrame(np.transpose([pic_stems, *cats, artists, durs]))"
   ]
  },
  {
   "cell_type": "code",
   "execution_count": 9,
   "metadata": {},
   "outputs": [
    {
     "data": {
      "text/plain": [
       "'theyouth'"
      ]
     },
     "execution_count": 9,
     "metadata": {},
     "output_type": "execute_result"
    }
   ],
   "source": [
    "if len(best_first) == 0\n",
    "    best_first = df_1.sort_values(1, ascending=False)[0].tolist()[0]\n",
    "best_first"
   ]
  },
  {
   "cell_type": "code",
   "execution_count": 13,
   "metadata": {},
   "outputs": [
    {
     "data": {
      "text/plain": [
       "'Tell Them Who You Are'"
      ]
     },
     "execution_count": 13,
     "metadata": {},
     "output_type": "execute_result"
    }
   ],
   "source": [
    "# TODO add criteria in form of user parameters\n",
    "#best_last = df_1[df_1[4] != \"Muse\"].sort_values(3, ascending=False)[0].tolist()[0]\n",
    "if len(best_last) == 0:\n",
    "    best_last = df_1.sort_values(3, ascending=False)[0].tolist()[0]\n",
    "best_last"
   ]
  },
  {
   "cell_type": "code",
   "execution_count": 15,
   "metadata": {},
   "outputs": [],
   "source": [
    "# convert to numeric (for some reason not done automatically)\n",
    "for c in df_1.columns:\n",
    "    try:\n",
    "        df_1[c] = pd.to_numeric(df_1[c])\n",
    "    except ValueError:\n",
    "        pass"
   ]
  },
  {
   "cell_type": "code",
   "execution_count": 16,
   "metadata": {},
   "outputs": [
    {
     "data": {
      "text/plain": [
       "4327.001247165533"
      ]
     },
     "execution_count": 16,
     "metadata": {},
     "output_type": "execute_result"
    }
   ],
   "source": [
    "# how much space is already used up by necessary songs\n",
    "\n",
    "to_include = sum(df_1[df_1[0].isin(keeps + [best_first, best_last])][5].tolist())\n",
    "space_left = space_total - to_include\n",
    "space_left"
   ]
  },
  {
   "cell_type": "code",
   "execution_count": 19,
   "metadata": {},
   "outputs": [],
   "source": [
    "# load model that was trained with song transitions\n",
    "learn_c2 = load_learner(Path(\"export_cat2.pkl\"))"
   ]
  },
  {
   "cell_type": "code",
   "execution_count": 20,
   "metadata": {},
   "outputs": [
    {
     "data": {
      "text/plain": [
       "22"
      ]
     },
     "execution_count": 20,
     "metadata": {},
     "output_type": "execute_result"
    }
   ],
   "source": [
    "# generate input (images) type for learn_c2 (pair of 2 songs)\n",
    "\n",
    "conts_count = 0\n",
    "for s1 in pic_stems:\n",
    "    for s2 in pic_stems:\n",
    "        if s1 == s2:\n",
    "            conts_count += 1\n",
    "            continue\n",
    "        s1_im = Image.open(mp3_path/str(s1+\".png\")).resize((200,100))\n",
    "        s2_im = Image.open(mp3_path/str(s2+\".png\")).resize((200,100))\n",
    "        all_parts = PIL.Image.new(mode = \"RGB\", size = (200, 200))\n",
    "        all_parts.paste(s1_im, (0, 0))\n",
    "        all_parts.paste(s2_im, (0, 100))\n",
    "        all_parts.save(mp3_path/\"pairs\"/str(s1 + \"_NICOASPLITTER_\" + s2 + \".png\"))\n",
    "conts_count"
   ]
  },
  {
   "cell_type": "code",
   "execution_count": 21,
   "metadata": {},
   "outputs": [
    {
     "data": {
      "text/html": [],
      "text/plain": [
       "<IPython.core.display.HTML object>"
      ]
     },
     "metadata": {},
     "output_type": "display_data"
    },
    {
     "data": {
      "text/html": [],
      "text/plain": [
       "<IPython.core.display.HTML object>"
      ]
     },
     "metadata": {},
     "output_type": "display_data"
    },
    {
     "data": {
      "text/html": [],
      "text/plain": [
       "<IPython.core.display.HTML object>"
      ]
     },
     "metadata": {},
     "output_type": "display_data"
    },
    {
     "data": {
      "text/html": [],
      "text/plain": [
       "<IPython.core.display.HTML object>"
      ]
     },
     "metadata": {},
     "output_type": "display_data"
    },
    {
     "data": {
      "text/html": [],
      "text/plain": [
       "<IPython.core.display.HTML object>"
      ]
     },
     "metadata": {},
     "output_type": "display_data"
    },
    {
     "data": {
      "text/html": [],
      "text/plain": [
       "<IPython.core.display.HTML object>"
      ]
     },
     "metadata": {},
     "output_type": "display_data"
    },
    {
     "data": {
      "text/html": [],
      "text/plain": [
       "<IPython.core.display.HTML object>"
      ]
     },
     "metadata": {},
     "output_type": "display_data"
    },
    {
     "data": {
      "text/html": [],
      "text/plain": [
       "<IPython.core.display.HTML object>"
      ]
     },
     "metadata": {},
     "output_type": "display_data"
    },
    {
     "data": {
      "text/html": [],
      "text/plain": [
       "<IPython.core.display.HTML object>"
      ]
     },
     "metadata": {},
     "output_type": "display_data"
    },
    {
     "data": {
      "text/html": [],
      "text/plain": [
       "<IPython.core.display.HTML object>"
      ]
     },
     "metadata": {},
     "output_type": "display_data"
    },
    {
     "data": {
      "text/html": [],
      "text/plain": [
       "<IPython.core.display.HTML object>"
      ]
     },
     "metadata": {},
     "output_type": "display_data"
    },
    {
     "data": {
      "text/html": [],
      "text/plain": [
       "<IPython.core.display.HTML object>"
      ]
     },
     "metadata": {},
     "output_type": "display_data"
    },
    {
     "data": {
      "text/html": [],
      "text/plain": [
       "<IPython.core.display.HTML object>"
      ]
     },
     "metadata": {},
     "output_type": "display_data"
    },
    {
     "data": {
      "text/html": [],
      "text/plain": [
       "<IPython.core.display.HTML object>"
      ]
     },
     "metadata": {},
     "output_type": "display_data"
    },
    {
     "data": {
      "text/html": [],
      "text/plain": [
       "<IPython.core.display.HTML object>"
      ]
     },
     "metadata": {},
     "output_type": "display_data"
    },
    {
     "data": {
      "text/html": [],
      "text/plain": [
       "<IPython.core.display.HTML object>"
      ]
     },
     "metadata": {},
     "output_type": "display_data"
    },
    {
     "data": {
      "text/html": [],
      "text/plain": [
       "<IPython.core.display.HTML object>"
      ]
     },
     "metadata": {},
     "output_type": "display_data"
    },
    {
     "data": {
      "text/html": [],
      "text/plain": [
       "<IPython.core.display.HTML object>"
      ]
     },
     "metadata": {},
     "output_type": "display_data"
    },
    {
     "data": {
      "text/html": [],
      "text/plain": [
       "<IPython.core.display.HTML object>"
      ]
     },
     "metadata": {},
     "output_type": "display_data"
    },
    {
     "data": {
      "text/html": [],
      "text/plain": [
       "<IPython.core.display.HTML object>"
      ]
     },
     "metadata": {},
     "output_type": "display_data"
    },
    {
     "data": {
      "text/html": [],
      "text/plain": [
       "<IPython.core.display.HTML object>"
      ]
     },
     "metadata": {},
     "output_type": "display_data"
    },
    {
     "data": {
      "text/html": [],
      "text/plain": [
       "<IPython.core.display.HTML object>"
      ]
     },
     "metadata": {},
     "output_type": "display_data"
    },
    {
     "data": {
      "text/html": [],
      "text/plain": [
       "<IPython.core.display.HTML object>"
      ]
     },
     "metadata": {},
     "output_type": "display_data"
    },
    {
     "data": {
      "text/html": [],
      "text/plain": [
       "<IPython.core.display.HTML object>"
      ]
     },
     "metadata": {},
     "output_type": "display_data"
    },
    {
     "data": {
      "text/html": [],
      "text/plain": [
       "<IPython.core.display.HTML object>"
      ]
     },
     "metadata": {},
     "output_type": "display_data"
    },
    {
     "data": {
      "text/html": [],
      "text/plain": [
       "<IPython.core.display.HTML object>"
      ]
     },
     "metadata": {},
     "output_type": "display_data"
    },
    {
     "data": {
      "text/html": [],
      "text/plain": [
       "<IPython.core.display.HTML object>"
      ]
     },
     "metadata": {},
     "output_type": "display_data"
    },
    {
     "data": {
      "text/html": [],
      "text/plain": [
       "<IPython.core.display.HTML object>"
      ]
     },
     "metadata": {},
     "output_type": "display_data"
    },
    {
     "data": {
      "text/html": [],
      "text/plain": [
       "<IPython.core.display.HTML object>"
      ]
     },
     "metadata": {},
     "output_type": "display_data"
    },
    {
     "data": {
      "text/html": [],
      "text/plain": [
       "<IPython.core.display.HTML object>"
      ]
     },
     "metadata": {},
     "output_type": "display_data"
    },
    {
     "data": {
      "text/html": [],
      "text/plain": [
       "<IPython.core.display.HTML object>"
      ]
     },
     "metadata": {},
     "output_type": "display_data"
    },
    {
     "data": {
      "text/html": [],
      "text/plain": [
       "<IPython.core.display.HTML object>"
      ]
     },
     "metadata": {},
     "output_type": "display_data"
    },
    {
     "data": {
      "text/html": [],
      "text/plain": [
       "<IPython.core.display.HTML object>"
      ]
     },
     "metadata": {},
     "output_type": "display_data"
    },
    {
     "data": {
      "text/html": [],
      "text/plain": [
       "<IPython.core.display.HTML object>"
      ]
     },
     "metadata": {},
     "output_type": "display_data"
    },
    {
     "data": {
      "text/html": [],
      "text/plain": [
       "<IPython.core.display.HTML object>"
      ]
     },
     "metadata": {},
     "output_type": "display_data"
    },
    {
     "data": {
      "text/html": [],
      "text/plain": [
       "<IPython.core.display.HTML object>"
      ]
     },
     "metadata": {},
     "output_type": "display_data"
    },
    {
     "data": {
      "text/html": [],
      "text/plain": [
       "<IPython.core.display.HTML object>"
      ]
     },
     "metadata": {},
     "output_type": "display_data"
    },
    {
     "data": {
      "text/html": [],
      "text/plain": [
       "<IPython.core.display.HTML object>"
      ]
     },
     "metadata": {},
     "output_type": "display_data"
    },
    {
     "data": {
      "text/html": [],
      "text/plain": [
       "<IPython.core.display.HTML object>"
      ]
     },
     "metadata": {},
     "output_type": "display_data"
    },
    {
     "data": {
      "text/html": [],
      "text/plain": [
       "<IPython.core.display.HTML object>"
      ]
     },
     "metadata": {},
     "output_type": "display_data"
    },
    {
     "data": {
      "text/html": [],
      "text/plain": [
       "<IPython.core.display.HTML object>"
      ]
     },
     "metadata": {},
     "output_type": "display_data"
    },
    {
     "data": {
      "text/html": [],
      "text/plain": [
       "<IPython.core.display.HTML object>"
      ]
     },
     "metadata": {},
     "output_type": "display_data"
    },
    {
     "data": {
      "text/html": [],
      "text/plain": [
       "<IPython.core.display.HTML object>"
      ]
     },
     "metadata": {},
     "output_type": "display_data"
    },
    {
     "data": {
      "text/html": [],
      "text/plain": [
       "<IPython.core.display.HTML object>"
      ]
     },
     "metadata": {},
     "output_type": "display_data"
    },
    {
     "data": {
      "text/html": [],
      "text/plain": [
       "<IPython.core.display.HTML object>"
      ]
     },
     "metadata": {},
     "output_type": "display_data"
    },
    {
     "data": {
      "text/html": [],
      "text/plain": [
       "<IPython.core.display.HTML object>"
      ]
     },
     "metadata": {},
     "output_type": "display_data"
    },
    {
     "data": {
      "text/html": [],
      "text/plain": [
       "<IPython.core.display.HTML object>"
      ]
     },
     "metadata": {},
     "output_type": "display_data"
    },
    {
     "data": {
      "text/html": [],
      "text/plain": [
       "<IPython.core.display.HTML object>"
      ]
     },
     "metadata": {},
     "output_type": "display_data"
    },
    {
     "data": {
      "text/html": [],
      "text/plain": [
       "<IPython.core.display.HTML object>"
      ]
     },
     "metadata": {},
     "output_type": "display_data"
    },
    {
     "data": {
      "text/html": [],
      "text/plain": [
       "<IPython.core.display.HTML object>"
      ]
     },
     "metadata": {},
     "output_type": "display_data"
    },
    {
     "data": {
      "text/html": [],
      "text/plain": [
       "<IPython.core.display.HTML object>"
      ]
     },
     "metadata": {},
     "output_type": "display_data"
    },
    {
     "data": {
      "text/html": [],
      "text/plain": [
       "<IPython.core.display.HTML object>"
      ]
     },
     "metadata": {},
     "output_type": "display_data"
    },
    {
     "data": {
      "text/html": [],
      "text/plain": [
       "<IPython.core.display.HTML object>"
      ]
     },
     "metadata": {},
     "output_type": "display_data"
    },
    {
     "data": {
      "text/html": [],
      "text/plain": [
       "<IPython.core.display.HTML object>"
      ]
     },
     "metadata": {},
     "output_type": "display_data"
    },
    {
     "data": {
      "text/html": [],
      "text/plain": [
       "<IPython.core.display.HTML object>"
      ]
     },
     "metadata": {},
     "output_type": "display_data"
    },
    {
     "data": {
      "text/html": [],
      "text/plain": [
       "<IPython.core.display.HTML object>"
      ]
     },
     "metadata": {},
     "output_type": "display_data"
    },
    {
     "data": {
      "text/html": [],
      "text/plain": [
       "<IPython.core.display.HTML object>"
      ]
     },
     "metadata": {},
     "output_type": "display_data"
    },
    {
     "data": {
      "text/html": [],
      "text/plain": [
       "<IPython.core.display.HTML object>"
      ]
     },
     "metadata": {},
     "output_type": "display_data"
    },
    {
     "data": {
      "text/html": [],
      "text/plain": [
       "<IPython.core.display.HTML object>"
      ]
     },
     "metadata": {},
     "output_type": "display_data"
    },
    {
     "data": {
      "text/html": [],
      "text/plain": [
       "<IPython.core.display.HTML object>"
      ]
     },
     "metadata": {},
     "output_type": "display_data"
    },
    {
     "data": {
      "text/html": [],
      "text/plain": [
       "<IPython.core.display.HTML object>"
      ]
     },
     "metadata": {},
     "output_type": "display_data"
    },
    {
     "data": {
      "text/html": [],
      "text/plain": [
       "<IPython.core.display.HTML object>"
      ]
     },
     "metadata": {},
     "output_type": "display_data"
    },
    {
     "data": {
      "text/html": [],
      "text/plain": [
       "<IPython.core.display.HTML object>"
      ]
     },
     "metadata": {},
     "output_type": "display_data"
    },
    {
     "data": {
      "text/html": [],
      "text/plain": [
       "<IPython.core.display.HTML object>"
      ]
     },
     "metadata": {},
     "output_type": "display_data"
    },
    {
     "data": {
      "text/html": [],
      "text/plain": [
       "<IPython.core.display.HTML object>"
      ]
     },
     "metadata": {},
     "output_type": "display_data"
    },
    {
     "data": {
      "text/html": [],
      "text/plain": [
       "<IPython.core.display.HTML object>"
      ]
     },
     "metadata": {},
     "output_type": "display_data"
    },
    {
     "data": {
      "text/html": [],
      "text/plain": [
       "<IPython.core.display.HTML object>"
      ]
     },
     "metadata": {},
     "output_type": "display_data"
    },
    {
     "data": {
      "text/html": [],
      "text/plain": [
       "<IPython.core.display.HTML object>"
      ]
     },
     "metadata": {},
     "output_type": "display_data"
    },
    {
     "data": {
      "text/html": [],
      "text/plain": [
       "<IPython.core.display.HTML object>"
      ]
     },
     "metadata": {},
     "output_type": "display_data"
    },
    {
     "data": {
      "text/html": [],
      "text/plain": [
       "<IPython.core.display.HTML object>"
      ]
     },
     "metadata": {},
     "output_type": "display_data"
    },
    {
     "data": {
      "text/html": [],
      "text/plain": [
       "<IPython.core.display.HTML object>"
      ]
     },
     "metadata": {},
     "output_type": "display_data"
    },
    {
     "data": {
      "text/html": [],
      "text/plain": [
       "<IPython.core.display.HTML object>"
      ]
     },
     "metadata": {},
     "output_type": "display_data"
    },
    {
     "data": {
      "text/html": [],
      "text/plain": [
       "<IPython.core.display.HTML object>"
      ]
     },
     "metadata": {},
     "output_type": "display_data"
    },
    {
     "data": {
      "text/html": [],
      "text/plain": [
       "<IPython.core.display.HTML object>"
      ]
     },
     "metadata": {},
     "output_type": "display_data"
    },
    {
     "data": {
      "text/html": [],
      "text/plain": [
       "<IPython.core.display.HTML object>"
      ]
     },
     "metadata": {},
     "output_type": "display_data"
    },
    {
     "data": {
      "text/html": [],
      "text/plain": [
       "<IPython.core.display.HTML object>"
      ]
     },
     "metadata": {},
     "output_type": "display_data"
    },
    {
     "data": {
      "text/html": [],
      "text/plain": [
       "<IPython.core.display.HTML object>"
      ]
     },
     "metadata": {},
     "output_type": "display_data"
    },
    {
     "data": {
      "text/html": [],
      "text/plain": [
       "<IPython.core.display.HTML object>"
      ]
     },
     "metadata": {},
     "output_type": "display_data"
    },
    {
     "data": {
      "text/html": [],
      "text/plain": [
       "<IPython.core.display.HTML object>"
      ]
     },
     "metadata": {},
     "output_type": "display_data"
    },
    {
     "data": {
      "text/html": [],
      "text/plain": [
       "<IPython.core.display.HTML object>"
      ]
     },
     "metadata": {},
     "output_type": "display_data"
    },
    {
     "data": {
      "text/html": [],
      "text/plain": [
       "<IPython.core.display.HTML object>"
      ]
     },
     "metadata": {},
     "output_type": "display_data"
    },
    {
     "data": {
      "text/html": [],
      "text/plain": [
       "<IPython.core.display.HTML object>"
      ]
     },
     "metadata": {},
     "output_type": "display_data"
    },
    {
     "data": {
      "text/html": [],
      "text/plain": [
       "<IPython.core.display.HTML object>"
      ]
     },
     "metadata": {},
     "output_type": "display_data"
    },
    {
     "data": {
      "text/html": [],
      "text/plain": [
       "<IPython.core.display.HTML object>"
      ]
     },
     "metadata": {},
     "output_type": "display_data"
    },
    {
     "data": {
      "text/html": [],
      "text/plain": [
       "<IPython.core.display.HTML object>"
      ]
     },
     "metadata": {},
     "output_type": "display_data"
    },
    {
     "data": {
      "text/html": [],
      "text/plain": [
       "<IPython.core.display.HTML object>"
      ]
     },
     "metadata": {},
     "output_type": "display_data"
    },
    {
     "data": {
      "text/html": [],
      "text/plain": [
       "<IPython.core.display.HTML object>"
      ]
     },
     "metadata": {},
     "output_type": "display_data"
    },
    {
     "data": {
      "text/html": [],
      "text/plain": [
       "<IPython.core.display.HTML object>"
      ]
     },
     "metadata": {},
     "output_type": "display_data"
    },
    {
     "data": {
      "text/html": [],
      "text/plain": [
       "<IPython.core.display.HTML object>"
      ]
     },
     "metadata": {},
     "output_type": "display_data"
    },
    {
     "data": {
      "text/html": [],
      "text/plain": [
       "<IPython.core.display.HTML object>"
      ]
     },
     "metadata": {},
     "output_type": "display_data"
    },
    {
     "data": {
      "text/html": [],
      "text/plain": [
       "<IPython.core.display.HTML object>"
      ]
     },
     "metadata": {},
     "output_type": "display_data"
    },
    {
     "data": {
      "text/html": [],
      "text/plain": [
       "<IPython.core.display.HTML object>"
      ]
     },
     "metadata": {},
     "output_type": "display_data"
    },
    {
     "data": {
      "text/html": [],
      "text/plain": [
       "<IPython.core.display.HTML object>"
      ]
     },
     "metadata": {},
     "output_type": "display_data"
    },
    {
     "data": {
      "text/html": [],
      "text/plain": [
       "<IPython.core.display.HTML object>"
      ]
     },
     "metadata": {},
     "output_type": "display_data"
    },
    {
     "data": {
      "text/html": [],
      "text/plain": [
       "<IPython.core.display.HTML object>"
      ]
     },
     "metadata": {},
     "output_type": "display_data"
    },
    {
     "data": {
      "text/html": [],
      "text/plain": [
       "<IPython.core.display.HTML object>"
      ]
     },
     "metadata": {},
     "output_type": "display_data"
    },
    {
     "data": {
      "text/html": [],
      "text/plain": [
       "<IPython.core.display.HTML object>"
      ]
     },
     "metadata": {},
     "output_type": "display_data"
    },
    {
     "data": {
      "text/html": [],
      "text/plain": [
       "<IPython.core.display.HTML object>"
      ]
     },
     "metadata": {},
     "output_type": "display_data"
    },
    {
     "data": {
      "text/html": [],
      "text/plain": [
       "<IPython.core.display.HTML object>"
      ]
     },
     "metadata": {},
     "output_type": "display_data"
    },
    {
     "data": {
      "text/html": [],
      "text/plain": [
       "<IPython.core.display.HTML object>"
      ]
     },
     "metadata": {},
     "output_type": "display_data"
    },
    {
     "data": {
      "text/html": [],
      "text/plain": [
       "<IPython.core.display.HTML object>"
      ]
     },
     "metadata": {},
     "output_type": "display_data"
    },
    {
     "data": {
      "text/html": [],
      "text/plain": [
       "<IPython.core.display.HTML object>"
      ]
     },
     "metadata": {},
     "output_type": "display_data"
    },
    {
     "data": {
      "text/html": [],
      "text/plain": [
       "<IPython.core.display.HTML object>"
      ]
     },
     "metadata": {},
     "output_type": "display_data"
    },
    {
     "data": {
      "text/html": [],
      "text/plain": [
       "<IPython.core.display.HTML object>"
      ]
     },
     "metadata": {},
     "output_type": "display_data"
    },
    {
     "data": {
      "text/html": [],
      "text/plain": [
       "<IPython.core.display.HTML object>"
      ]
     },
     "metadata": {},
     "output_type": "display_data"
    },
    {
     "data": {
      "text/html": [],
      "text/plain": [
       "<IPython.core.display.HTML object>"
      ]
     },
     "metadata": {},
     "output_type": "display_data"
    },
    {
     "data": {
      "text/html": [],
      "text/plain": [
       "<IPython.core.display.HTML object>"
      ]
     },
     "metadata": {},
     "output_type": "display_data"
    },
    {
     "data": {
      "text/html": [],
      "text/plain": [
       "<IPython.core.display.HTML object>"
      ]
     },
     "metadata": {},
     "output_type": "display_data"
    },
    {
     "data": {
      "text/html": [],
      "text/plain": [
       "<IPython.core.display.HTML object>"
      ]
     },
     "metadata": {},
     "output_type": "display_data"
    },
    {
     "data": {
      "text/html": [],
      "text/plain": [
       "<IPython.core.display.HTML object>"
      ]
     },
     "metadata": {},
     "output_type": "display_data"
    },
    {
     "data": {
      "text/html": [],
      "text/plain": [
       "<IPython.core.display.HTML object>"
      ]
     },
     "metadata": {},
     "output_type": "display_data"
    },
    {
     "data": {
      "text/html": [],
      "text/plain": [
       "<IPython.core.display.HTML object>"
      ]
     },
     "metadata": {},
     "output_type": "display_data"
    },
    {
     "data": {
      "text/html": [],
      "text/plain": [
       "<IPython.core.display.HTML object>"
      ]
     },
     "metadata": {},
     "output_type": "display_data"
    },
    {
     "data": {
      "text/html": [],
      "text/plain": [
       "<IPython.core.display.HTML object>"
      ]
     },
     "metadata": {},
     "output_type": "display_data"
    },
    {
     "data": {
      "text/html": [],
      "text/plain": [
       "<IPython.core.display.HTML object>"
      ]
     },
     "metadata": {},
     "output_type": "display_data"
    },
    {
     "data": {
      "text/html": [],
      "text/plain": [
       "<IPython.core.display.HTML object>"
      ]
     },
     "metadata": {},
     "output_type": "display_data"
    },
    {
     "data": {
      "text/html": [],
      "text/plain": [
       "<IPython.core.display.HTML object>"
      ]
     },
     "metadata": {},
     "output_type": "display_data"
    },
    {
     "data": {
      "text/html": [],
      "text/plain": [
       "<IPython.core.display.HTML object>"
      ]
     },
     "metadata": {},
     "output_type": "display_data"
    },
    {
     "data": {
      "text/html": [],
      "text/plain": [
       "<IPython.core.display.HTML object>"
      ]
     },
     "metadata": {},
     "output_type": "display_data"
    },
    {
     "data": {
      "text/html": [],
      "text/plain": [
       "<IPython.core.display.HTML object>"
      ]
     },
     "metadata": {},
     "output_type": "display_data"
    },
    {
     "data": {
      "text/html": [],
      "text/plain": [
       "<IPython.core.display.HTML object>"
      ]
     },
     "metadata": {},
     "output_type": "display_data"
    },
    {
     "data": {
      "text/html": [],
      "text/plain": [
       "<IPython.core.display.HTML object>"
      ]
     },
     "metadata": {},
     "output_type": "display_data"
    },
    {
     "data": {
      "text/html": [],
      "text/plain": [
       "<IPython.core.display.HTML object>"
      ]
     },
     "metadata": {},
     "output_type": "display_data"
    },
    {
     "data": {
      "text/html": [],
      "text/plain": [
       "<IPython.core.display.HTML object>"
      ]
     },
     "metadata": {},
     "output_type": "display_data"
    },
    {
     "data": {
      "text/html": [],
      "text/plain": [
       "<IPython.core.display.HTML object>"
      ]
     },
     "metadata": {},
     "output_type": "display_data"
    },
    {
     "data": {
      "text/html": [],
      "text/plain": [
       "<IPython.core.display.HTML object>"
      ]
     },
     "metadata": {},
     "output_type": "display_data"
    },
    {
     "data": {
      "text/html": [],
      "text/plain": [
       "<IPython.core.display.HTML object>"
      ]
     },
     "metadata": {},
     "output_type": "display_data"
    },
    {
     "data": {
      "text/html": [],
      "text/plain": [
       "<IPython.core.display.HTML object>"
      ]
     },
     "metadata": {},
     "output_type": "display_data"
    },
    {
     "data": {
      "text/html": [],
      "text/plain": [
       "<IPython.core.display.HTML object>"
      ]
     },
     "metadata": {},
     "output_type": "display_data"
    },
    {
     "data": {
      "text/html": [],
      "text/plain": [
       "<IPython.core.display.HTML object>"
      ]
     },
     "metadata": {},
     "output_type": "display_data"
    },
    {
     "data": {
      "text/html": [],
      "text/plain": [
       "<IPython.core.display.HTML object>"
      ]
     },
     "metadata": {},
     "output_type": "display_data"
    },
    {
     "data": {
      "text/html": [],
      "text/plain": [
       "<IPython.core.display.HTML object>"
      ]
     },
     "metadata": {},
     "output_type": "display_data"
    },
    {
     "data": {
      "text/html": [],
      "text/plain": [
       "<IPython.core.display.HTML object>"
      ]
     },
     "metadata": {},
     "output_type": "display_data"
    },
    {
     "data": {
      "text/html": [],
      "text/plain": [
       "<IPython.core.display.HTML object>"
      ]
     },
     "metadata": {},
     "output_type": "display_data"
    },
    {
     "data": {
      "text/html": [],
      "text/plain": [
       "<IPython.core.display.HTML object>"
      ]
     },
     "metadata": {},
     "output_type": "display_data"
    },
    {
     "data": {
      "text/html": [],
      "text/plain": [
       "<IPython.core.display.HTML object>"
      ]
     },
     "metadata": {},
     "output_type": "display_data"
    },
    {
     "data": {
      "text/html": [],
      "text/plain": [
       "<IPython.core.display.HTML object>"
      ]
     },
     "metadata": {},
     "output_type": "display_data"
    },
    {
     "data": {
      "text/html": [],
      "text/plain": [
       "<IPython.core.display.HTML object>"
      ]
     },
     "metadata": {},
     "output_type": "display_data"
    },
    {
     "data": {
      "text/html": [],
      "text/plain": [
       "<IPython.core.display.HTML object>"
      ]
     },
     "metadata": {},
     "output_type": "display_data"
    },
    {
     "data": {
      "text/html": [],
      "text/plain": [
       "<IPython.core.display.HTML object>"
      ]
     },
     "metadata": {},
     "output_type": "display_data"
    },
    {
     "data": {
      "text/html": [],
      "text/plain": [
       "<IPython.core.display.HTML object>"
      ]
     },
     "metadata": {},
     "output_type": "display_data"
    },
    {
     "data": {
      "text/html": [],
      "text/plain": [
       "<IPython.core.display.HTML object>"
      ]
     },
     "metadata": {},
     "output_type": "display_data"
    },
    {
     "data": {
      "text/html": [],
      "text/plain": [
       "<IPython.core.display.HTML object>"
      ]
     },
     "metadata": {},
     "output_type": "display_data"
    },
    {
     "data": {
      "text/html": [],
      "text/plain": [
       "<IPython.core.display.HTML object>"
      ]
     },
     "metadata": {},
     "output_type": "display_data"
    },
    {
     "data": {
      "text/html": [],
      "text/plain": [
       "<IPython.core.display.HTML object>"
      ]
     },
     "metadata": {},
     "output_type": "display_data"
    },
    {
     "data": {
      "text/html": [],
      "text/plain": [
       "<IPython.core.display.HTML object>"
      ]
     },
     "metadata": {},
     "output_type": "display_data"
    },
    {
     "data": {
      "text/html": [],
      "text/plain": [
       "<IPython.core.display.HTML object>"
      ]
     },
     "metadata": {},
     "output_type": "display_data"
    },
    {
     "data": {
      "text/html": [],
      "text/plain": [
       "<IPython.core.display.HTML object>"
      ]
     },
     "metadata": {},
     "output_type": "display_data"
    },
    {
     "data": {
      "text/html": [],
      "text/plain": [
       "<IPython.core.display.HTML object>"
      ]
     },
     "metadata": {},
     "output_type": "display_data"
    },
    {
     "data": {
      "text/html": [],
      "text/plain": [
       "<IPython.core.display.HTML object>"
      ]
     },
     "metadata": {},
     "output_type": "display_data"
    },
    {
     "data": {
      "text/html": [],
      "text/plain": [
       "<IPython.core.display.HTML object>"
      ]
     },
     "metadata": {},
     "output_type": "display_data"
    },
    {
     "data": {
      "text/html": [],
      "text/plain": [
       "<IPython.core.display.HTML object>"
      ]
     },
     "metadata": {},
     "output_type": "display_data"
    },
    {
     "data": {
      "text/html": [],
      "text/plain": [
       "<IPython.core.display.HTML object>"
      ]
     },
     "metadata": {},
     "output_type": "display_data"
    },
    {
     "data": {
      "text/html": [],
      "text/plain": [
       "<IPython.core.display.HTML object>"
      ]
     },
     "metadata": {},
     "output_type": "display_data"
    },
    {
     "data": {
      "text/html": [],
      "text/plain": [
       "<IPython.core.display.HTML object>"
      ]
     },
     "metadata": {},
     "output_type": "display_data"
    },
    {
     "data": {
      "text/html": [],
      "text/plain": [
       "<IPython.core.display.HTML object>"
      ]
     },
     "metadata": {},
     "output_type": "display_data"
    },
    {
     "data": {
      "text/html": [],
      "text/plain": [
       "<IPython.core.display.HTML object>"
      ]
     },
     "metadata": {},
     "output_type": "display_data"
    },
    {
     "data": {
      "text/html": [],
      "text/plain": [
       "<IPython.core.display.HTML object>"
      ]
     },
     "metadata": {},
     "output_type": "display_data"
    },
    {
     "data": {
      "text/html": [],
      "text/plain": [
       "<IPython.core.display.HTML object>"
      ]
     },
     "metadata": {},
     "output_type": "display_data"
    },
    {
     "data": {
      "text/html": [],
      "text/plain": [
       "<IPython.core.display.HTML object>"
      ]
     },
     "metadata": {},
     "output_type": "display_data"
    },
    {
     "data": {
      "text/html": [],
      "text/plain": [
       "<IPython.core.display.HTML object>"
      ]
     },
     "metadata": {},
     "output_type": "display_data"
    },
    {
     "data": {
      "text/html": [],
      "text/plain": [
       "<IPython.core.display.HTML object>"
      ]
     },
     "metadata": {},
     "output_type": "display_data"
    },
    {
     "data": {
      "text/html": [],
      "text/plain": [
       "<IPython.core.display.HTML object>"
      ]
     },
     "metadata": {},
     "output_type": "display_data"
    },
    {
     "data": {
      "text/html": [],
      "text/plain": [
       "<IPython.core.display.HTML object>"
      ]
     },
     "metadata": {},
     "output_type": "display_data"
    },
    {
     "data": {
      "text/html": [],
      "text/plain": [
       "<IPython.core.display.HTML object>"
      ]
     },
     "metadata": {},
     "output_type": "display_data"
    },
    {
     "data": {
      "text/html": [],
      "text/plain": [
       "<IPython.core.display.HTML object>"
      ]
     },
     "metadata": {},
     "output_type": "display_data"
    },
    {
     "data": {
      "text/html": [],
      "text/plain": [
       "<IPython.core.display.HTML object>"
      ]
     },
     "metadata": {},
     "output_type": "display_data"
    },
    {
     "data": {
      "text/html": [],
      "text/plain": [
       "<IPython.core.display.HTML object>"
      ]
     },
     "metadata": {},
     "output_type": "display_data"
    },
    {
     "data": {
      "text/html": [],
      "text/plain": [
       "<IPython.core.display.HTML object>"
      ]
     },
     "metadata": {},
     "output_type": "display_data"
    },
    {
     "data": {
      "text/html": [],
      "text/plain": [
       "<IPython.core.display.HTML object>"
      ]
     },
     "metadata": {},
     "output_type": "display_data"
    },
    {
     "data": {
      "text/html": [],
      "text/plain": [
       "<IPython.core.display.HTML object>"
      ]
     },
     "metadata": {},
     "output_type": "display_data"
    },
    {
     "data": {
      "text/html": [],
      "text/plain": [
       "<IPython.core.display.HTML object>"
      ]
     },
     "metadata": {},
     "output_type": "display_data"
    },
    {
     "data": {
      "text/html": [],
      "text/plain": [
       "<IPython.core.display.HTML object>"
      ]
     },
     "metadata": {},
     "output_type": "display_data"
    },
    {
     "data": {
      "text/html": [],
      "text/plain": [
       "<IPython.core.display.HTML object>"
      ]
     },
     "metadata": {},
     "output_type": "display_data"
    },
    {
     "data": {
      "text/html": [],
      "text/plain": [
       "<IPython.core.display.HTML object>"
      ]
     },
     "metadata": {},
     "output_type": "display_data"
    },
    {
     "data": {
      "text/html": [],
      "text/plain": [
       "<IPython.core.display.HTML object>"
      ]
     },
     "metadata": {},
     "output_type": "display_data"
    },
    {
     "data": {
      "text/html": [],
      "text/plain": [
       "<IPython.core.display.HTML object>"
      ]
     },
     "metadata": {},
     "output_type": "display_data"
    },
    {
     "data": {
      "text/html": [],
      "text/plain": [
       "<IPython.core.display.HTML object>"
      ]
     },
     "metadata": {},
     "output_type": "display_data"
    },
    {
     "data": {
      "text/html": [],
      "text/plain": [
       "<IPython.core.display.HTML object>"
      ]
     },
     "metadata": {},
     "output_type": "display_data"
    },
    {
     "data": {
      "text/html": [],
      "text/plain": [
       "<IPython.core.display.HTML object>"
      ]
     },
     "metadata": {},
     "output_type": "display_data"
    },
    {
     "data": {
      "text/html": [],
      "text/plain": [
       "<IPython.core.display.HTML object>"
      ]
     },
     "metadata": {},
     "output_type": "display_data"
    },
    {
     "data": {
      "text/html": [],
      "text/plain": [
       "<IPython.core.display.HTML object>"
      ]
     },
     "metadata": {},
     "output_type": "display_data"
    },
    {
     "data": {
      "text/html": [],
      "text/plain": [
       "<IPython.core.display.HTML object>"
      ]
     },
     "metadata": {},
     "output_type": "display_data"
    },
    {
     "data": {
      "text/html": [],
      "text/plain": [
       "<IPython.core.display.HTML object>"
      ]
     },
     "metadata": {},
     "output_type": "display_data"
    },
    {
     "data": {
      "text/html": [],
      "text/plain": [
       "<IPython.core.display.HTML object>"
      ]
     },
     "metadata": {},
     "output_type": "display_data"
    },
    {
     "data": {
      "text/html": [],
      "text/plain": [
       "<IPython.core.display.HTML object>"
      ]
     },
     "metadata": {},
     "output_type": "display_data"
    },
    {
     "data": {
      "text/html": [],
      "text/plain": [
       "<IPython.core.display.HTML object>"
      ]
     },
     "metadata": {},
     "output_type": "display_data"
    },
    {
     "data": {
      "text/html": [],
      "text/plain": [
       "<IPython.core.display.HTML object>"
      ]
     },
     "metadata": {},
     "output_type": "display_data"
    },
    {
     "data": {
      "text/html": [],
      "text/plain": [
       "<IPython.core.display.HTML object>"
      ]
     },
     "metadata": {},
     "output_type": "display_data"
    },
    {
     "data": {
      "text/html": [],
      "text/plain": [
       "<IPython.core.display.HTML object>"
      ]
     },
     "metadata": {},
     "output_type": "display_data"
    },
    {
     "data": {
      "text/html": [],
      "text/plain": [
       "<IPython.core.display.HTML object>"
      ]
     },
     "metadata": {},
     "output_type": "display_data"
    },
    {
     "data": {
      "text/html": [],
      "text/plain": [
       "<IPython.core.display.HTML object>"
      ]
     },
     "metadata": {},
     "output_type": "display_data"
    },
    {
     "data": {
      "text/html": [],
      "text/plain": [
       "<IPython.core.display.HTML object>"
      ]
     },
     "metadata": {},
     "output_type": "display_data"
    },
    {
     "data": {
      "text/html": [],
      "text/plain": [
       "<IPython.core.display.HTML object>"
      ]
     },
     "metadata": {},
     "output_type": "display_data"
    },
    {
     "data": {
      "text/html": [],
      "text/plain": [
       "<IPython.core.display.HTML object>"
      ]
     },
     "metadata": {},
     "output_type": "display_data"
    },
    {
     "data": {
      "text/html": [],
      "text/plain": [
       "<IPython.core.display.HTML object>"
      ]
     },
     "metadata": {},
     "output_type": "display_data"
    },
    {
     "data": {
      "text/html": [],
      "text/plain": [
       "<IPython.core.display.HTML object>"
      ]
     },
     "metadata": {},
     "output_type": "display_data"
    },
    {
     "data": {
      "text/html": [],
      "text/plain": [
       "<IPython.core.display.HTML object>"
      ]
     },
     "metadata": {},
     "output_type": "display_data"
    },
    {
     "data": {
      "text/html": [],
      "text/plain": [
       "<IPython.core.display.HTML object>"
      ]
     },
     "metadata": {},
     "output_type": "display_data"
    },
    {
     "data": {
      "text/html": [],
      "text/plain": [
       "<IPython.core.display.HTML object>"
      ]
     },
     "metadata": {},
     "output_type": "display_data"
    },
    {
     "data": {
      "text/html": [],
      "text/plain": [
       "<IPython.core.display.HTML object>"
      ]
     },
     "metadata": {},
     "output_type": "display_data"
    },
    {
     "data": {
      "text/html": [],
      "text/plain": [
       "<IPython.core.display.HTML object>"
      ]
     },
     "metadata": {},
     "output_type": "display_data"
    },
    {
     "data": {
      "text/html": [],
      "text/plain": [
       "<IPython.core.display.HTML object>"
      ]
     },
     "metadata": {},
     "output_type": "display_data"
    },
    {
     "data": {
      "text/html": [],
      "text/plain": [
       "<IPython.core.display.HTML object>"
      ]
     },
     "metadata": {},
     "output_type": "display_data"
    },
    {
     "data": {
      "text/html": [],
      "text/plain": [
       "<IPython.core.display.HTML object>"
      ]
     },
     "metadata": {},
     "output_type": "display_data"
    },
    {
     "data": {
      "text/html": [],
      "text/plain": [
       "<IPython.core.display.HTML object>"
      ]
     },
     "metadata": {},
     "output_type": "display_data"
    },
    {
     "data": {
      "text/html": [],
      "text/plain": [
       "<IPython.core.display.HTML object>"
      ]
     },
     "metadata": {},
     "output_type": "display_data"
    },
    {
     "data": {
      "text/html": [],
      "text/plain": [
       "<IPython.core.display.HTML object>"
      ]
     },
     "metadata": {},
     "output_type": "display_data"
    },
    {
     "data": {
      "text/html": [],
      "text/plain": [
       "<IPython.core.display.HTML object>"
      ]
     },
     "metadata": {},
     "output_type": "display_data"
    },
    {
     "data": {
      "text/html": [],
      "text/plain": [
       "<IPython.core.display.HTML object>"
      ]
     },
     "metadata": {},
     "output_type": "display_data"
    },
    {
     "data": {
      "text/html": [],
      "text/plain": [
       "<IPython.core.display.HTML object>"
      ]
     },
     "metadata": {},
     "output_type": "display_data"
    },
    {
     "data": {
      "text/html": [],
      "text/plain": [
       "<IPython.core.display.HTML object>"
      ]
     },
     "metadata": {},
     "output_type": "display_data"
    },
    {
     "data": {
      "text/html": [],
      "text/plain": [
       "<IPython.core.display.HTML object>"
      ]
     },
     "metadata": {},
     "output_type": "display_data"
    },
    {
     "data": {
      "text/html": [],
      "text/plain": [
       "<IPython.core.display.HTML object>"
      ]
     },
     "metadata": {},
     "output_type": "display_data"
    },
    {
     "data": {
      "text/html": [],
      "text/plain": [
       "<IPython.core.display.HTML object>"
      ]
     },
     "metadata": {},
     "output_type": "display_data"
    },
    {
     "data": {
      "text/html": [],
      "text/plain": [
       "<IPython.core.display.HTML object>"
      ]
     },
     "metadata": {},
     "output_type": "display_data"
    },
    {
     "data": {
      "text/html": [],
      "text/plain": [
       "<IPython.core.display.HTML object>"
      ]
     },
     "metadata": {},
     "output_type": "display_data"
    },
    {
     "data": {
      "text/html": [],
      "text/plain": [
       "<IPython.core.display.HTML object>"
      ]
     },
     "metadata": {},
     "output_type": "display_data"
    },
    {
     "data": {
      "text/html": [],
      "text/plain": [
       "<IPython.core.display.HTML object>"
      ]
     },
     "metadata": {},
     "output_type": "display_data"
    },
    {
     "data": {
      "text/html": [],
      "text/plain": [
       "<IPython.core.display.HTML object>"
      ]
     },
     "metadata": {},
     "output_type": "display_data"
    },
    {
     "data": {
      "text/html": [],
      "text/plain": [
       "<IPython.core.display.HTML object>"
      ]
     },
     "metadata": {},
     "output_type": "display_data"
    },
    {
     "data": {
      "text/html": [],
      "text/plain": [
       "<IPython.core.display.HTML object>"
      ]
     },
     "metadata": {},
     "output_type": "display_data"
    },
    {
     "data": {
      "text/html": [],
      "text/plain": [
       "<IPython.core.display.HTML object>"
      ]
     },
     "metadata": {},
     "output_type": "display_data"
    },
    {
     "data": {
      "text/html": [],
      "text/plain": [
       "<IPython.core.display.HTML object>"
      ]
     },
     "metadata": {},
     "output_type": "display_data"
    },
    {
     "data": {
      "text/html": [],
      "text/plain": [
       "<IPython.core.display.HTML object>"
      ]
     },
     "metadata": {},
     "output_type": "display_data"
    },
    {
     "data": {
      "text/html": [],
      "text/plain": [
       "<IPython.core.display.HTML object>"
      ]
     },
     "metadata": {},
     "output_type": "display_data"
    },
    {
     "data": {
      "text/html": [],
      "text/plain": [
       "<IPython.core.display.HTML object>"
      ]
     },
     "metadata": {},
     "output_type": "display_data"
    },
    {
     "data": {
      "text/html": [],
      "text/plain": [
       "<IPython.core.display.HTML object>"
      ]
     },
     "metadata": {},
     "output_type": "display_data"
    },
    {
     "data": {
      "text/html": [],
      "text/plain": [
       "<IPython.core.display.HTML object>"
      ]
     },
     "metadata": {},
     "output_type": "display_data"
    },
    {
     "data": {
      "text/html": [],
      "text/plain": [
       "<IPython.core.display.HTML object>"
      ]
     },
     "metadata": {},
     "output_type": "display_data"
    },
    {
     "data": {
      "text/html": [],
      "text/plain": [
       "<IPython.core.display.HTML object>"
      ]
     },
     "metadata": {},
     "output_type": "display_data"
    },
    {
     "data": {
      "text/html": [],
      "text/plain": [
       "<IPython.core.display.HTML object>"
      ]
     },
     "metadata": {},
     "output_type": "display_data"
    },
    {
     "data": {
      "text/html": [],
      "text/plain": [
       "<IPython.core.display.HTML object>"
      ]
     },
     "metadata": {},
     "output_type": "display_data"
    },
    {
     "data": {
      "text/html": [],
      "text/plain": [
       "<IPython.core.display.HTML object>"
      ]
     },
     "metadata": {},
     "output_type": "display_data"
    },
    {
     "data": {
      "text/html": [],
      "text/plain": [
       "<IPython.core.display.HTML object>"
      ]
     },
     "metadata": {},
     "output_type": "display_data"
    },
    {
     "data": {
      "text/html": [],
      "text/plain": [
       "<IPython.core.display.HTML object>"
      ]
     },
     "metadata": {},
     "output_type": "display_data"
    },
    {
     "data": {
      "text/html": [],
      "text/plain": [
       "<IPython.core.display.HTML object>"
      ]
     },
     "metadata": {},
     "output_type": "display_data"
    },
    {
     "data": {
      "text/html": [],
      "text/plain": [
       "<IPython.core.display.HTML object>"
      ]
     },
     "metadata": {},
     "output_type": "display_data"
    },
    {
     "data": {
      "text/html": [],
      "text/plain": [
       "<IPython.core.display.HTML object>"
      ]
     },
     "metadata": {},
     "output_type": "display_data"
    },
    {
     "data": {
      "text/html": [],
      "text/plain": [
       "<IPython.core.display.HTML object>"
      ]
     },
     "metadata": {},
     "output_type": "display_data"
    },
    {
     "data": {
      "text/html": [],
      "text/plain": [
       "<IPython.core.display.HTML object>"
      ]
     },
     "metadata": {},
     "output_type": "display_data"
    },
    {
     "data": {
      "text/html": [],
      "text/plain": [
       "<IPython.core.display.HTML object>"
      ]
     },
     "metadata": {},
     "output_type": "display_data"
    },
    {
     "data": {
      "text/html": [],
      "text/plain": [
       "<IPython.core.display.HTML object>"
      ]
     },
     "metadata": {},
     "output_type": "display_data"
    },
    {
     "data": {
      "text/html": [],
      "text/plain": [
       "<IPython.core.display.HTML object>"
      ]
     },
     "metadata": {},
     "output_type": "display_data"
    },
    {
     "data": {
      "text/html": [],
      "text/plain": [
       "<IPython.core.display.HTML object>"
      ]
     },
     "metadata": {},
     "output_type": "display_data"
    },
    {
     "data": {
      "text/html": [],
      "text/plain": [
       "<IPython.core.display.HTML object>"
      ]
     },
     "metadata": {},
     "output_type": "display_data"
    },
    {
     "data": {
      "text/html": [],
      "text/plain": [
       "<IPython.core.display.HTML object>"
      ]
     },
     "metadata": {},
     "output_type": "display_data"
    },
    {
     "data": {
      "text/html": [],
      "text/plain": [
       "<IPython.core.display.HTML object>"
      ]
     },
     "metadata": {},
     "output_type": "display_data"
    },
    {
     "data": {
      "text/html": [],
      "text/plain": [
       "<IPython.core.display.HTML object>"
      ]
     },
     "metadata": {},
     "output_type": "display_data"
    },
    {
     "data": {
      "text/html": [],
      "text/plain": [
       "<IPython.core.display.HTML object>"
      ]
     },
     "metadata": {},
     "output_type": "display_data"
    },
    {
     "data": {
      "text/html": [],
      "text/plain": [
       "<IPython.core.display.HTML object>"
      ]
     },
     "metadata": {},
     "output_type": "display_data"
    },
    {
     "data": {
      "text/html": [],
      "text/plain": [
       "<IPython.core.display.HTML object>"
      ]
     },
     "metadata": {},
     "output_type": "display_data"
    },
    {
     "data": {
      "text/html": [],
      "text/plain": [
       "<IPython.core.display.HTML object>"
      ]
     },
     "metadata": {},
     "output_type": "display_data"
    },
    {
     "data": {
      "text/html": [],
      "text/plain": [
       "<IPython.core.display.HTML object>"
      ]
     },
     "metadata": {},
     "output_type": "display_data"
    },
    {
     "data": {
      "text/html": [],
      "text/plain": [
       "<IPython.core.display.HTML object>"
      ]
     },
     "metadata": {},
     "output_type": "display_data"
    },
    {
     "data": {
      "text/html": [],
      "text/plain": [
       "<IPython.core.display.HTML object>"
      ]
     },
     "metadata": {},
     "output_type": "display_data"
    },
    {
     "data": {
      "text/html": [],
      "text/plain": [
       "<IPython.core.display.HTML object>"
      ]
     },
     "metadata": {},
     "output_type": "display_data"
    },
    {
     "data": {
      "text/html": [],
      "text/plain": [
       "<IPython.core.display.HTML object>"
      ]
     },
     "metadata": {},
     "output_type": "display_data"
    },
    {
     "data": {
      "text/html": [],
      "text/plain": [
       "<IPython.core.display.HTML object>"
      ]
     },
     "metadata": {},
     "output_type": "display_data"
    },
    {
     "data": {
      "text/html": [],
      "text/plain": [
       "<IPython.core.display.HTML object>"
      ]
     },
     "metadata": {},
     "output_type": "display_data"
    },
    {
     "data": {
      "text/html": [],
      "text/plain": [
       "<IPython.core.display.HTML object>"
      ]
     },
     "metadata": {},
     "output_type": "display_data"
    },
    {
     "data": {
      "text/html": [],
      "text/plain": [
       "<IPython.core.display.HTML object>"
      ]
     },
     "metadata": {},
     "output_type": "display_data"
    },
    {
     "data": {
      "text/html": [],
      "text/plain": [
       "<IPython.core.display.HTML object>"
      ]
     },
     "metadata": {},
     "output_type": "display_data"
    },
    {
     "data": {
      "text/html": [],
      "text/plain": [
       "<IPython.core.display.HTML object>"
      ]
     },
     "metadata": {},
     "output_type": "display_data"
    },
    {
     "data": {
      "text/html": [],
      "text/plain": [
       "<IPython.core.display.HTML object>"
      ]
     },
     "metadata": {},
     "output_type": "display_data"
    },
    {
     "data": {
      "text/html": [],
      "text/plain": [
       "<IPython.core.display.HTML object>"
      ]
     },
     "metadata": {},
     "output_type": "display_data"
    },
    {
     "data": {
      "text/html": [],
      "text/plain": [
       "<IPython.core.display.HTML object>"
      ]
     },
     "metadata": {},
     "output_type": "display_data"
    },
    {
     "data": {
      "text/html": [],
      "text/plain": [
       "<IPython.core.display.HTML object>"
      ]
     },
     "metadata": {},
     "output_type": "display_data"
    },
    {
     "data": {
      "text/html": [],
      "text/plain": [
       "<IPython.core.display.HTML object>"
      ]
     },
     "metadata": {},
     "output_type": "display_data"
    },
    {
     "data": {
      "text/html": [],
      "text/plain": [
       "<IPython.core.display.HTML object>"
      ]
     },
     "metadata": {},
     "output_type": "display_data"
    },
    {
     "data": {
      "text/html": [],
      "text/plain": [
       "<IPython.core.display.HTML object>"
      ]
     },
     "metadata": {},
     "output_type": "display_data"
    },
    {
     "data": {
      "text/html": [],
      "text/plain": [
       "<IPython.core.display.HTML object>"
      ]
     },
     "metadata": {},
     "output_type": "display_data"
    },
    {
     "data": {
      "text/html": [],
      "text/plain": [
       "<IPython.core.display.HTML object>"
      ]
     },
     "metadata": {},
     "output_type": "display_data"
    },
    {
     "data": {
      "text/html": [],
      "text/plain": [
       "<IPython.core.display.HTML object>"
      ]
     },
     "metadata": {},
     "output_type": "display_data"
    },
    {
     "data": {
      "text/html": [],
      "text/plain": [
       "<IPython.core.display.HTML object>"
      ]
     },
     "metadata": {},
     "output_type": "display_data"
    },
    {
     "data": {
      "text/html": [],
      "text/plain": [
       "<IPython.core.display.HTML object>"
      ]
     },
     "metadata": {},
     "output_type": "display_data"
    },
    {
     "data": {
      "text/html": [],
      "text/plain": [
       "<IPython.core.display.HTML object>"
      ]
     },
     "metadata": {},
     "output_type": "display_data"
    },
    {
     "data": {
      "text/html": [],
      "text/plain": [
       "<IPython.core.display.HTML object>"
      ]
     },
     "metadata": {},
     "output_type": "display_data"
    },
    {
     "data": {
      "text/html": [],
      "text/plain": [
       "<IPython.core.display.HTML object>"
      ]
     },
     "metadata": {},
     "output_type": "display_data"
    },
    {
     "data": {
      "text/html": [],
      "text/plain": [
       "<IPython.core.display.HTML object>"
      ]
     },
     "metadata": {},
     "output_type": "display_data"
    },
    {
     "data": {
      "text/html": [],
      "text/plain": [
       "<IPython.core.display.HTML object>"
      ]
     },
     "metadata": {},
     "output_type": "display_data"
    },
    {
     "data": {
      "text/html": [],
      "text/plain": [
       "<IPython.core.display.HTML object>"
      ]
     },
     "metadata": {},
     "output_type": "display_data"
    },
    {
     "data": {
      "text/html": [],
      "text/plain": [
       "<IPython.core.display.HTML object>"
      ]
     },
     "metadata": {},
     "output_type": "display_data"
    },
    {
     "data": {
      "text/html": [],
      "text/plain": [
       "<IPython.core.display.HTML object>"
      ]
     },
     "metadata": {},
     "output_type": "display_data"
    },
    {
     "data": {
      "text/html": [],
      "text/plain": [
       "<IPython.core.display.HTML object>"
      ]
     },
     "metadata": {},
     "output_type": "display_data"
    },
    {
     "data": {
      "text/html": [],
      "text/plain": [
       "<IPython.core.display.HTML object>"
      ]
     },
     "metadata": {},
     "output_type": "display_data"
    },
    {
     "data": {
      "text/html": [],
      "text/plain": [
       "<IPython.core.display.HTML object>"
      ]
     },
     "metadata": {},
     "output_type": "display_data"
    },
    {
     "data": {
      "text/html": [],
      "text/plain": [
       "<IPython.core.display.HTML object>"
      ]
     },
     "metadata": {},
     "output_type": "display_data"
    },
    {
     "data": {
      "text/html": [],
      "text/plain": [
       "<IPython.core.display.HTML object>"
      ]
     },
     "metadata": {},
     "output_type": "display_data"
    },
    {
     "data": {
      "text/html": [],
      "text/plain": [
       "<IPython.core.display.HTML object>"
      ]
     },
     "metadata": {},
     "output_type": "display_data"
    },
    {
     "data": {
      "text/html": [],
      "text/plain": [
       "<IPython.core.display.HTML object>"
      ]
     },
     "metadata": {},
     "output_type": "display_data"
    },
    {
     "data": {
      "text/html": [],
      "text/plain": [
       "<IPython.core.display.HTML object>"
      ]
     },
     "metadata": {},
     "output_type": "display_data"
    },
    {
     "data": {
      "text/html": [],
      "text/plain": [
       "<IPython.core.display.HTML object>"
      ]
     },
     "metadata": {},
     "output_type": "display_data"
    },
    {
     "data": {
      "text/html": [],
      "text/plain": [
       "<IPython.core.display.HTML object>"
      ]
     },
     "metadata": {},
     "output_type": "display_data"
    },
    {
     "data": {
      "text/html": [],
      "text/plain": [
       "<IPython.core.display.HTML object>"
      ]
     },
     "metadata": {},
     "output_type": "display_data"
    },
    {
     "data": {
      "text/html": [],
      "text/plain": [
       "<IPython.core.display.HTML object>"
      ]
     },
     "metadata": {},
     "output_type": "display_data"
    },
    {
     "data": {
      "text/html": [],
      "text/plain": [
       "<IPython.core.display.HTML object>"
      ]
     },
     "metadata": {},
     "output_type": "display_data"
    },
    {
     "data": {
      "text/html": [],
      "text/plain": [
       "<IPython.core.display.HTML object>"
      ]
     },
     "metadata": {},
     "output_type": "display_data"
    },
    {
     "data": {
      "text/html": [],
      "text/plain": [
       "<IPython.core.display.HTML object>"
      ]
     },
     "metadata": {},
     "output_type": "display_data"
    },
    {
     "data": {
      "text/html": [],
      "text/plain": [
       "<IPython.core.display.HTML object>"
      ]
     },
     "metadata": {},
     "output_type": "display_data"
    },
    {
     "data": {
      "text/html": [],
      "text/plain": [
       "<IPython.core.display.HTML object>"
      ]
     },
     "metadata": {},
     "output_type": "display_data"
    },
    {
     "data": {
      "text/html": [],
      "text/plain": [
       "<IPython.core.display.HTML object>"
      ]
     },
     "metadata": {},
     "output_type": "display_data"
    },
    {
     "data": {
      "text/html": [],
      "text/plain": [
       "<IPython.core.display.HTML object>"
      ]
     },
     "metadata": {},
     "output_type": "display_data"
    },
    {
     "data": {
      "text/html": [],
      "text/plain": [
       "<IPython.core.display.HTML object>"
      ]
     },
     "metadata": {},
     "output_type": "display_data"
    },
    {
     "data": {
      "text/html": [],
      "text/plain": [
       "<IPython.core.display.HTML object>"
      ]
     },
     "metadata": {},
     "output_type": "display_data"
    },
    {
     "data": {
      "text/html": [],
      "text/plain": [
       "<IPython.core.display.HTML object>"
      ]
     },
     "metadata": {},
     "output_type": "display_data"
    },
    {
     "data": {
      "text/html": [],
      "text/plain": [
       "<IPython.core.display.HTML object>"
      ]
     },
     "metadata": {},
     "output_type": "display_data"
    },
    {
     "data": {
      "text/html": [],
      "text/plain": [
       "<IPython.core.display.HTML object>"
      ]
     },
     "metadata": {},
     "output_type": "display_data"
    },
    {
     "data": {
      "text/html": [],
      "text/plain": [
       "<IPython.core.display.HTML object>"
      ]
     },
     "metadata": {},
     "output_type": "display_data"
    },
    {
     "data": {
      "text/html": [],
      "text/plain": [
       "<IPython.core.display.HTML object>"
      ]
     },
     "metadata": {},
     "output_type": "display_data"
    },
    {
     "data": {
      "text/html": [],
      "text/plain": [
       "<IPython.core.display.HTML object>"
      ]
     },
     "metadata": {},
     "output_type": "display_data"
    },
    {
     "data": {
      "text/html": [],
      "text/plain": [
       "<IPython.core.display.HTML object>"
      ]
     },
     "metadata": {},
     "output_type": "display_data"
    },
    {
     "data": {
      "text/html": [],
      "text/plain": [
       "<IPython.core.display.HTML object>"
      ]
     },
     "metadata": {},
     "output_type": "display_data"
    },
    {
     "data": {
      "text/html": [],
      "text/plain": [
       "<IPython.core.display.HTML object>"
      ]
     },
     "metadata": {},
     "output_type": "display_data"
    },
    {
     "data": {
      "text/html": [],
      "text/plain": [
       "<IPython.core.display.HTML object>"
      ]
     },
     "metadata": {},
     "output_type": "display_data"
    },
    {
     "data": {
      "text/html": [],
      "text/plain": [
       "<IPython.core.display.HTML object>"
      ]
     },
     "metadata": {},
     "output_type": "display_data"
    },
    {
     "data": {
      "text/html": [],
      "text/plain": [
       "<IPython.core.display.HTML object>"
      ]
     },
     "metadata": {},
     "output_type": "display_data"
    },
    {
     "data": {
      "text/html": [],
      "text/plain": [
       "<IPython.core.display.HTML object>"
      ]
     },
     "metadata": {},
     "output_type": "display_data"
    },
    {
     "data": {
      "text/html": [],
      "text/plain": [
       "<IPython.core.display.HTML object>"
      ]
     },
     "metadata": {},
     "output_type": "display_data"
    },
    {
     "data": {
      "text/html": [],
      "text/plain": [
       "<IPython.core.display.HTML object>"
      ]
     },
     "metadata": {},
     "output_type": "display_data"
    },
    {
     "data": {
      "text/html": [],
      "text/plain": [
       "<IPython.core.display.HTML object>"
      ]
     },
     "metadata": {},
     "output_type": "display_data"
    },
    {
     "data": {
      "text/html": [],
      "text/plain": [
       "<IPython.core.display.HTML object>"
      ]
     },
     "metadata": {},
     "output_type": "display_data"
    },
    {
     "data": {
      "text/html": [],
      "text/plain": [
       "<IPython.core.display.HTML object>"
      ]
     },
     "metadata": {},
     "output_type": "display_data"
    },
    {
     "data": {
      "text/html": [],
      "text/plain": [
       "<IPython.core.display.HTML object>"
      ]
     },
     "metadata": {},
     "output_type": "display_data"
    },
    {
     "data": {
      "text/html": [],
      "text/plain": [
       "<IPython.core.display.HTML object>"
      ]
     },
     "metadata": {},
     "output_type": "display_data"
    },
    {
     "data": {
      "text/html": [],
      "text/plain": [
       "<IPython.core.display.HTML object>"
      ]
     },
     "metadata": {},
     "output_type": "display_data"
    },
    {
     "data": {
      "text/html": [],
      "text/plain": [
       "<IPython.core.display.HTML object>"
      ]
     },
     "metadata": {},
     "output_type": "display_data"
    },
    {
     "data": {
      "text/html": [],
      "text/plain": [
       "<IPython.core.display.HTML object>"
      ]
     },
     "metadata": {},
     "output_type": "display_data"
    },
    {
     "data": {
      "text/html": [],
      "text/plain": [
       "<IPython.core.display.HTML object>"
      ]
     },
     "metadata": {},
     "output_type": "display_data"
    },
    {
     "data": {
      "text/html": [],
      "text/plain": [
       "<IPython.core.display.HTML object>"
      ]
     },
     "metadata": {},
     "output_type": "display_data"
    },
    {
     "data": {
      "text/html": [],
      "text/plain": [
       "<IPython.core.display.HTML object>"
      ]
     },
     "metadata": {},
     "output_type": "display_data"
    },
    {
     "data": {
      "text/html": [],
      "text/plain": [
       "<IPython.core.display.HTML object>"
      ]
     },
     "metadata": {},
     "output_type": "display_data"
    },
    {
     "data": {
      "text/html": [],
      "text/plain": [
       "<IPython.core.display.HTML object>"
      ]
     },
     "metadata": {},
     "output_type": "display_data"
    },
    {
     "data": {
      "text/html": [],
      "text/plain": [
       "<IPython.core.display.HTML object>"
      ]
     },
     "metadata": {},
     "output_type": "display_data"
    },
    {
     "data": {
      "text/html": [],
      "text/plain": [
       "<IPython.core.display.HTML object>"
      ]
     },
     "metadata": {},
     "output_type": "display_data"
    },
    {
     "data": {
      "text/html": [],
      "text/plain": [
       "<IPython.core.display.HTML object>"
      ]
     },
     "metadata": {},
     "output_type": "display_data"
    },
    {
     "data": {
      "text/html": [],
      "text/plain": [
       "<IPython.core.display.HTML object>"
      ]
     },
     "metadata": {},
     "output_type": "display_data"
    },
    {
     "data": {
      "text/html": [],
      "text/plain": [
       "<IPython.core.display.HTML object>"
      ]
     },
     "metadata": {},
     "output_type": "display_data"
    },
    {
     "data": {
      "text/html": [],
      "text/plain": [
       "<IPython.core.display.HTML object>"
      ]
     },
     "metadata": {},
     "output_type": "display_data"
    },
    {
     "data": {
      "text/html": [],
      "text/plain": [
       "<IPython.core.display.HTML object>"
      ]
     },
     "metadata": {},
     "output_type": "display_data"
    },
    {
     "data": {
      "text/html": [],
      "text/plain": [
       "<IPython.core.display.HTML object>"
      ]
     },
     "metadata": {},
     "output_type": "display_data"
    },
    {
     "data": {
      "text/html": [],
      "text/plain": [
       "<IPython.core.display.HTML object>"
      ]
     },
     "metadata": {},
     "output_type": "display_data"
    },
    {
     "data": {
      "text/html": [],
      "text/plain": [
       "<IPython.core.display.HTML object>"
      ]
     },
     "metadata": {},
     "output_type": "display_data"
    },
    {
     "data": {
      "text/html": [],
      "text/plain": [
       "<IPython.core.display.HTML object>"
      ]
     },
     "metadata": {},
     "output_type": "display_data"
    },
    {
     "data": {
      "text/html": [],
      "text/plain": [
       "<IPython.core.display.HTML object>"
      ]
     },
     "metadata": {},
     "output_type": "display_data"
    },
    {
     "data": {
      "text/html": [],
      "text/plain": [
       "<IPython.core.display.HTML object>"
      ]
     },
     "metadata": {},
     "output_type": "display_data"
    },
    {
     "data": {
      "text/html": [],
      "text/plain": [
       "<IPython.core.display.HTML object>"
      ]
     },
     "metadata": {},
     "output_type": "display_data"
    },
    {
     "data": {
      "text/html": [],
      "text/plain": [
       "<IPython.core.display.HTML object>"
      ]
     },
     "metadata": {},
     "output_type": "display_data"
    },
    {
     "data": {
      "text/html": [],
      "text/plain": [
       "<IPython.core.display.HTML object>"
      ]
     },
     "metadata": {},
     "output_type": "display_data"
    },
    {
     "data": {
      "text/html": [],
      "text/plain": [
       "<IPython.core.display.HTML object>"
      ]
     },
     "metadata": {},
     "output_type": "display_data"
    },
    {
     "data": {
      "text/html": [],
      "text/plain": [
       "<IPython.core.display.HTML object>"
      ]
     },
     "metadata": {},
     "output_type": "display_data"
    },
    {
     "data": {
      "text/html": [],
      "text/plain": [
       "<IPython.core.display.HTML object>"
      ]
     },
     "metadata": {},
     "output_type": "display_data"
    },
    {
     "data": {
      "text/html": [],
      "text/plain": [
       "<IPython.core.display.HTML object>"
      ]
     },
     "metadata": {},
     "output_type": "display_data"
    },
    {
     "data": {
      "text/html": [],
      "text/plain": [
       "<IPython.core.display.HTML object>"
      ]
     },
     "metadata": {},
     "output_type": "display_data"
    },
    {
     "data": {
      "text/html": [],
      "text/plain": [
       "<IPython.core.display.HTML object>"
      ]
     },
     "metadata": {},
     "output_type": "display_data"
    },
    {
     "data": {
      "text/html": [],
      "text/plain": [
       "<IPython.core.display.HTML object>"
      ]
     },
     "metadata": {},
     "output_type": "display_data"
    },
    {
     "data": {
      "text/html": [],
      "text/plain": [
       "<IPython.core.display.HTML object>"
      ]
     },
     "metadata": {},
     "output_type": "display_data"
    },
    {
     "data": {
      "text/html": [],
      "text/plain": [
       "<IPython.core.display.HTML object>"
      ]
     },
     "metadata": {},
     "output_type": "display_data"
    },
    {
     "data": {
      "text/html": [],
      "text/plain": [
       "<IPython.core.display.HTML object>"
      ]
     },
     "metadata": {},
     "output_type": "display_data"
    },
    {
     "data": {
      "text/html": [],
      "text/plain": [
       "<IPython.core.display.HTML object>"
      ]
     },
     "metadata": {},
     "output_type": "display_data"
    },
    {
     "data": {
      "text/html": [],
      "text/plain": [
       "<IPython.core.display.HTML object>"
      ]
     },
     "metadata": {},
     "output_type": "display_data"
    },
    {
     "data": {
      "text/html": [],
      "text/plain": [
       "<IPython.core.display.HTML object>"
      ]
     },
     "metadata": {},
     "output_type": "display_data"
    },
    {
     "data": {
      "text/html": [],
      "text/plain": [
       "<IPython.core.display.HTML object>"
      ]
     },
     "metadata": {},
     "output_type": "display_data"
    },
    {
     "data": {
      "text/html": [],
      "text/plain": [
       "<IPython.core.display.HTML object>"
      ]
     },
     "metadata": {},
     "output_type": "display_data"
    },
    {
     "data": {
      "text/html": [],
      "text/plain": [
       "<IPython.core.display.HTML object>"
      ]
     },
     "metadata": {},
     "output_type": "display_data"
    },
    {
     "data": {
      "text/html": [],
      "text/plain": [
       "<IPython.core.display.HTML object>"
      ]
     },
     "metadata": {},
     "output_type": "display_data"
    },
    {
     "data": {
      "text/html": [],
      "text/plain": [
       "<IPython.core.display.HTML object>"
      ]
     },
     "metadata": {},
     "output_type": "display_data"
    },
    {
     "data": {
      "text/html": [],
      "text/plain": [
       "<IPython.core.display.HTML object>"
      ]
     },
     "metadata": {},
     "output_type": "display_data"
    },
    {
     "data": {
      "text/html": [],
      "text/plain": [
       "<IPython.core.display.HTML object>"
      ]
     },
     "metadata": {},
     "output_type": "display_data"
    },
    {
     "data": {
      "text/html": [],
      "text/plain": [
       "<IPython.core.display.HTML object>"
      ]
     },
     "metadata": {},
     "output_type": "display_data"
    },
    {
     "data": {
      "text/html": [],
      "text/plain": [
       "<IPython.core.display.HTML object>"
      ]
     },
     "metadata": {},
     "output_type": "display_data"
    },
    {
     "data": {
      "text/html": [],
      "text/plain": [
       "<IPython.core.display.HTML object>"
      ]
     },
     "metadata": {},
     "output_type": "display_data"
    },
    {
     "data": {
      "text/html": [],
      "text/plain": [
       "<IPython.core.display.HTML object>"
      ]
     },
     "metadata": {},
     "output_type": "display_data"
    },
    {
     "data": {
      "text/html": [],
      "text/plain": [
       "<IPython.core.display.HTML object>"
      ]
     },
     "metadata": {},
     "output_type": "display_data"
    },
    {
     "data": {
      "text/html": [],
      "text/plain": [
       "<IPython.core.display.HTML object>"
      ]
     },
     "metadata": {},
     "output_type": "display_data"
    },
    {
     "data": {
      "text/html": [],
      "text/plain": [
       "<IPython.core.display.HTML object>"
      ]
     },
     "metadata": {},
     "output_type": "display_data"
    },
    {
     "data": {
      "text/html": [],
      "text/plain": [
       "<IPython.core.display.HTML object>"
      ]
     },
     "metadata": {},
     "output_type": "display_data"
    },
    {
     "data": {
      "text/html": [],
      "text/plain": [
       "<IPython.core.display.HTML object>"
      ]
     },
     "metadata": {},
     "output_type": "display_data"
    },
    {
     "data": {
      "text/html": [],
      "text/plain": [
       "<IPython.core.display.HTML object>"
      ]
     },
     "metadata": {},
     "output_type": "display_data"
    },
    {
     "data": {
      "text/html": [],
      "text/plain": [
       "<IPython.core.display.HTML object>"
      ]
     },
     "metadata": {},
     "output_type": "display_data"
    },
    {
     "data": {
      "text/html": [],
      "text/plain": [
       "<IPython.core.display.HTML object>"
      ]
     },
     "metadata": {},
     "output_type": "display_data"
    },
    {
     "data": {
      "text/html": [],
      "text/plain": [
       "<IPython.core.display.HTML object>"
      ]
     },
     "metadata": {},
     "output_type": "display_data"
    },
    {
     "data": {
      "text/html": [],
      "text/plain": [
       "<IPython.core.display.HTML object>"
      ]
     },
     "metadata": {},
     "output_type": "display_data"
    },
    {
     "data": {
      "text/html": [],
      "text/plain": [
       "<IPython.core.display.HTML object>"
      ]
     },
     "metadata": {},
     "output_type": "display_data"
    },
    {
     "data": {
      "text/html": [],
      "text/plain": [
       "<IPython.core.display.HTML object>"
      ]
     },
     "metadata": {},
     "output_type": "display_data"
    },
    {
     "data": {
      "text/html": [],
      "text/plain": [
       "<IPython.core.display.HTML object>"
      ]
     },
     "metadata": {},
     "output_type": "display_data"
    },
    {
     "data": {
      "text/html": [],
      "text/plain": [
       "<IPython.core.display.HTML object>"
      ]
     },
     "metadata": {},
     "output_type": "display_data"
    },
    {
     "data": {
      "text/html": [],
      "text/plain": [
       "<IPython.core.display.HTML object>"
      ]
     },
     "metadata": {},
     "output_type": "display_data"
    },
    {
     "data": {
      "text/html": [],
      "text/plain": [
       "<IPython.core.display.HTML object>"
      ]
     },
     "metadata": {},
     "output_type": "display_data"
    },
    {
     "data": {
      "text/html": [],
      "text/plain": [
       "<IPython.core.display.HTML object>"
      ]
     },
     "metadata": {},
     "output_type": "display_data"
    },
    {
     "data": {
      "text/html": [],
      "text/plain": [
       "<IPython.core.display.HTML object>"
      ]
     },
     "metadata": {},
     "output_type": "display_data"
    },
    {
     "data": {
      "text/html": [],
      "text/plain": [
       "<IPython.core.display.HTML object>"
      ]
     },
     "metadata": {},
     "output_type": "display_data"
    },
    {
     "data": {
      "text/html": [],
      "text/plain": [
       "<IPython.core.display.HTML object>"
      ]
     },
     "metadata": {},
     "output_type": "display_data"
    },
    {
     "data": {
      "text/html": [],
      "text/plain": [
       "<IPython.core.display.HTML object>"
      ]
     },
     "metadata": {},
     "output_type": "display_data"
    },
    {
     "data": {
      "text/html": [],
      "text/plain": [
       "<IPython.core.display.HTML object>"
      ]
     },
     "metadata": {},
     "output_type": "display_data"
    },
    {
     "data": {
      "text/html": [],
      "text/plain": [
       "<IPython.core.display.HTML object>"
      ]
     },
     "metadata": {},
     "output_type": "display_data"
    },
    {
     "data": {
      "text/html": [],
      "text/plain": [
       "<IPython.core.display.HTML object>"
      ]
     },
     "metadata": {},
     "output_type": "display_data"
    },
    {
     "data": {
      "text/html": [],
      "text/plain": [
       "<IPython.core.display.HTML object>"
      ]
     },
     "metadata": {},
     "output_type": "display_data"
    },
    {
     "data": {
      "text/html": [],
      "text/plain": [
       "<IPython.core.display.HTML object>"
      ]
     },
     "metadata": {},
     "output_type": "display_data"
    },
    {
     "data": {
      "text/html": [],
      "text/plain": [
       "<IPython.core.display.HTML object>"
      ]
     },
     "metadata": {},
     "output_type": "display_data"
    },
    {
     "data": {
      "text/html": [],
      "text/plain": [
       "<IPython.core.display.HTML object>"
      ]
     },
     "metadata": {},
     "output_type": "display_data"
    },
    {
     "data": {
      "text/html": [],
      "text/plain": [
       "<IPython.core.display.HTML object>"
      ]
     },
     "metadata": {},
     "output_type": "display_data"
    },
    {
     "data": {
      "text/html": [],
      "text/plain": [
       "<IPython.core.display.HTML object>"
      ]
     },
     "metadata": {},
     "output_type": "display_data"
    },
    {
     "data": {
      "text/html": [],
      "text/plain": [
       "<IPython.core.display.HTML object>"
      ]
     },
     "metadata": {},
     "output_type": "display_data"
    },
    {
     "data": {
      "text/html": [],
      "text/plain": [
       "<IPython.core.display.HTML object>"
      ]
     },
     "metadata": {},
     "output_type": "display_data"
    },
    {
     "data": {
      "text/html": [],
      "text/plain": [
       "<IPython.core.display.HTML object>"
      ]
     },
     "metadata": {},
     "output_type": "display_data"
    },
    {
     "data": {
      "text/html": [],
      "text/plain": [
       "<IPython.core.display.HTML object>"
      ]
     },
     "metadata": {},
     "output_type": "display_data"
    },
    {
     "data": {
      "text/html": [],
      "text/plain": [
       "<IPython.core.display.HTML object>"
      ]
     },
     "metadata": {},
     "output_type": "display_data"
    },
    {
     "data": {
      "text/html": [],
      "text/plain": [
       "<IPython.core.display.HTML object>"
      ]
     },
     "metadata": {},
     "output_type": "display_data"
    },
    {
     "data": {
      "text/html": [],
      "text/plain": [
       "<IPython.core.display.HTML object>"
      ]
     },
     "metadata": {},
     "output_type": "display_data"
    },
    {
     "data": {
      "text/html": [],
      "text/plain": [
       "<IPython.core.display.HTML object>"
      ]
     },
     "metadata": {},
     "output_type": "display_data"
    },
    {
     "data": {
      "text/html": [],
      "text/plain": [
       "<IPython.core.display.HTML object>"
      ]
     },
     "metadata": {},
     "output_type": "display_data"
    },
    {
     "data": {
      "text/html": [],
      "text/plain": [
       "<IPython.core.display.HTML object>"
      ]
     },
     "metadata": {},
     "output_type": "display_data"
    },
    {
     "data": {
      "text/html": [],
      "text/plain": [
       "<IPython.core.display.HTML object>"
      ]
     },
     "metadata": {},
     "output_type": "display_data"
    },
    {
     "data": {
      "text/html": [],
      "text/plain": [
       "<IPython.core.display.HTML object>"
      ]
     },
     "metadata": {},
     "output_type": "display_data"
    },
    {
     "data": {
      "text/html": [],
      "text/plain": [
       "<IPython.core.display.HTML object>"
      ]
     },
     "metadata": {},
     "output_type": "display_data"
    },
    {
     "data": {
      "text/html": [],
      "text/plain": [
       "<IPython.core.display.HTML object>"
      ]
     },
     "metadata": {},
     "output_type": "display_data"
    },
    {
     "data": {
      "text/html": [],
      "text/plain": [
       "<IPython.core.display.HTML object>"
      ]
     },
     "metadata": {},
     "output_type": "display_data"
    },
    {
     "data": {
      "text/html": [],
      "text/plain": [
       "<IPython.core.display.HTML object>"
      ]
     },
     "metadata": {},
     "output_type": "display_data"
    },
    {
     "data": {
      "text/html": [],
      "text/plain": [
       "<IPython.core.display.HTML object>"
      ]
     },
     "metadata": {},
     "output_type": "display_data"
    },
    {
     "data": {
      "text/html": [],
      "text/plain": [
       "<IPython.core.display.HTML object>"
      ]
     },
     "metadata": {},
     "output_type": "display_data"
    },
    {
     "data": {
      "text/html": [],
      "text/plain": [
       "<IPython.core.display.HTML object>"
      ]
     },
     "metadata": {},
     "output_type": "display_data"
    },
    {
     "data": {
      "text/html": [],
      "text/plain": [
       "<IPython.core.display.HTML object>"
      ]
     },
     "metadata": {},
     "output_type": "display_data"
    },
    {
     "data": {
      "text/html": [],
      "text/plain": [
       "<IPython.core.display.HTML object>"
      ]
     },
     "metadata": {},
     "output_type": "display_data"
    },
    {
     "data": {
      "text/html": [],
      "text/plain": [
       "<IPython.core.display.HTML object>"
      ]
     },
     "metadata": {},
     "output_type": "display_data"
    },
    {
     "data": {
      "text/html": [],
      "text/plain": [
       "<IPython.core.display.HTML object>"
      ]
     },
     "metadata": {},
     "output_type": "display_data"
    },
    {
     "data": {
      "text/html": [],
      "text/plain": [
       "<IPython.core.display.HTML object>"
      ]
     },
     "metadata": {},
     "output_type": "display_data"
    },
    {
     "data": {
      "text/html": [],
      "text/plain": [
       "<IPython.core.display.HTML object>"
      ]
     },
     "metadata": {},
     "output_type": "display_data"
    },
    {
     "data": {
      "text/html": [],
      "text/plain": [
       "<IPython.core.display.HTML object>"
      ]
     },
     "metadata": {},
     "output_type": "display_data"
    },
    {
     "data": {
      "text/html": [],
      "text/plain": [
       "<IPython.core.display.HTML object>"
      ]
     },
     "metadata": {},
     "output_type": "display_data"
    },
    {
     "data": {
      "text/html": [],
      "text/plain": [
       "<IPython.core.display.HTML object>"
      ]
     },
     "metadata": {},
     "output_type": "display_data"
    },
    {
     "data": {
      "text/html": [],
      "text/plain": [
       "<IPython.core.display.HTML object>"
      ]
     },
     "metadata": {},
     "output_type": "display_data"
    },
    {
     "data": {
      "text/html": [],
      "text/plain": [
       "<IPython.core.display.HTML object>"
      ]
     },
     "metadata": {},
     "output_type": "display_data"
    },
    {
     "data": {
      "text/html": [],
      "text/plain": [
       "<IPython.core.display.HTML object>"
      ]
     },
     "metadata": {},
     "output_type": "display_data"
    },
    {
     "data": {
      "text/html": [],
      "text/plain": [
       "<IPython.core.display.HTML object>"
      ]
     },
     "metadata": {},
     "output_type": "display_data"
    },
    {
     "data": {
      "text/html": [],
      "text/plain": [
       "<IPython.core.display.HTML object>"
      ]
     },
     "metadata": {},
     "output_type": "display_data"
    },
    {
     "data": {
      "text/html": [],
      "text/plain": [
       "<IPython.core.display.HTML object>"
      ]
     },
     "metadata": {},
     "output_type": "display_data"
    },
    {
     "data": {
      "text/html": [],
      "text/plain": [
       "<IPython.core.display.HTML object>"
      ]
     },
     "metadata": {},
     "output_type": "display_data"
    },
    {
     "data": {
      "text/html": [],
      "text/plain": [
       "<IPython.core.display.HTML object>"
      ]
     },
     "metadata": {},
     "output_type": "display_data"
    },
    {
     "data": {
      "text/html": [],
      "text/plain": [
       "<IPython.core.display.HTML object>"
      ]
     },
     "metadata": {},
     "output_type": "display_data"
    },
    {
     "data": {
      "text/html": [],
      "text/plain": [
       "<IPython.core.display.HTML object>"
      ]
     },
     "metadata": {},
     "output_type": "display_data"
    },
    {
     "data": {
      "text/html": [],
      "text/plain": [
       "<IPython.core.display.HTML object>"
      ]
     },
     "metadata": {},
     "output_type": "display_data"
    },
    {
     "data": {
      "text/html": [],
      "text/plain": [
       "<IPython.core.display.HTML object>"
      ]
     },
     "metadata": {},
     "output_type": "display_data"
    },
    {
     "data": {
      "text/html": [],
      "text/plain": [
       "<IPython.core.display.HTML object>"
      ]
     },
     "metadata": {},
     "output_type": "display_data"
    },
    {
     "data": {
      "text/html": [],
      "text/plain": [
       "<IPython.core.display.HTML object>"
      ]
     },
     "metadata": {},
     "output_type": "display_data"
    },
    {
     "data": {
      "text/html": [],
      "text/plain": [
       "<IPython.core.display.HTML object>"
      ]
     },
     "metadata": {},
     "output_type": "display_data"
    },
    {
     "data": {
      "text/html": [],
      "text/plain": [
       "<IPython.core.display.HTML object>"
      ]
     },
     "metadata": {},
     "output_type": "display_data"
    },
    {
     "data": {
      "text/html": [],
      "text/plain": [
       "<IPython.core.display.HTML object>"
      ]
     },
     "metadata": {},
     "output_type": "display_data"
    },
    {
     "data": {
      "text/html": [],
      "text/plain": [
       "<IPython.core.display.HTML object>"
      ]
     },
     "metadata": {},
     "output_type": "display_data"
    },
    {
     "data": {
      "text/html": [],
      "text/plain": [
       "<IPython.core.display.HTML object>"
      ]
     },
     "metadata": {},
     "output_type": "display_data"
    },
    {
     "data": {
      "text/html": [],
      "text/plain": [
       "<IPython.core.display.HTML object>"
      ]
     },
     "metadata": {},
     "output_type": "display_data"
    },
    {
     "data": {
      "text/html": [],
      "text/plain": [
       "<IPython.core.display.HTML object>"
      ]
     },
     "metadata": {},
     "output_type": "display_data"
    },
    {
     "data": {
      "text/html": [],
      "text/plain": [
       "<IPython.core.display.HTML object>"
      ]
     },
     "metadata": {},
     "output_type": "display_data"
    },
    {
     "data": {
      "text/html": [],
      "text/plain": [
       "<IPython.core.display.HTML object>"
      ]
     },
     "metadata": {},
     "output_type": "display_data"
    },
    {
     "data": {
      "text/html": [],
      "text/plain": [
       "<IPython.core.display.HTML object>"
      ]
     },
     "metadata": {},
     "output_type": "display_data"
    },
    {
     "data": {
      "text/html": [],
      "text/plain": [
       "<IPython.core.display.HTML object>"
      ]
     },
     "metadata": {},
     "output_type": "display_data"
    },
    {
     "data": {
      "text/html": [],
      "text/plain": [
       "<IPython.core.display.HTML object>"
      ]
     },
     "metadata": {},
     "output_type": "display_data"
    },
    {
     "data": {
      "text/html": [],
      "text/plain": [
       "<IPython.core.display.HTML object>"
      ]
     },
     "metadata": {},
     "output_type": "display_data"
    },
    {
     "data": {
      "text/html": [],
      "text/plain": [
       "<IPython.core.display.HTML object>"
      ]
     },
     "metadata": {},
     "output_type": "display_data"
    },
    {
     "data": {
      "text/html": [],
      "text/plain": [
       "<IPython.core.display.HTML object>"
      ]
     },
     "metadata": {},
     "output_type": "display_data"
    },
    {
     "data": {
      "text/html": [],
      "text/plain": [
       "<IPython.core.display.HTML object>"
      ]
     },
     "metadata": {},
     "output_type": "display_data"
    },
    {
     "data": {
      "text/html": [],
      "text/plain": [
       "<IPython.core.display.HTML object>"
      ]
     },
     "metadata": {},
     "output_type": "display_data"
    }
   ],
   "source": [
    "# get model predictions for all possible song transitions\n",
    "\n",
    "cats = [[] for i in range(4)]\n",
    "s1s = []\n",
    "s2s = []\n",
    "for pic in os.listdir(mp3_path/\"pairs\"):\n",
    "    # identifier (file name)\n",
    "    pic_stem = pic.split(\".png\")[0]\n",
    "    s1s.append(pic_stem.split(\"_NICOASPLITTER_\")[0])\n",
    "    s2s.append(pic_stem.split(\"_NICOASPLITTER_\")[1])\n",
    "    # prediction\n",
    "    pred = learn_c2.predict(mp3_path/\"pairs\"/pic)\n",
    "    #preds.append(pred[0])\n",
    "    #full_preds.append(pred)\n",
    "    for i in range(4):\n",
    "        cats[i].append(float(pred[-1][i]))"
   ]
  },
  {
   "cell_type": "code",
   "execution_count": 29,
   "metadata": {},
   "outputs": [],
   "source": [
    "df_2 = pd.DataFrame(np.transpose([s1s, s2s, *cats]))\n",
    "\n",
    "# convert to numeric (for some reason not done automatically)\n",
    "for c in df_2.columns:\n",
    "    try:\n",
    "        df_2[c] = pd.to_numeric(df_2[c])\n",
    "    except ValueError:\n",
    "        pass"
   ]
  },
  {
   "cell_type": "code",
   "execution_count": 30,
   "metadata": {},
   "outputs": [],
   "source": [
    "# get the five best start and end songs"
   ]
  },
  {
   "cell_type": "code",
   "execution_count": 32,
   "metadata": {},
   "outputs": [],
   "source": [
    "def get_dur(songs):\n",
    "    return sum(df_1[df_1[0].isin(songs)][5].tolist())"
   ]
  },
  {
   "cell_type": "code",
   "execution_count": 63,
   "metadata": {},
   "outputs": [],
   "source": [
    "# test ordered song selection for criteria\n",
    "def test_random_it(shuffled, detailed=False):\n",
    "    crits = []\n",
    "    crits.append(float(df_1[df_1[0] == shuffled[-1]][3]) < 0.75)\n",
    "    # missing keeps\n",
    "    crits.append(len([k for k in keeps if k not in shuffled]) > 0)\n",
    "    # distance measures (artists should not follow directly or semi-directly)\n",
    "    shuffled_artists = [df_1[df_1[0] == s][4].tolist()[0] for s in shuffled]\n",
    "    for d in [1,2,3]:\n",
    "        crits.append(any([shuffled_artists[i]==shuffled_artists[i+d] for i in range(len(shuffled_artists) - d)]))\n",
    "    # NEW CRITERION\n",
    "    #crits.append(min(get_fit(shuffled, False)) < 0.0001)\n",
    "    if detailed:\n",
    "        return crits\n",
    "    return any(crits)\n",
    "\n",
    "# take an ordered list of songs and get transition fit\n",
    "def get_fit(shuffled, get_sum=True):\n",
    "    #shuffled = [\"theyouth\"] + shuffled # add the fixed first song\n",
    "    likelihoods_adj = [float(df_2[(df_2[0] == shuffled[i]) & (df_2[1] == shuffled[i+1])][4]) for i in range(len(shuffled) - 1)]\n",
    "    if not get_sum:\n",
    "        return likelihoods_adj\n",
    "    return sum(likelihoods_adj)"
   ]
  },
  {
   "cell_type": "code",
   "execution_count": 70,
   "metadata": {},
   "outputs": [],
   "source": [
    "# fix the first and last three songs optimally, randomize the rest\n",
    "# problem: only local optimization\n",
    "# --> v2 includes the mean options afterwards as well\n",
    "def best_start_v2(start_song, n, opts, winner_ind=0):\n",
    "    # opts: options to draw from\n",
    "    # winner_ind: 0 = choose song with best fit, 1: choose song with second best fit, ...\n",
    "    out = [start_song]\n",
    "    current_song = start_song\n",
    "    for i in range(n-1):\n",
    "        df_2_subset = df_2[(df_2[0] == current_song) & (df_2[1].isin(opts))]\n",
    "        # get the mean fit from all next songs\n",
    "        df_2_subset2 = df_2[df_2[0].isin(opts)]\n",
    "        mean_next = []\n",
    "        # do not just optimize locally, otherwise global low values likely\n",
    "        for i in range(len(df_2_subset)):\n",
    "            further_opts = df_2_subset2[df_2_subset2[0] == df_2_subset[1].iloc[i]][4].tolist()\n",
    "            mean_next.append( np.mean(further_opts) )\n",
    "        df_2_subset[\"mean_next\"] = mean_next\n",
    "        df_2_subset[\"composite\"] = df_2_subset[\"mean_next\"]*df_2_subset[4]\n",
    "        df_2_subset.sort_values(\"composite\", ascending=False, inplace=True)\n",
    "        next_best_song = df_2_subset[1].iloc[winner_ind]\n",
    "        out.append(next_best_song)\n",
    "        opts = [o for o in opts if not o == next_best_song] # remove from options\n",
    "        current_song = next_best_song\n",
    "    return [out, opts] # opts: remaining songs"
   ]
  },
  {
   "cell_type": "code",
   "execution_count": 71,
   "metadata": {},
   "outputs": [],
   "source": [
    "# fix the first and last three songs optimally, randomize the rest\n",
    "def best_end_v2(end_song, n, opts, winner_ind=0):\n",
    "    # opts: options to draw from\n",
    "    # winner_ind: 0 = choose song with best fit, 1: choose song with second best fit, ...\n",
    "    out = [end_song]\n",
    "    current_song = end_song\n",
    "    for i in range(n-1):\n",
    "        df_2_subset = df_2[(df_2[1] == current_song) & (df_2[0].isin(opts))]\n",
    "        # get the mean fit from all previous songs\n",
    "        df_2_subset2 = df_2[df_2[1].isin(opts)]\n",
    "        mean_prev = []\n",
    "        # do not just optimize locally, otherwise global low values likely\n",
    "        for i in range(len(df_2_subset)):v\n",
    "            further_opts = df_2_subset2[df_2_subset2[1] == df_2_subset[0].iloc[i]][4].tolist()\n",
    "            mean_prev.append( np.mean(further_opts) )\n",
    "        df_2_subset[\"mean_prev\"] = mean_prev\n",
    "        df_2_subset[\"composite\"] = df_2_subset[\"mean_prev\"]*df_2_subset[4]\n",
    "        \n",
    "        df_2_subset.sort_values(\"composite\", ascending=False, inplace=True)\n",
    "        next_best_song = df_2_subset[0].iloc[winner_ind]\n",
    "        out = [next_best_song] + out #.append(next_best_song)\n",
    "        opts = [o for o in opts if not o == next_best_song] # remove from options\n",
    "        current_song = next_best_song\n",
    "    return [out, opts] # opts: remaining songs"
   ]
  },
  {
   "cell_type": "code",
   "execution_count": 79,
   "metadata": {},
   "outputs": [
    {
     "name": "stderr",
     "output_type": "stream",
     "text": [
      "C:\\Users\\a\\miniconda3\\lib\\site-packages\\ipykernel_launcher.py:15: SettingWithCopyWarning: \n",
      "A value is trying to be set on a copy of a slice from a DataFrame.\n",
      "Try using .loc[row_indexer,col_indexer] = value instead\n",
      "\n",
      "See the caveats in the documentation: https://pandas.pydata.org/pandas-docs/stable/user_guide/indexing.html#returning-a-view-versus-a-copy\n",
      "  from ipykernel import kernelapp as app\n",
      "C:\\Users\\a\\miniconda3\\lib\\site-packages\\ipykernel_launcher.py:16: SettingWithCopyWarning: \n",
      "A value is trying to be set on a copy of a slice from a DataFrame.\n",
      "Try using .loc[row_indexer,col_indexer] = value instead\n",
      "\n",
      "See the caveats in the documentation: https://pandas.pydata.org/pandas-docs/stable/user_guide/indexing.html#returning-a-view-versus-a-copy\n",
      "  app.launch_new_instance()\n",
      "C:\\Users\\a\\miniconda3\\lib\\site-packages\\ipykernel_launcher.py:17: SettingWithCopyWarning: \n",
      "A value is trying to be set on a copy of a slice from a DataFrame\n",
      "\n",
      "See the caveats in the documentation: https://pandas.pydata.org/pandas-docs/stable/user_guide/indexing.html#returning-a-view-versus-a-copy\n",
      "C:\\Users\\a\\miniconda3\\lib\\site-packages\\ipykernel_launcher.py:14: SettingWithCopyWarning: \n",
      "A value is trying to be set on a copy of a slice from a DataFrame.\n",
      "Try using .loc[row_indexer,col_indexer] = value instead\n",
      "\n",
      "See the caveats in the documentation: https://pandas.pydata.org/pandas-docs/stable/user_guide/indexing.html#returning-a-view-versus-a-copy\n",
      "  \n"
     ]
    }
   ],
   "source": [
    "#begin/end chunk algorithm\n",
    "opts = [i for i in df_1[0].tolist() if i not in [best_first, best_last]+rm_songs]\n",
    "\n",
    "current_set = [best_first] + opts + [best_last]\n",
    "\n",
    "current_first = best_first\n",
    "current_last = best_last\n",
    "n_start = 5\n",
    "n_end = 5\n",
    "\n",
    "# alternate chaining from start and end\n",
    "songs = [] # final list of songs\n",
    "all_start_songs = [best_first]\n",
    "all_end_songs = [best_last]\n",
    "# iterate as long as space is not optimally filled\n",
    "while get_dur(songs) < space_total and len(opts) > 0:\n",
    "    start_ind = 0\n",
    "    end_ind = 0\n",
    "    next_start_songs, opts = best_start_v2(current_first, 2, opts, start_ind)\n",
    "    all_start_songs.append(next_start_songs[1])\n",
    "    next_end_songs, opts = best_end_v2(current_last, 2, opts, end_ind)\n",
    "    all_end_songs = [next_end_songs[0]] + all_end_songs\n",
    "    current_first = next_start_songs[1]\n",
    "    current_last = next_end_songs[0]\n",
    "    songs = all_start_songs + all_end_songs"
   ]
  },
  {
   "cell_type": "code",
   "execution_count": 80,
   "metadata": {},
   "outputs": [
    {
     "data": {
      "application/javascript": [
       "/* Put everything inside the global mpl namespace */\n",
       "window.mpl = {};\n",
       "\n",
       "\n",
       "mpl.get_websocket_type = function() {\n",
       "    if (typeof(WebSocket) !== 'undefined') {\n",
       "        return WebSocket;\n",
       "    } else if (typeof(MozWebSocket) !== 'undefined') {\n",
       "        return MozWebSocket;\n",
       "    } else {\n",
       "        alert('Your browser does not have WebSocket support. ' +\n",
       "              'Please try Chrome, Safari or Firefox ≥ 6. ' +\n",
       "              'Firefox 4 and 5 are also supported but you ' +\n",
       "              'have to enable WebSockets in about:config.');\n",
       "    };\n",
       "}\n",
       "\n",
       "mpl.figure = function(figure_id, websocket, ondownload, parent_element) {\n",
       "    this.id = figure_id;\n",
       "\n",
       "    this.ws = websocket;\n",
       "\n",
       "    this.supports_binary = (this.ws.binaryType != undefined);\n",
       "\n",
       "    if (!this.supports_binary) {\n",
       "        var warnings = document.getElementById(\"mpl-warnings\");\n",
       "        if (warnings) {\n",
       "            warnings.style.display = 'block';\n",
       "            warnings.textContent = (\n",
       "                \"This browser does not support binary websocket messages. \" +\n",
       "                    \"Performance may be slow.\");\n",
       "        }\n",
       "    }\n",
       "\n",
       "    this.imageObj = new Image();\n",
       "\n",
       "    this.context = undefined;\n",
       "    this.message = undefined;\n",
       "    this.canvas = undefined;\n",
       "    this.rubberband_canvas = undefined;\n",
       "    this.rubberband_context = undefined;\n",
       "    this.format_dropdown = undefined;\n",
       "\n",
       "    this.image_mode = 'full';\n",
       "\n",
       "    this.root = $('<div/>');\n",
       "    this._root_extra_style(this.root)\n",
       "    this.root.attr('style', 'display: inline-block');\n",
       "\n",
       "    $(parent_element).append(this.root);\n",
       "\n",
       "    this._init_header(this);\n",
       "    this._init_canvas(this);\n",
       "    this._init_toolbar(this);\n",
       "\n",
       "    var fig = this;\n",
       "\n",
       "    this.waiting = false;\n",
       "\n",
       "    this.ws.onopen =  function () {\n",
       "            fig.send_message(\"supports_binary\", {value: fig.supports_binary});\n",
       "            fig.send_message(\"send_image_mode\", {});\n",
       "            if (mpl.ratio != 1) {\n",
       "                fig.send_message(\"set_dpi_ratio\", {'dpi_ratio': mpl.ratio});\n",
       "            }\n",
       "            fig.send_message(\"refresh\", {});\n",
       "        }\n",
       "\n",
       "    this.imageObj.onload = function() {\n",
       "            if (fig.image_mode == 'full') {\n",
       "                // Full images could contain transparency (where diff images\n",
       "                // almost always do), so we need to clear the canvas so that\n",
       "                // there is no ghosting.\n",
       "                fig.context.clearRect(0, 0, fig.canvas.width, fig.canvas.height);\n",
       "            }\n",
       "            fig.context.drawImage(fig.imageObj, 0, 0);\n",
       "        };\n",
       "\n",
       "    this.imageObj.onunload = function() {\n",
       "        fig.ws.close();\n",
       "    }\n",
       "\n",
       "    this.ws.onmessage = this._make_on_message_function(this);\n",
       "\n",
       "    this.ondownload = ondownload;\n",
       "}\n",
       "\n",
       "mpl.figure.prototype._init_header = function() {\n",
       "    var titlebar = $(\n",
       "        '<div class=\"ui-dialog-titlebar ui-widget-header ui-corner-all ' +\n",
       "        'ui-helper-clearfix\"/>');\n",
       "    var titletext = $(\n",
       "        '<div class=\"ui-dialog-title\" style=\"width: 100%; ' +\n",
       "        'text-align: center; padding: 3px;\"/>');\n",
       "    titlebar.append(titletext)\n",
       "    this.root.append(titlebar);\n",
       "    this.header = titletext[0];\n",
       "}\n",
       "\n",
       "\n",
       "\n",
       "mpl.figure.prototype._canvas_extra_style = function(canvas_div) {\n",
       "\n",
       "}\n",
       "\n",
       "\n",
       "mpl.figure.prototype._root_extra_style = function(canvas_div) {\n",
       "\n",
       "}\n",
       "\n",
       "mpl.figure.prototype._init_canvas = function() {\n",
       "    var fig = this;\n",
       "\n",
       "    var canvas_div = $('<div/>');\n",
       "\n",
       "    canvas_div.attr('style', 'position: relative; clear: both; outline: 0');\n",
       "\n",
       "    function canvas_keyboard_event(event) {\n",
       "        return fig.key_event(event, event['data']);\n",
       "    }\n",
       "\n",
       "    canvas_div.keydown('key_press', canvas_keyboard_event);\n",
       "    canvas_div.keyup('key_release', canvas_keyboard_event);\n",
       "    this.canvas_div = canvas_div\n",
       "    this._canvas_extra_style(canvas_div)\n",
       "    this.root.append(canvas_div);\n",
       "\n",
       "    var canvas = $('<canvas/>');\n",
       "    canvas.addClass('mpl-canvas');\n",
       "    canvas.attr('style', \"left: 0; top: 0; z-index: 0; outline: 0\")\n",
       "\n",
       "    this.canvas = canvas[0];\n",
       "    this.context = canvas[0].getContext(\"2d\");\n",
       "\n",
       "    var backingStore = this.context.backingStorePixelRatio ||\n",
       "\tthis.context.webkitBackingStorePixelRatio ||\n",
       "\tthis.context.mozBackingStorePixelRatio ||\n",
       "\tthis.context.msBackingStorePixelRatio ||\n",
       "\tthis.context.oBackingStorePixelRatio ||\n",
       "\tthis.context.backingStorePixelRatio || 1;\n",
       "\n",
       "    mpl.ratio = (window.devicePixelRatio || 1) / backingStore;\n",
       "\n",
       "    var rubberband = $('<canvas/>');\n",
       "    rubberband.attr('style', \"position: absolute; left: 0; top: 0; z-index: 1;\")\n",
       "\n",
       "    var pass_mouse_events = true;\n",
       "\n",
       "    canvas_div.resizable({\n",
       "        start: function(event, ui) {\n",
       "            pass_mouse_events = false;\n",
       "        },\n",
       "        resize: function(event, ui) {\n",
       "            fig.request_resize(ui.size.width, ui.size.height);\n",
       "        },\n",
       "        stop: function(event, ui) {\n",
       "            pass_mouse_events = true;\n",
       "            fig.request_resize(ui.size.width, ui.size.height);\n",
       "        },\n",
       "    });\n",
       "\n",
       "    function mouse_event_fn(event) {\n",
       "        if (pass_mouse_events)\n",
       "            return fig.mouse_event(event, event['data']);\n",
       "    }\n",
       "\n",
       "    rubberband.mousedown('button_press', mouse_event_fn);\n",
       "    rubberband.mouseup('button_release', mouse_event_fn);\n",
       "    // Throttle sequential mouse events to 1 every 20ms.\n",
       "    rubberband.mousemove('motion_notify', mouse_event_fn);\n",
       "\n",
       "    rubberband.mouseenter('figure_enter', mouse_event_fn);\n",
       "    rubberband.mouseleave('figure_leave', mouse_event_fn);\n",
       "\n",
       "    canvas_div.on(\"wheel\", function (event) {\n",
       "        event = event.originalEvent;\n",
       "        event['data'] = 'scroll'\n",
       "        if (event.deltaY < 0) {\n",
       "            event.step = 1;\n",
       "        } else {\n",
       "            event.step = -1;\n",
       "        }\n",
       "        mouse_event_fn(event);\n",
       "    });\n",
       "\n",
       "    canvas_div.append(canvas);\n",
       "    canvas_div.append(rubberband);\n",
       "\n",
       "    this.rubberband = rubberband;\n",
       "    this.rubberband_canvas = rubberband[0];\n",
       "    this.rubberband_context = rubberband[0].getContext(\"2d\");\n",
       "    this.rubberband_context.strokeStyle = \"#000000\";\n",
       "\n",
       "    this._resize_canvas = function(width, height) {\n",
       "        // Keep the size of the canvas, canvas container, and rubber band\n",
       "        // canvas in synch.\n",
       "        canvas_div.css('width', width)\n",
       "        canvas_div.css('height', height)\n",
       "\n",
       "        canvas.attr('width', width * mpl.ratio);\n",
       "        canvas.attr('height', height * mpl.ratio);\n",
       "        canvas.attr('style', 'width: ' + width + 'px; height: ' + height + 'px;');\n",
       "\n",
       "        rubberband.attr('width', width);\n",
       "        rubberband.attr('height', height);\n",
       "    }\n",
       "\n",
       "    // Set the figure to an initial 600x600px, this will subsequently be updated\n",
       "    // upon first draw.\n",
       "    this._resize_canvas(600, 600);\n",
       "\n",
       "    // Disable right mouse context menu.\n",
       "    $(this.rubberband_canvas).bind(\"contextmenu\",function(e){\n",
       "        return false;\n",
       "    });\n",
       "\n",
       "    function set_focus () {\n",
       "        canvas.focus();\n",
       "        canvas_div.focus();\n",
       "    }\n",
       "\n",
       "    window.setTimeout(set_focus, 100);\n",
       "}\n",
       "\n",
       "mpl.figure.prototype._init_toolbar = function() {\n",
       "    var fig = this;\n",
       "\n",
       "    var nav_element = $('<div/>');\n",
       "    nav_element.attr('style', 'width: 100%');\n",
       "    this.root.append(nav_element);\n",
       "\n",
       "    // Define a callback function for later on.\n",
       "    function toolbar_event(event) {\n",
       "        return fig.toolbar_button_onclick(event['data']);\n",
       "    }\n",
       "    function toolbar_mouse_event(event) {\n",
       "        return fig.toolbar_button_onmouseover(event['data']);\n",
       "    }\n",
       "\n",
       "    for(var toolbar_ind in mpl.toolbar_items) {\n",
       "        var name = mpl.toolbar_items[toolbar_ind][0];\n",
       "        var tooltip = mpl.toolbar_items[toolbar_ind][1];\n",
       "        var image = mpl.toolbar_items[toolbar_ind][2];\n",
       "        var method_name = mpl.toolbar_items[toolbar_ind][3];\n",
       "\n",
       "        if (!name) {\n",
       "            // put a spacer in here.\n",
       "            continue;\n",
       "        }\n",
       "        var button = $('<button/>');\n",
       "        button.addClass('ui-button ui-widget ui-state-default ui-corner-all ' +\n",
       "                        'ui-button-icon-only');\n",
       "        button.attr('role', 'button');\n",
       "        button.attr('aria-disabled', 'false');\n",
       "        button.click(method_name, toolbar_event);\n",
       "        button.mouseover(tooltip, toolbar_mouse_event);\n",
       "\n",
       "        var icon_img = $('<span/>');\n",
       "        icon_img.addClass('ui-button-icon-primary ui-icon');\n",
       "        icon_img.addClass(image);\n",
       "        icon_img.addClass('ui-corner-all');\n",
       "\n",
       "        var tooltip_span = $('<span/>');\n",
       "        tooltip_span.addClass('ui-button-text');\n",
       "        tooltip_span.html(tooltip);\n",
       "\n",
       "        button.append(icon_img);\n",
       "        button.append(tooltip_span);\n",
       "\n",
       "        nav_element.append(button);\n",
       "    }\n",
       "\n",
       "    var fmt_picker_span = $('<span/>');\n",
       "\n",
       "    var fmt_picker = $('<select/>');\n",
       "    fmt_picker.addClass('mpl-toolbar-option ui-widget ui-widget-content');\n",
       "    fmt_picker_span.append(fmt_picker);\n",
       "    nav_element.append(fmt_picker_span);\n",
       "    this.format_dropdown = fmt_picker[0];\n",
       "\n",
       "    for (var ind in mpl.extensions) {\n",
       "        var fmt = mpl.extensions[ind];\n",
       "        var option = $(\n",
       "            '<option/>', {selected: fmt === mpl.default_extension}).html(fmt);\n",
       "        fmt_picker.append(option);\n",
       "    }\n",
       "\n",
       "    // Add hover states to the ui-buttons\n",
       "    $( \".ui-button\" ).hover(\n",
       "        function() { $(this).addClass(\"ui-state-hover\");},\n",
       "        function() { $(this).removeClass(\"ui-state-hover\");}\n",
       "    );\n",
       "\n",
       "    var status_bar = $('<span class=\"mpl-message\"/>');\n",
       "    nav_element.append(status_bar);\n",
       "    this.message = status_bar[0];\n",
       "}\n",
       "\n",
       "mpl.figure.prototype.request_resize = function(x_pixels, y_pixels) {\n",
       "    // Request matplotlib to resize the figure. Matplotlib will then trigger a resize in the client,\n",
       "    // which will in turn request a refresh of the image.\n",
       "    this.send_message('resize', {'width': x_pixels, 'height': y_pixels});\n",
       "}\n",
       "\n",
       "mpl.figure.prototype.send_message = function(type, properties) {\n",
       "    properties['type'] = type;\n",
       "    properties['figure_id'] = this.id;\n",
       "    this.ws.send(JSON.stringify(properties));\n",
       "}\n",
       "\n",
       "mpl.figure.prototype.send_draw_message = function() {\n",
       "    if (!this.waiting) {\n",
       "        this.waiting = true;\n",
       "        this.ws.send(JSON.stringify({type: \"draw\", figure_id: this.id}));\n",
       "    }\n",
       "}\n",
       "\n",
       "\n",
       "mpl.figure.prototype.handle_save = function(fig, msg) {\n",
       "    var format_dropdown = fig.format_dropdown;\n",
       "    var format = format_dropdown.options[format_dropdown.selectedIndex].value;\n",
       "    fig.ondownload(fig, format);\n",
       "}\n",
       "\n",
       "\n",
       "mpl.figure.prototype.handle_resize = function(fig, msg) {\n",
       "    var size = msg['size'];\n",
       "    if (size[0] != fig.canvas.width || size[1] != fig.canvas.height) {\n",
       "        fig._resize_canvas(size[0], size[1]);\n",
       "        fig.send_message(\"refresh\", {});\n",
       "    };\n",
       "}\n",
       "\n",
       "mpl.figure.prototype.handle_rubberband = function(fig, msg) {\n",
       "    var x0 = msg['x0'] / mpl.ratio;\n",
       "    var y0 = (fig.canvas.height - msg['y0']) / mpl.ratio;\n",
       "    var x1 = msg['x1'] / mpl.ratio;\n",
       "    var y1 = (fig.canvas.height - msg['y1']) / mpl.ratio;\n",
       "    x0 = Math.floor(x0) + 0.5;\n",
       "    y0 = Math.floor(y0) + 0.5;\n",
       "    x1 = Math.floor(x1) + 0.5;\n",
       "    y1 = Math.floor(y1) + 0.5;\n",
       "    var min_x = Math.min(x0, x1);\n",
       "    var min_y = Math.min(y0, y1);\n",
       "    var width = Math.abs(x1 - x0);\n",
       "    var height = Math.abs(y1 - y0);\n",
       "\n",
       "    fig.rubberband_context.clearRect(\n",
       "        0, 0, fig.canvas.width / mpl.ratio, fig.canvas.height / mpl.ratio);\n",
       "\n",
       "    fig.rubberband_context.strokeRect(min_x, min_y, width, height);\n",
       "}\n",
       "\n",
       "mpl.figure.prototype.handle_figure_label = function(fig, msg) {\n",
       "    // Updates the figure title.\n",
       "    fig.header.textContent = msg['label'];\n",
       "}\n",
       "\n",
       "mpl.figure.prototype.handle_cursor = function(fig, msg) {\n",
       "    var cursor = msg['cursor'];\n",
       "    switch(cursor)\n",
       "    {\n",
       "    case 0:\n",
       "        cursor = 'pointer';\n",
       "        break;\n",
       "    case 1:\n",
       "        cursor = 'default';\n",
       "        break;\n",
       "    case 2:\n",
       "        cursor = 'crosshair';\n",
       "        break;\n",
       "    case 3:\n",
       "        cursor = 'move';\n",
       "        break;\n",
       "    }\n",
       "    fig.rubberband_canvas.style.cursor = cursor;\n",
       "}\n",
       "\n",
       "mpl.figure.prototype.handle_message = function(fig, msg) {\n",
       "    fig.message.textContent = msg['message'];\n",
       "}\n",
       "\n",
       "mpl.figure.prototype.handle_draw = function(fig, msg) {\n",
       "    // Request the server to send over a new figure.\n",
       "    fig.send_draw_message();\n",
       "}\n",
       "\n",
       "mpl.figure.prototype.handle_image_mode = function(fig, msg) {\n",
       "    fig.image_mode = msg['mode'];\n",
       "}\n",
       "\n",
       "mpl.figure.prototype.updated_canvas_event = function() {\n",
       "    // Called whenever the canvas gets updated.\n",
       "    this.send_message(\"ack\", {});\n",
       "}\n",
       "\n",
       "// A function to construct a web socket function for onmessage handling.\n",
       "// Called in the figure constructor.\n",
       "mpl.figure.prototype._make_on_message_function = function(fig) {\n",
       "    return function socket_on_message(evt) {\n",
       "        if (evt.data instanceof Blob) {\n",
       "            /* FIXME: We get \"Resource interpreted as Image but\n",
       "             * transferred with MIME type text/plain:\" errors on\n",
       "             * Chrome.  But how to set the MIME type?  It doesn't seem\n",
       "             * to be part of the websocket stream */\n",
       "            evt.data.type = \"image/png\";\n",
       "\n",
       "            /* Free the memory for the previous frames */\n",
       "            if (fig.imageObj.src) {\n",
       "                (window.URL || window.webkitURL).revokeObjectURL(\n",
       "                    fig.imageObj.src);\n",
       "            }\n",
       "\n",
       "            fig.imageObj.src = (window.URL || window.webkitURL).createObjectURL(\n",
       "                evt.data);\n",
       "            fig.updated_canvas_event();\n",
       "            fig.waiting = false;\n",
       "            return;\n",
       "        }\n",
       "        else if (typeof evt.data === 'string' && evt.data.slice(0, 21) == \"data:image/png;base64\") {\n",
       "            fig.imageObj.src = evt.data;\n",
       "            fig.updated_canvas_event();\n",
       "            fig.waiting = false;\n",
       "            return;\n",
       "        }\n",
       "\n",
       "        var msg = JSON.parse(evt.data);\n",
       "        var msg_type = msg['type'];\n",
       "\n",
       "        // Call the  \"handle_{type}\" callback, which takes\n",
       "        // the figure and JSON message as its only arguments.\n",
       "        try {\n",
       "            var callback = fig[\"handle_\" + msg_type];\n",
       "        } catch (e) {\n",
       "            console.log(\"No handler for the '\" + msg_type + \"' message type: \", msg);\n",
       "            return;\n",
       "        }\n",
       "\n",
       "        if (callback) {\n",
       "            try {\n",
       "                // console.log(\"Handling '\" + msg_type + \"' message: \", msg);\n",
       "                callback(fig, msg);\n",
       "            } catch (e) {\n",
       "                console.log(\"Exception inside the 'handler_\" + msg_type + \"' callback:\", e, e.stack, msg);\n",
       "            }\n",
       "        }\n",
       "    };\n",
       "}\n",
       "\n",
       "// from http://stackoverflow.com/questions/1114465/getting-mouse-location-in-canvas\n",
       "mpl.findpos = function(e) {\n",
       "    //this section is from http://www.quirksmode.org/js/events_properties.html\n",
       "    var targ;\n",
       "    if (!e)\n",
       "        e = window.event;\n",
       "    if (e.target)\n",
       "        targ = e.target;\n",
       "    else if (e.srcElement)\n",
       "        targ = e.srcElement;\n",
       "    if (targ.nodeType == 3) // defeat Safari bug\n",
       "        targ = targ.parentNode;\n",
       "\n",
       "    // jQuery normalizes the pageX and pageY\n",
       "    // pageX,Y are the mouse positions relative to the document\n",
       "    // offset() returns the position of the element relative to the document\n",
       "    var x = e.pageX - $(targ).offset().left;\n",
       "    var y = e.pageY - $(targ).offset().top;\n",
       "\n",
       "    return {\"x\": x, \"y\": y};\n",
       "};\n",
       "\n",
       "/*\n",
       " * return a copy of an object with only non-object keys\n",
       " * we need this to avoid circular references\n",
       " * http://stackoverflow.com/a/24161582/3208463\n",
       " */\n",
       "function simpleKeys (original) {\n",
       "  return Object.keys(original).reduce(function (obj, key) {\n",
       "    if (typeof original[key] !== 'object')\n",
       "        obj[key] = original[key]\n",
       "    return obj;\n",
       "  }, {});\n",
       "}\n",
       "\n",
       "mpl.figure.prototype.mouse_event = function(event, name) {\n",
       "    var canvas_pos = mpl.findpos(event)\n",
       "\n",
       "    if (name === 'button_press')\n",
       "    {\n",
       "        this.canvas.focus();\n",
       "        this.canvas_div.focus();\n",
       "    }\n",
       "\n",
       "    var x = canvas_pos.x * mpl.ratio;\n",
       "    var y = canvas_pos.y * mpl.ratio;\n",
       "\n",
       "    this.send_message(name, {x: x, y: y, button: event.button,\n",
       "                             step: event.step,\n",
       "                             guiEvent: simpleKeys(event)});\n",
       "\n",
       "    /* This prevents the web browser from automatically changing to\n",
       "     * the text insertion cursor when the button is pressed.  We want\n",
       "     * to control all of the cursor setting manually through the\n",
       "     * 'cursor' event from matplotlib */\n",
       "    event.preventDefault();\n",
       "    return false;\n",
       "}\n",
       "\n",
       "mpl.figure.prototype._key_event_extra = function(event, name) {\n",
       "    // Handle any extra behaviour associated with a key event\n",
       "}\n",
       "\n",
       "mpl.figure.prototype.key_event = function(event, name) {\n",
       "\n",
       "    // Prevent repeat events\n",
       "    if (name == 'key_press')\n",
       "    {\n",
       "        if (event.which === this._key)\n",
       "            return;\n",
       "        else\n",
       "            this._key = event.which;\n",
       "    }\n",
       "    if (name == 'key_release')\n",
       "        this._key = null;\n",
       "\n",
       "    var value = '';\n",
       "    if (event.ctrlKey && event.which != 17)\n",
       "        value += \"ctrl+\";\n",
       "    if (event.altKey && event.which != 18)\n",
       "        value += \"alt+\";\n",
       "    if (event.shiftKey && event.which != 16)\n",
       "        value += \"shift+\";\n",
       "\n",
       "    value += 'k';\n",
       "    value += event.which.toString();\n",
       "\n",
       "    this._key_event_extra(event, name);\n",
       "\n",
       "    this.send_message(name, {key: value,\n",
       "                             guiEvent: simpleKeys(event)});\n",
       "    return false;\n",
       "}\n",
       "\n",
       "mpl.figure.prototype.toolbar_button_onclick = function(name) {\n",
       "    if (name == 'download') {\n",
       "        this.handle_save(this, null);\n",
       "    } else {\n",
       "        this.send_message(\"toolbar_button\", {name: name});\n",
       "    }\n",
       "};\n",
       "\n",
       "mpl.figure.prototype.toolbar_button_onmouseover = function(tooltip) {\n",
       "    this.message.textContent = tooltip;\n",
       "};\n",
       "mpl.toolbar_items = [[\"Home\", \"Reset original view\", \"fa fa-home icon-home\", \"home\"], [\"Back\", \"Back to previous view\", \"fa fa-arrow-left icon-arrow-left\", \"back\"], [\"Forward\", \"Forward to next view\", \"fa fa-arrow-right icon-arrow-right\", \"forward\"], [\"\", \"\", \"\", \"\"], [\"Pan\", \"Pan axes with left mouse, zoom with right\", \"fa fa-arrows icon-move\", \"pan\"], [\"Zoom\", \"Zoom to rectangle\", \"fa fa-square-o icon-check-empty\", \"zoom\"], [\"\", \"\", \"\", \"\"], [\"Download\", \"Download plot\", \"fa fa-floppy-o icon-save\", \"download\"]];\n",
       "\n",
       "mpl.extensions = [\"eps\", \"jpeg\", \"pdf\", \"png\", \"ps\", \"raw\", \"svg\", \"tif\"];\n",
       "\n",
       "mpl.default_extension = \"png\";var comm_websocket_adapter = function(comm) {\n",
       "    // Create a \"websocket\"-like object which calls the given IPython comm\n",
       "    // object with the appropriate methods. Currently this is a non binary\n",
       "    // socket, so there is still some room for performance tuning.\n",
       "    var ws = {};\n",
       "\n",
       "    ws.close = function() {\n",
       "        comm.close()\n",
       "    };\n",
       "    ws.send = function(m) {\n",
       "        //console.log('sending', m);\n",
       "        comm.send(m);\n",
       "    };\n",
       "    // Register the callback with on_msg.\n",
       "    comm.on_msg(function(msg) {\n",
       "        //console.log('receiving', msg['content']['data'], msg);\n",
       "        // Pass the mpl event to the overridden (by mpl) onmessage function.\n",
       "        ws.onmessage(msg['content']['data'])\n",
       "    });\n",
       "    return ws;\n",
       "}\n",
       "\n",
       "mpl.mpl_figure_comm = function(comm, msg) {\n",
       "    // This is the function which gets called when the mpl process\n",
       "    // starts-up an IPython Comm through the \"matplotlib\" channel.\n",
       "\n",
       "    var id = msg.content.data.id;\n",
       "    // Get hold of the div created by the display call when the Comm\n",
       "    // socket was opened in Python.\n",
       "    var element = $(\"#\" + id);\n",
       "    var ws_proxy = comm_websocket_adapter(comm)\n",
       "\n",
       "    function ondownload(figure, format) {\n",
       "        window.open(figure.imageObj.src);\n",
       "    }\n",
       "\n",
       "    var fig = new mpl.figure(id, ws_proxy,\n",
       "                           ondownload,\n",
       "                           element.get(0));\n",
       "\n",
       "    // Call onopen now - mpl needs it, as it is assuming we've passed it a real\n",
       "    // web socket which is closed, not our websocket->open comm proxy.\n",
       "    ws_proxy.onopen();\n",
       "\n",
       "    fig.parent_element = element.get(0);\n",
       "    fig.cell_info = mpl.find_output_cell(\"<div id='\" + id + \"'></div>\");\n",
       "    if (!fig.cell_info) {\n",
       "        console.error(\"Failed to find cell for figure\", id, fig);\n",
       "        return;\n",
       "    }\n",
       "\n",
       "    var output_index = fig.cell_info[2]\n",
       "    var cell = fig.cell_info[0];\n",
       "\n",
       "};\n",
       "\n",
       "mpl.figure.prototype.handle_close = function(fig, msg) {\n",
       "    var width = fig.canvas.width/mpl.ratio\n",
       "    fig.root.unbind('remove')\n",
       "\n",
       "    // Update the output cell to use the data from the current canvas.\n",
       "    fig.push_to_output();\n",
       "    var dataURL = fig.canvas.toDataURL();\n",
       "    // Re-enable the keyboard manager in IPython - without this line, in FF,\n",
       "    // the notebook keyboard shortcuts fail.\n",
       "    IPython.keyboard_manager.enable()\n",
       "    $(fig.parent_element).html('<img src=\"' + dataURL + '\" width=\"' + width + '\">');\n",
       "    fig.close_ws(fig, msg);\n",
       "}\n",
       "\n",
       "mpl.figure.prototype.close_ws = function(fig, msg){\n",
       "    fig.send_message('closing', msg);\n",
       "    // fig.ws.close()\n",
       "}\n",
       "\n",
       "mpl.figure.prototype.push_to_output = function(remove_interactive) {\n",
       "    // Turn the data on the canvas into data in the output cell.\n",
       "    var width = this.canvas.width/mpl.ratio\n",
       "    var dataURL = this.canvas.toDataURL();\n",
       "    this.cell_info[1]['text/html'] = '<img src=\"' + dataURL + '\" width=\"' + width + '\">';\n",
       "}\n",
       "\n",
       "mpl.figure.prototype.updated_canvas_event = function() {\n",
       "    // Tell IPython that the notebook contents must change.\n",
       "    IPython.notebook.set_dirty(true);\n",
       "    this.send_message(\"ack\", {});\n",
       "    var fig = this;\n",
       "    // Wait a second, then push the new image to the DOM so\n",
       "    // that it is saved nicely (might be nice to debounce this).\n",
       "    setTimeout(function () { fig.push_to_output() }, 1000);\n",
       "}\n",
       "\n",
       "mpl.figure.prototype._init_toolbar = function() {\n",
       "    var fig = this;\n",
       "\n",
       "    var nav_element = $('<div/>');\n",
       "    nav_element.attr('style', 'width: 100%');\n",
       "    this.root.append(nav_element);\n",
       "\n",
       "    // Define a callback function for later on.\n",
       "    function toolbar_event(event) {\n",
       "        return fig.toolbar_button_onclick(event['data']);\n",
       "    }\n",
       "    function toolbar_mouse_event(event) {\n",
       "        return fig.toolbar_button_onmouseover(event['data']);\n",
       "    }\n",
       "\n",
       "    for(var toolbar_ind in mpl.toolbar_items){\n",
       "        var name = mpl.toolbar_items[toolbar_ind][0];\n",
       "        var tooltip = mpl.toolbar_items[toolbar_ind][1];\n",
       "        var image = mpl.toolbar_items[toolbar_ind][2];\n",
       "        var method_name = mpl.toolbar_items[toolbar_ind][3];\n",
       "\n",
       "        if (!name) { continue; };\n",
       "\n",
       "        var button = $('<button class=\"btn btn-default\" href=\"#\" title=\"' + name + '\"><i class=\"fa ' + image + ' fa-lg\"></i></button>');\n",
       "        button.click(method_name, toolbar_event);\n",
       "        button.mouseover(tooltip, toolbar_mouse_event);\n",
       "        nav_element.append(button);\n",
       "    }\n",
       "\n",
       "    // Add the status bar.\n",
       "    var status_bar = $('<span class=\"mpl-message\" style=\"text-align:right; float: right;\"/>');\n",
       "    nav_element.append(status_bar);\n",
       "    this.message = status_bar[0];\n",
       "\n",
       "    // Add the close button to the window.\n",
       "    var buttongrp = $('<div class=\"btn-group inline pull-right\"></div>');\n",
       "    var button = $('<button class=\"btn btn-mini btn-primary\" href=\"#\" title=\"Stop Interaction\"><i class=\"fa fa-power-off icon-remove icon-large\"></i></button>');\n",
       "    button.click(function (evt) { fig.handle_close(fig, {}); } );\n",
       "    button.mouseover('Stop Interaction', toolbar_mouse_event);\n",
       "    buttongrp.append(button);\n",
       "    var titlebar = this.root.find($('.ui-dialog-titlebar'));\n",
       "    titlebar.prepend(buttongrp);\n",
       "}\n",
       "\n",
       "mpl.figure.prototype._root_extra_style = function(el){\n",
       "    var fig = this\n",
       "    el.on(\"remove\", function(){\n",
       "\tfig.close_ws(fig, {});\n",
       "    });\n",
       "}\n",
       "\n",
       "mpl.figure.prototype._canvas_extra_style = function(el){\n",
       "    // this is important to make the div 'focusable\n",
       "    el.attr('tabindex', 0)\n",
       "    // reach out to IPython and tell the keyboard manager to turn it's self\n",
       "    // off when our div gets focus\n",
       "\n",
       "    // location in version 3\n",
       "    if (IPython.notebook.keyboard_manager) {\n",
       "        IPython.notebook.keyboard_manager.register_events(el);\n",
       "    }\n",
       "    else {\n",
       "        // location in version 2\n",
       "        IPython.keyboard_manager.register_events(el);\n",
       "    }\n",
       "\n",
       "}\n",
       "\n",
       "mpl.figure.prototype._key_event_extra = function(event, name) {\n",
       "    var manager = IPython.notebook.keyboard_manager;\n",
       "    if (!manager)\n",
       "        manager = IPython.keyboard_manager;\n",
       "\n",
       "    // Check for shift+enter\n",
       "    if (event.shiftKey && event.which == 13) {\n",
       "        this.canvas_div.blur();\n",
       "        // select the cell after this one\n",
       "        var index = IPython.notebook.find_cell_index(this.cell_info[0]);\n",
       "        IPython.notebook.select(index + 1);\n",
       "    }\n",
       "}\n",
       "\n",
       "mpl.figure.prototype.handle_save = function(fig, msg) {\n",
       "    fig.ondownload(fig, null);\n",
       "}\n",
       "\n",
       "\n",
       "mpl.find_output_cell = function(html_output) {\n",
       "    // Return the cell and output element which can be found *uniquely* in the notebook.\n",
       "    // Note - this is a bit hacky, but it is done because the \"notebook_saving.Notebook\"\n",
       "    // IPython event is triggered only after the cells have been serialised, which for\n",
       "    // our purposes (turning an active figure into a static one), is too late.\n",
       "    var cells = IPython.notebook.get_cells();\n",
       "    var ncells = cells.length;\n",
       "    for (var i=0; i<ncells; i++) {\n",
       "        var cell = cells[i];\n",
       "        if (cell.cell_type === 'code'){\n",
       "            for (var j=0; j<cell.output_area.outputs.length; j++) {\n",
       "                var data = cell.output_area.outputs[j];\n",
       "                if (data.data) {\n",
       "                    // IPython >= 3 moved mimebundle to data attribute of output\n",
       "                    data = data.data;\n",
       "                }\n",
       "                if (data['text/html'] == html_output) {\n",
       "                    return [cell, data, j];\n",
       "                }\n",
       "            }\n",
       "        }\n",
       "    }\n",
       "}\n",
       "\n",
       "// Register the function which deals with the matplotlib target/channel.\n",
       "// The kernel may be null if the page has been refreshed.\n",
       "if (IPython.notebook.kernel != null) {\n",
       "    IPython.notebook.kernel.comm_manager.register_target('matplotlib', mpl.mpl_figure_comm);\n",
       "}\n"
      ],
      "text/plain": [
       "<IPython.core.display.Javascript object>"
      ]
     },
     "metadata": {},
     "output_type": "display_data"
    },
    {
     "data": {
      "text/html": [
       "<img src=\"data:image/png;base64,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\" width=\"640\">"
      ],
      "text/plain": [
       "<IPython.core.display.HTML object>"
      ]
     },
     "metadata": {},
     "output_type": "display_data"
    },
    {
     "data": {
      "text/plain": [
       "[<matplotlib.lines.Line2D at 0x220a687e988>]"
      ]
     },
     "execution_count": 80,
     "metadata": {},
     "output_type": "execute_result"
    }
   ],
   "source": [
    "plt.figure()\n",
    "plt.plot(get_fit(songs, False))"
   ]
  },
  {
   "cell_type": "code",
   "execution_count": 81,
   "metadata": {},
   "outputs": [
    {
     "data": {
      "text/plain": [
       "[]"
      ]
     },
     "execution_count": 81,
     "metadata": {},
     "output_type": "execute_result"
    }
   ],
   "source": [
    "# looks good --> are all necessary tracks included?\n",
    "missings = [k for k in keeps if k not in songs]\n",
    "missings"
   ]
  },
  {
   "cell_type": "code",
   "execution_count": 82,
   "metadata": {},
   "outputs": [
    {
     "data": {
      "text/plain": [
       "[False, False, True, False, False]"
      ]
     },
     "execution_count": 82,
     "metadata": {},
     "output_type": "execute_result"
    }
   ],
   "source": [
    "# are the artists distant enough? --> looks good :)\n",
    "test_random_it(songs, True) # all should be false"
   ]
  },
  {
   "cell_type": "code",
   "execution_count": 83,
   "metadata": {},
   "outputs": [],
   "source": [
    "# if space exceeded, remove songs with worst transitions\n",
    "\n",
    "# remove the worst transition(s) first\n",
    "# from min_ind to min_ind+1\n",
    "\n",
    "songs_red = songs\n",
    "\n",
    "while space_total < get_dur(songs_red + missings):\n",
    "    trans = get_fit(songs_red, False)\n",
    "    df_tmp = pd.DataFrame(np.transpose([list(range(len(trans))), trans]))\n",
    "    df_tmp.sort_values(1, inplace=True)\n",
    "    kick = []\n",
    "    for i in range(len(df_tmp)):\n",
    "        min_ind = int(df_tmp[0][i])\n",
    "        if min_ind <= 3 or min_ind > len(trans) - 2:\n",
    "            continue\n",
    "        #min_ind = [i for i, v in enumerate(trans) if v == min(trans)][0]\n",
    "        kick = [songs_red[min_ind+i] for i in range(2) if songs_red[min_ind+i] not in keeps]\n",
    "        if len(kick) > 0:\n",
    "            break\n",
    "    if space_total < get_dur(songs_red + missings) - get_dur(kick):\n",
    "        songs_red = [s for s in songs_red if s not in kick]\n",
    "    elif len(kick) == 1:\n",
    "        songs_red = [s for s in songs_red if s not in kick]\n",
    "    elif all([space_total > get_dur([k]) for k in kick]):\n",
    "        # only remove the shorter song\n",
    "        rm = df_1[df_1[0].isin(kick)].sort_values(5).iloc[0][0]\n",
    "        songs_red = [s for s in songs_red if s != rm]\n",
    "    else:\n",
    "        # only remove the longer song\n",
    "        rm = df_1[df_1[0].isin(kick)].sort_values(5, ascending=False).iloc[0][0]\n",
    "        songs_red = [s for s in songs_red if s != rm]"
   ]
  },
  {
   "cell_type": "code",
   "execution_count": 84,
   "metadata": {},
   "outputs": [
    {
     "data": {
      "text/plain": [
       "(4799, 4528.237129535148)"
      ]
     },
     "execution_count": 84,
     "metadata": {},
     "output_type": "execute_result"
    }
   ],
   "source": [
    "space_total, get_dur(songs_red + missings)"
   ]
  },
  {
   "cell_type": "code",
   "execution_count": 85,
   "metadata": {},
   "outputs": [
    {
     "data": {
      "application/javascript": [
       "/* Put everything inside the global mpl namespace */\n",
       "window.mpl = {};\n",
       "\n",
       "\n",
       "mpl.get_websocket_type = function() {\n",
       "    if (typeof(WebSocket) !== 'undefined') {\n",
       "        return WebSocket;\n",
       "    } else if (typeof(MozWebSocket) !== 'undefined') {\n",
       "        return MozWebSocket;\n",
       "    } else {\n",
       "        alert('Your browser does not have WebSocket support. ' +\n",
       "              'Please try Chrome, Safari or Firefox ≥ 6. ' +\n",
       "              'Firefox 4 and 5 are also supported but you ' +\n",
       "              'have to enable WebSockets in about:config.');\n",
       "    };\n",
       "}\n",
       "\n",
       "mpl.figure = function(figure_id, websocket, ondownload, parent_element) {\n",
       "    this.id = figure_id;\n",
       "\n",
       "    this.ws = websocket;\n",
       "\n",
       "    this.supports_binary = (this.ws.binaryType != undefined);\n",
       "\n",
       "    if (!this.supports_binary) {\n",
       "        var warnings = document.getElementById(\"mpl-warnings\");\n",
       "        if (warnings) {\n",
       "            warnings.style.display = 'block';\n",
       "            warnings.textContent = (\n",
       "                \"This browser does not support binary websocket messages. \" +\n",
       "                    \"Performance may be slow.\");\n",
       "        }\n",
       "    }\n",
       "\n",
       "    this.imageObj = new Image();\n",
       "\n",
       "    this.context = undefined;\n",
       "    this.message = undefined;\n",
       "    this.canvas = undefined;\n",
       "    this.rubberband_canvas = undefined;\n",
       "    this.rubberband_context = undefined;\n",
       "    this.format_dropdown = undefined;\n",
       "\n",
       "    this.image_mode = 'full';\n",
       "\n",
       "    this.root = $('<div/>');\n",
       "    this._root_extra_style(this.root)\n",
       "    this.root.attr('style', 'display: inline-block');\n",
       "\n",
       "    $(parent_element).append(this.root);\n",
       "\n",
       "    this._init_header(this);\n",
       "    this._init_canvas(this);\n",
       "    this._init_toolbar(this);\n",
       "\n",
       "    var fig = this;\n",
       "\n",
       "    this.waiting = false;\n",
       "\n",
       "    this.ws.onopen =  function () {\n",
       "            fig.send_message(\"supports_binary\", {value: fig.supports_binary});\n",
       "            fig.send_message(\"send_image_mode\", {});\n",
       "            if (mpl.ratio != 1) {\n",
       "                fig.send_message(\"set_dpi_ratio\", {'dpi_ratio': mpl.ratio});\n",
       "            }\n",
       "            fig.send_message(\"refresh\", {});\n",
       "        }\n",
       "\n",
       "    this.imageObj.onload = function() {\n",
       "            if (fig.image_mode == 'full') {\n",
       "                // Full images could contain transparency (where diff images\n",
       "                // almost always do), so we need to clear the canvas so that\n",
       "                // there is no ghosting.\n",
       "                fig.context.clearRect(0, 0, fig.canvas.width, fig.canvas.height);\n",
       "            }\n",
       "            fig.context.drawImage(fig.imageObj, 0, 0);\n",
       "        };\n",
       "\n",
       "    this.imageObj.onunload = function() {\n",
       "        fig.ws.close();\n",
       "    }\n",
       "\n",
       "    this.ws.onmessage = this._make_on_message_function(this);\n",
       "\n",
       "    this.ondownload = ondownload;\n",
       "}\n",
       "\n",
       "mpl.figure.prototype._init_header = function() {\n",
       "    var titlebar = $(\n",
       "        '<div class=\"ui-dialog-titlebar ui-widget-header ui-corner-all ' +\n",
       "        'ui-helper-clearfix\"/>');\n",
       "    var titletext = $(\n",
       "        '<div class=\"ui-dialog-title\" style=\"width: 100%; ' +\n",
       "        'text-align: center; padding: 3px;\"/>');\n",
       "    titlebar.append(titletext)\n",
       "    this.root.append(titlebar);\n",
       "    this.header = titletext[0];\n",
       "}\n",
       "\n",
       "\n",
       "\n",
       "mpl.figure.prototype._canvas_extra_style = function(canvas_div) {\n",
       "\n",
       "}\n",
       "\n",
       "\n",
       "mpl.figure.prototype._root_extra_style = function(canvas_div) {\n",
       "\n",
       "}\n",
       "\n",
       "mpl.figure.prototype._init_canvas = function() {\n",
       "    var fig = this;\n",
       "\n",
       "    var canvas_div = $('<div/>');\n",
       "\n",
       "    canvas_div.attr('style', 'position: relative; clear: both; outline: 0');\n",
       "\n",
       "    function canvas_keyboard_event(event) {\n",
       "        return fig.key_event(event, event['data']);\n",
       "    }\n",
       "\n",
       "    canvas_div.keydown('key_press', canvas_keyboard_event);\n",
       "    canvas_div.keyup('key_release', canvas_keyboard_event);\n",
       "    this.canvas_div = canvas_div\n",
       "    this._canvas_extra_style(canvas_div)\n",
       "    this.root.append(canvas_div);\n",
       "\n",
       "    var canvas = $('<canvas/>');\n",
       "    canvas.addClass('mpl-canvas');\n",
       "    canvas.attr('style', \"left: 0; top: 0; z-index: 0; outline: 0\")\n",
       "\n",
       "    this.canvas = canvas[0];\n",
       "    this.context = canvas[0].getContext(\"2d\");\n",
       "\n",
       "    var backingStore = this.context.backingStorePixelRatio ||\n",
       "\tthis.context.webkitBackingStorePixelRatio ||\n",
       "\tthis.context.mozBackingStorePixelRatio ||\n",
       "\tthis.context.msBackingStorePixelRatio ||\n",
       "\tthis.context.oBackingStorePixelRatio ||\n",
       "\tthis.context.backingStorePixelRatio || 1;\n",
       "\n",
       "    mpl.ratio = (window.devicePixelRatio || 1) / backingStore;\n",
       "\n",
       "    var rubberband = $('<canvas/>');\n",
       "    rubberband.attr('style', \"position: absolute; left: 0; top: 0; z-index: 1;\")\n",
       "\n",
       "    var pass_mouse_events = true;\n",
       "\n",
       "    canvas_div.resizable({\n",
       "        start: function(event, ui) {\n",
       "            pass_mouse_events = false;\n",
       "        },\n",
       "        resize: function(event, ui) {\n",
       "            fig.request_resize(ui.size.width, ui.size.height);\n",
       "        },\n",
       "        stop: function(event, ui) {\n",
       "            pass_mouse_events = true;\n",
       "            fig.request_resize(ui.size.width, ui.size.height);\n",
       "        },\n",
       "    });\n",
       "\n",
       "    function mouse_event_fn(event) {\n",
       "        if (pass_mouse_events)\n",
       "            return fig.mouse_event(event, event['data']);\n",
       "    }\n",
       "\n",
       "    rubberband.mousedown('button_press', mouse_event_fn);\n",
       "    rubberband.mouseup('button_release', mouse_event_fn);\n",
       "    // Throttle sequential mouse events to 1 every 20ms.\n",
       "    rubberband.mousemove('motion_notify', mouse_event_fn);\n",
       "\n",
       "    rubberband.mouseenter('figure_enter', mouse_event_fn);\n",
       "    rubberband.mouseleave('figure_leave', mouse_event_fn);\n",
       "\n",
       "    canvas_div.on(\"wheel\", function (event) {\n",
       "        event = event.originalEvent;\n",
       "        event['data'] = 'scroll'\n",
       "        if (event.deltaY < 0) {\n",
       "            event.step = 1;\n",
       "        } else {\n",
       "            event.step = -1;\n",
       "        }\n",
       "        mouse_event_fn(event);\n",
       "    });\n",
       "\n",
       "    canvas_div.append(canvas);\n",
       "    canvas_div.append(rubberband);\n",
       "\n",
       "    this.rubberband = rubberband;\n",
       "    this.rubberband_canvas = rubberband[0];\n",
       "    this.rubberband_context = rubberband[0].getContext(\"2d\");\n",
       "    this.rubberband_context.strokeStyle = \"#000000\";\n",
       "\n",
       "    this._resize_canvas = function(width, height) {\n",
       "        // Keep the size of the canvas, canvas container, and rubber band\n",
       "        // canvas in synch.\n",
       "        canvas_div.css('width', width)\n",
       "        canvas_div.css('height', height)\n",
       "\n",
       "        canvas.attr('width', width * mpl.ratio);\n",
       "        canvas.attr('height', height * mpl.ratio);\n",
       "        canvas.attr('style', 'width: ' + width + 'px; height: ' + height + 'px;');\n",
       "\n",
       "        rubberband.attr('width', width);\n",
       "        rubberband.attr('height', height);\n",
       "    }\n",
       "\n",
       "    // Set the figure to an initial 600x600px, this will subsequently be updated\n",
       "    // upon first draw.\n",
       "    this._resize_canvas(600, 600);\n",
       "\n",
       "    // Disable right mouse context menu.\n",
       "    $(this.rubberband_canvas).bind(\"contextmenu\",function(e){\n",
       "        return false;\n",
       "    });\n",
       "\n",
       "    function set_focus () {\n",
       "        canvas.focus();\n",
       "        canvas_div.focus();\n",
       "    }\n",
       "\n",
       "    window.setTimeout(set_focus, 100);\n",
       "}\n",
       "\n",
       "mpl.figure.prototype._init_toolbar = function() {\n",
       "    var fig = this;\n",
       "\n",
       "    var nav_element = $('<div/>');\n",
       "    nav_element.attr('style', 'width: 100%');\n",
       "    this.root.append(nav_element);\n",
       "\n",
       "    // Define a callback function for later on.\n",
       "    function toolbar_event(event) {\n",
       "        return fig.toolbar_button_onclick(event['data']);\n",
       "    }\n",
       "    function toolbar_mouse_event(event) {\n",
       "        return fig.toolbar_button_onmouseover(event['data']);\n",
       "    }\n",
       "\n",
       "    for(var toolbar_ind in mpl.toolbar_items) {\n",
       "        var name = mpl.toolbar_items[toolbar_ind][0];\n",
       "        var tooltip = mpl.toolbar_items[toolbar_ind][1];\n",
       "        var image = mpl.toolbar_items[toolbar_ind][2];\n",
       "        var method_name = mpl.toolbar_items[toolbar_ind][3];\n",
       "\n",
       "        if (!name) {\n",
       "            // put a spacer in here.\n",
       "            continue;\n",
       "        }\n",
       "        var button = $('<button/>');\n",
       "        button.addClass('ui-button ui-widget ui-state-default ui-corner-all ' +\n",
       "                        'ui-button-icon-only');\n",
       "        button.attr('role', 'button');\n",
       "        button.attr('aria-disabled', 'false');\n",
       "        button.click(method_name, toolbar_event);\n",
       "        button.mouseover(tooltip, toolbar_mouse_event);\n",
       "\n",
       "        var icon_img = $('<span/>');\n",
       "        icon_img.addClass('ui-button-icon-primary ui-icon');\n",
       "        icon_img.addClass(image);\n",
       "        icon_img.addClass('ui-corner-all');\n",
       "\n",
       "        var tooltip_span = $('<span/>');\n",
       "        tooltip_span.addClass('ui-button-text');\n",
       "        tooltip_span.html(tooltip);\n",
       "\n",
       "        button.append(icon_img);\n",
       "        button.append(tooltip_span);\n",
       "\n",
       "        nav_element.append(button);\n",
       "    }\n",
       "\n",
       "    var fmt_picker_span = $('<span/>');\n",
       "\n",
       "    var fmt_picker = $('<select/>');\n",
       "    fmt_picker.addClass('mpl-toolbar-option ui-widget ui-widget-content');\n",
       "    fmt_picker_span.append(fmt_picker);\n",
       "    nav_element.append(fmt_picker_span);\n",
       "    this.format_dropdown = fmt_picker[0];\n",
       "\n",
       "    for (var ind in mpl.extensions) {\n",
       "        var fmt = mpl.extensions[ind];\n",
       "        var option = $(\n",
       "            '<option/>', {selected: fmt === mpl.default_extension}).html(fmt);\n",
       "        fmt_picker.append(option);\n",
       "    }\n",
       "\n",
       "    // Add hover states to the ui-buttons\n",
       "    $( \".ui-button\" ).hover(\n",
       "        function() { $(this).addClass(\"ui-state-hover\");},\n",
       "        function() { $(this).removeClass(\"ui-state-hover\");}\n",
       "    );\n",
       "\n",
       "    var status_bar = $('<span class=\"mpl-message\"/>');\n",
       "    nav_element.append(status_bar);\n",
       "    this.message = status_bar[0];\n",
       "}\n",
       "\n",
       "mpl.figure.prototype.request_resize = function(x_pixels, y_pixels) {\n",
       "    // Request matplotlib to resize the figure. Matplotlib will then trigger a resize in the client,\n",
       "    // which will in turn request a refresh of the image.\n",
       "    this.send_message('resize', {'width': x_pixels, 'height': y_pixels});\n",
       "}\n",
       "\n",
       "mpl.figure.prototype.send_message = function(type, properties) {\n",
       "    properties['type'] = type;\n",
       "    properties['figure_id'] = this.id;\n",
       "    this.ws.send(JSON.stringify(properties));\n",
       "}\n",
       "\n",
       "mpl.figure.prototype.send_draw_message = function() {\n",
       "    if (!this.waiting) {\n",
       "        this.waiting = true;\n",
       "        this.ws.send(JSON.stringify({type: \"draw\", figure_id: this.id}));\n",
       "    }\n",
       "}\n",
       "\n",
       "\n",
       "mpl.figure.prototype.handle_save = function(fig, msg) {\n",
       "    var format_dropdown = fig.format_dropdown;\n",
       "    var format = format_dropdown.options[format_dropdown.selectedIndex].value;\n",
       "    fig.ondownload(fig, format);\n",
       "}\n",
       "\n",
       "\n",
       "mpl.figure.prototype.handle_resize = function(fig, msg) {\n",
       "    var size = msg['size'];\n",
       "    if (size[0] != fig.canvas.width || size[1] != fig.canvas.height) {\n",
       "        fig._resize_canvas(size[0], size[1]);\n",
       "        fig.send_message(\"refresh\", {});\n",
       "    };\n",
       "}\n",
       "\n",
       "mpl.figure.prototype.handle_rubberband = function(fig, msg) {\n",
       "    var x0 = msg['x0'] / mpl.ratio;\n",
       "    var y0 = (fig.canvas.height - msg['y0']) / mpl.ratio;\n",
       "    var x1 = msg['x1'] / mpl.ratio;\n",
       "    var y1 = (fig.canvas.height - msg['y1']) / mpl.ratio;\n",
       "    x0 = Math.floor(x0) + 0.5;\n",
       "    y0 = Math.floor(y0) + 0.5;\n",
       "    x1 = Math.floor(x1) + 0.5;\n",
       "    y1 = Math.floor(y1) + 0.5;\n",
       "    var min_x = Math.min(x0, x1);\n",
       "    var min_y = Math.min(y0, y1);\n",
       "    var width = Math.abs(x1 - x0);\n",
       "    var height = Math.abs(y1 - y0);\n",
       "\n",
       "    fig.rubberband_context.clearRect(\n",
       "        0, 0, fig.canvas.width / mpl.ratio, fig.canvas.height / mpl.ratio);\n",
       "\n",
       "    fig.rubberband_context.strokeRect(min_x, min_y, width, height);\n",
       "}\n",
       "\n",
       "mpl.figure.prototype.handle_figure_label = function(fig, msg) {\n",
       "    // Updates the figure title.\n",
       "    fig.header.textContent = msg['label'];\n",
       "}\n",
       "\n",
       "mpl.figure.prototype.handle_cursor = function(fig, msg) {\n",
       "    var cursor = msg['cursor'];\n",
       "    switch(cursor)\n",
       "    {\n",
       "    case 0:\n",
       "        cursor = 'pointer';\n",
       "        break;\n",
       "    case 1:\n",
       "        cursor = 'default';\n",
       "        break;\n",
       "    case 2:\n",
       "        cursor = 'crosshair';\n",
       "        break;\n",
       "    case 3:\n",
       "        cursor = 'move';\n",
       "        break;\n",
       "    }\n",
       "    fig.rubberband_canvas.style.cursor = cursor;\n",
       "}\n",
       "\n",
       "mpl.figure.prototype.handle_message = function(fig, msg) {\n",
       "    fig.message.textContent = msg['message'];\n",
       "}\n",
       "\n",
       "mpl.figure.prototype.handle_draw = function(fig, msg) {\n",
       "    // Request the server to send over a new figure.\n",
       "    fig.send_draw_message();\n",
       "}\n",
       "\n",
       "mpl.figure.prototype.handle_image_mode = function(fig, msg) {\n",
       "    fig.image_mode = msg['mode'];\n",
       "}\n",
       "\n",
       "mpl.figure.prototype.updated_canvas_event = function() {\n",
       "    // Called whenever the canvas gets updated.\n",
       "    this.send_message(\"ack\", {});\n",
       "}\n",
       "\n",
       "// A function to construct a web socket function for onmessage handling.\n",
       "// Called in the figure constructor.\n",
       "mpl.figure.prototype._make_on_message_function = function(fig) {\n",
       "    return function socket_on_message(evt) {\n",
       "        if (evt.data instanceof Blob) {\n",
       "            /* FIXME: We get \"Resource interpreted as Image but\n",
       "             * transferred with MIME type text/plain:\" errors on\n",
       "             * Chrome.  But how to set the MIME type?  It doesn't seem\n",
       "             * to be part of the websocket stream */\n",
       "            evt.data.type = \"image/png\";\n",
       "\n",
       "            /* Free the memory for the previous frames */\n",
       "            if (fig.imageObj.src) {\n",
       "                (window.URL || window.webkitURL).revokeObjectURL(\n",
       "                    fig.imageObj.src);\n",
       "            }\n",
       "\n",
       "            fig.imageObj.src = (window.URL || window.webkitURL).createObjectURL(\n",
       "                evt.data);\n",
       "            fig.updated_canvas_event();\n",
       "            fig.waiting = false;\n",
       "            return;\n",
       "        }\n",
       "        else if (typeof evt.data === 'string' && evt.data.slice(0, 21) == \"data:image/png;base64\") {\n",
       "            fig.imageObj.src = evt.data;\n",
       "            fig.updated_canvas_event();\n",
       "            fig.waiting = false;\n",
       "            return;\n",
       "        }\n",
       "\n",
       "        var msg = JSON.parse(evt.data);\n",
       "        var msg_type = msg['type'];\n",
       "\n",
       "        // Call the  \"handle_{type}\" callback, which takes\n",
       "        // the figure and JSON message as its only arguments.\n",
       "        try {\n",
       "            var callback = fig[\"handle_\" + msg_type];\n",
       "        } catch (e) {\n",
       "            console.log(\"No handler for the '\" + msg_type + \"' message type: \", msg);\n",
       "            return;\n",
       "        }\n",
       "\n",
       "        if (callback) {\n",
       "            try {\n",
       "                // console.log(\"Handling '\" + msg_type + \"' message: \", msg);\n",
       "                callback(fig, msg);\n",
       "            } catch (e) {\n",
       "                console.log(\"Exception inside the 'handler_\" + msg_type + \"' callback:\", e, e.stack, msg);\n",
       "            }\n",
       "        }\n",
       "    };\n",
       "}\n",
       "\n",
       "// from http://stackoverflow.com/questions/1114465/getting-mouse-location-in-canvas\n",
       "mpl.findpos = function(e) {\n",
       "    //this section is from http://www.quirksmode.org/js/events_properties.html\n",
       "    var targ;\n",
       "    if (!e)\n",
       "        e = window.event;\n",
       "    if (e.target)\n",
       "        targ = e.target;\n",
       "    else if (e.srcElement)\n",
       "        targ = e.srcElement;\n",
       "    if (targ.nodeType == 3) // defeat Safari bug\n",
       "        targ = targ.parentNode;\n",
       "\n",
       "    // jQuery normalizes the pageX and pageY\n",
       "    // pageX,Y are the mouse positions relative to the document\n",
       "    // offset() returns the position of the element relative to the document\n",
       "    var x = e.pageX - $(targ).offset().left;\n",
       "    var y = e.pageY - $(targ).offset().top;\n",
       "\n",
       "    return {\"x\": x, \"y\": y};\n",
       "};\n",
       "\n",
       "/*\n",
       " * return a copy of an object with only non-object keys\n",
       " * we need this to avoid circular references\n",
       " * http://stackoverflow.com/a/24161582/3208463\n",
       " */\n",
       "function simpleKeys (original) {\n",
       "  return Object.keys(original).reduce(function (obj, key) {\n",
       "    if (typeof original[key] !== 'object')\n",
       "        obj[key] = original[key]\n",
       "    return obj;\n",
       "  }, {});\n",
       "}\n",
       "\n",
       "mpl.figure.prototype.mouse_event = function(event, name) {\n",
       "    var canvas_pos = mpl.findpos(event)\n",
       "\n",
       "    if (name === 'button_press')\n",
       "    {\n",
       "        this.canvas.focus();\n",
       "        this.canvas_div.focus();\n",
       "    }\n",
       "\n",
       "    var x = canvas_pos.x * mpl.ratio;\n",
       "    var y = canvas_pos.y * mpl.ratio;\n",
       "\n",
       "    this.send_message(name, {x: x, y: y, button: event.button,\n",
       "                             step: event.step,\n",
       "                             guiEvent: simpleKeys(event)});\n",
       "\n",
       "    /* This prevents the web browser from automatically changing to\n",
       "     * the text insertion cursor when the button is pressed.  We want\n",
       "     * to control all of the cursor setting manually through the\n",
       "     * 'cursor' event from matplotlib */\n",
       "    event.preventDefault();\n",
       "    return false;\n",
       "}\n",
       "\n",
       "mpl.figure.prototype._key_event_extra = function(event, name) {\n",
       "    // Handle any extra behaviour associated with a key event\n",
       "}\n",
       "\n",
       "mpl.figure.prototype.key_event = function(event, name) {\n",
       "\n",
       "    // Prevent repeat events\n",
       "    if (name == 'key_press')\n",
       "    {\n",
       "        if (event.which === this._key)\n",
       "            return;\n",
       "        else\n",
       "            this._key = event.which;\n",
       "    }\n",
       "    if (name == 'key_release')\n",
       "        this._key = null;\n",
       "\n",
       "    var value = '';\n",
       "    if (event.ctrlKey && event.which != 17)\n",
       "        value += \"ctrl+\";\n",
       "    if (event.altKey && event.which != 18)\n",
       "        value += \"alt+\";\n",
       "    if (event.shiftKey && event.which != 16)\n",
       "        value += \"shift+\";\n",
       "\n",
       "    value += 'k';\n",
       "    value += event.which.toString();\n",
       "\n",
       "    this._key_event_extra(event, name);\n",
       "\n",
       "    this.send_message(name, {key: value,\n",
       "                             guiEvent: simpleKeys(event)});\n",
       "    return false;\n",
       "}\n",
       "\n",
       "mpl.figure.prototype.toolbar_button_onclick = function(name) {\n",
       "    if (name == 'download') {\n",
       "        this.handle_save(this, null);\n",
       "    } else {\n",
       "        this.send_message(\"toolbar_button\", {name: name});\n",
       "    }\n",
       "};\n",
       "\n",
       "mpl.figure.prototype.toolbar_button_onmouseover = function(tooltip) {\n",
       "    this.message.textContent = tooltip;\n",
       "};\n",
       "mpl.toolbar_items = [[\"Home\", \"Reset original view\", \"fa fa-home icon-home\", \"home\"], [\"Back\", \"Back to previous view\", \"fa fa-arrow-left icon-arrow-left\", \"back\"], [\"Forward\", \"Forward to next view\", \"fa fa-arrow-right icon-arrow-right\", \"forward\"], [\"\", \"\", \"\", \"\"], [\"Pan\", \"Pan axes with left mouse, zoom with right\", \"fa fa-arrows icon-move\", \"pan\"], [\"Zoom\", \"Zoom to rectangle\", \"fa fa-square-o icon-check-empty\", \"zoom\"], [\"\", \"\", \"\", \"\"], [\"Download\", \"Download plot\", \"fa fa-floppy-o icon-save\", \"download\"]];\n",
       "\n",
       "mpl.extensions = [\"eps\", \"jpeg\", \"pdf\", \"png\", \"ps\", \"raw\", \"svg\", \"tif\"];\n",
       "\n",
       "mpl.default_extension = \"png\";var comm_websocket_adapter = function(comm) {\n",
       "    // Create a \"websocket\"-like object which calls the given IPython comm\n",
       "    // object with the appropriate methods. Currently this is a non binary\n",
       "    // socket, so there is still some room for performance tuning.\n",
       "    var ws = {};\n",
       "\n",
       "    ws.close = function() {\n",
       "        comm.close()\n",
       "    };\n",
       "    ws.send = function(m) {\n",
       "        //console.log('sending', m);\n",
       "        comm.send(m);\n",
       "    };\n",
       "    // Register the callback with on_msg.\n",
       "    comm.on_msg(function(msg) {\n",
       "        //console.log('receiving', msg['content']['data'], msg);\n",
       "        // Pass the mpl event to the overridden (by mpl) onmessage function.\n",
       "        ws.onmessage(msg['content']['data'])\n",
       "    });\n",
       "    return ws;\n",
       "}\n",
       "\n",
       "mpl.mpl_figure_comm = function(comm, msg) {\n",
       "    // This is the function which gets called when the mpl process\n",
       "    // starts-up an IPython Comm through the \"matplotlib\" channel.\n",
       "\n",
       "    var id = msg.content.data.id;\n",
       "    // Get hold of the div created by the display call when the Comm\n",
       "    // socket was opened in Python.\n",
       "    var element = $(\"#\" + id);\n",
       "    var ws_proxy = comm_websocket_adapter(comm)\n",
       "\n",
       "    function ondownload(figure, format) {\n",
       "        window.open(figure.imageObj.src);\n",
       "    }\n",
       "\n",
       "    var fig = new mpl.figure(id, ws_proxy,\n",
       "                           ondownload,\n",
       "                           element.get(0));\n",
       "\n",
       "    // Call onopen now - mpl needs it, as it is assuming we've passed it a real\n",
       "    // web socket which is closed, not our websocket->open comm proxy.\n",
       "    ws_proxy.onopen();\n",
       "\n",
       "    fig.parent_element = element.get(0);\n",
       "    fig.cell_info = mpl.find_output_cell(\"<div id='\" + id + \"'></div>\");\n",
       "    if (!fig.cell_info) {\n",
       "        console.error(\"Failed to find cell for figure\", id, fig);\n",
       "        return;\n",
       "    }\n",
       "\n",
       "    var output_index = fig.cell_info[2]\n",
       "    var cell = fig.cell_info[0];\n",
       "\n",
       "};\n",
       "\n",
       "mpl.figure.prototype.handle_close = function(fig, msg) {\n",
       "    var width = fig.canvas.width/mpl.ratio\n",
       "    fig.root.unbind('remove')\n",
       "\n",
       "    // Update the output cell to use the data from the current canvas.\n",
       "    fig.push_to_output();\n",
       "    var dataURL = fig.canvas.toDataURL();\n",
       "    // Re-enable the keyboard manager in IPython - without this line, in FF,\n",
       "    // the notebook keyboard shortcuts fail.\n",
       "    IPython.keyboard_manager.enable()\n",
       "    $(fig.parent_element).html('<img src=\"' + dataURL + '\" width=\"' + width + '\">');\n",
       "    fig.close_ws(fig, msg);\n",
       "}\n",
       "\n",
       "mpl.figure.prototype.close_ws = function(fig, msg){\n",
       "    fig.send_message('closing', msg);\n",
       "    // fig.ws.close()\n",
       "}\n",
       "\n",
       "mpl.figure.prototype.push_to_output = function(remove_interactive) {\n",
       "    // Turn the data on the canvas into data in the output cell.\n",
       "    var width = this.canvas.width/mpl.ratio\n",
       "    var dataURL = this.canvas.toDataURL();\n",
       "    this.cell_info[1]['text/html'] = '<img src=\"' + dataURL + '\" width=\"' + width + '\">';\n",
       "}\n",
       "\n",
       "mpl.figure.prototype.updated_canvas_event = function() {\n",
       "    // Tell IPython that the notebook contents must change.\n",
       "    IPython.notebook.set_dirty(true);\n",
       "    this.send_message(\"ack\", {});\n",
       "    var fig = this;\n",
       "    // Wait a second, then push the new image to the DOM so\n",
       "    // that it is saved nicely (might be nice to debounce this).\n",
       "    setTimeout(function () { fig.push_to_output() }, 1000);\n",
       "}\n",
       "\n",
       "mpl.figure.prototype._init_toolbar = function() {\n",
       "    var fig = this;\n",
       "\n",
       "    var nav_element = $('<div/>');\n",
       "    nav_element.attr('style', 'width: 100%');\n",
       "    this.root.append(nav_element);\n",
       "\n",
       "    // Define a callback function for later on.\n",
       "    function toolbar_event(event) {\n",
       "        return fig.toolbar_button_onclick(event['data']);\n",
       "    }\n",
       "    function toolbar_mouse_event(event) {\n",
       "        return fig.toolbar_button_onmouseover(event['data']);\n",
       "    }\n",
       "\n",
       "    for(var toolbar_ind in mpl.toolbar_items){\n",
       "        var name = mpl.toolbar_items[toolbar_ind][0];\n",
       "        var tooltip = mpl.toolbar_items[toolbar_ind][1];\n",
       "        var image = mpl.toolbar_items[toolbar_ind][2];\n",
       "        var method_name = mpl.toolbar_items[toolbar_ind][3];\n",
       "\n",
       "        if (!name) { continue; };\n",
       "\n",
       "        var button = $('<button class=\"btn btn-default\" href=\"#\" title=\"' + name + '\"><i class=\"fa ' + image + ' fa-lg\"></i></button>');\n",
       "        button.click(method_name, toolbar_event);\n",
       "        button.mouseover(tooltip, toolbar_mouse_event);\n",
       "        nav_element.append(button);\n",
       "    }\n",
       "\n",
       "    // Add the status bar.\n",
       "    var status_bar = $('<span class=\"mpl-message\" style=\"text-align:right; float: right;\"/>');\n",
       "    nav_element.append(status_bar);\n",
       "    this.message = status_bar[0];\n",
       "\n",
       "    // Add the close button to the window.\n",
       "    var buttongrp = $('<div class=\"btn-group inline pull-right\"></div>');\n",
       "    var button = $('<button class=\"btn btn-mini btn-primary\" href=\"#\" title=\"Stop Interaction\"><i class=\"fa fa-power-off icon-remove icon-large\"></i></button>');\n",
       "    button.click(function (evt) { fig.handle_close(fig, {}); } );\n",
       "    button.mouseover('Stop Interaction', toolbar_mouse_event);\n",
       "    buttongrp.append(button);\n",
       "    var titlebar = this.root.find($('.ui-dialog-titlebar'));\n",
       "    titlebar.prepend(buttongrp);\n",
       "}\n",
       "\n",
       "mpl.figure.prototype._root_extra_style = function(el){\n",
       "    var fig = this\n",
       "    el.on(\"remove\", function(){\n",
       "\tfig.close_ws(fig, {});\n",
       "    });\n",
       "}\n",
       "\n",
       "mpl.figure.prototype._canvas_extra_style = function(el){\n",
       "    // this is important to make the div 'focusable\n",
       "    el.attr('tabindex', 0)\n",
       "    // reach out to IPython and tell the keyboard manager to turn it's self\n",
       "    // off when our div gets focus\n",
       "\n",
       "    // location in version 3\n",
       "    if (IPython.notebook.keyboard_manager) {\n",
       "        IPython.notebook.keyboard_manager.register_events(el);\n",
       "    }\n",
       "    else {\n",
       "        // location in version 2\n",
       "        IPython.keyboard_manager.register_events(el);\n",
       "    }\n",
       "\n",
       "}\n",
       "\n",
       "mpl.figure.prototype._key_event_extra = function(event, name) {\n",
       "    var manager = IPython.notebook.keyboard_manager;\n",
       "    if (!manager)\n",
       "        manager = IPython.keyboard_manager;\n",
       "\n",
       "    // Check for shift+enter\n",
       "    if (event.shiftKey && event.which == 13) {\n",
       "        this.canvas_div.blur();\n",
       "        // select the cell after this one\n",
       "        var index = IPython.notebook.find_cell_index(this.cell_info[0]);\n",
       "        IPython.notebook.select(index + 1);\n",
       "    }\n",
       "}\n",
       "\n",
       "mpl.figure.prototype.handle_save = function(fig, msg) {\n",
       "    fig.ondownload(fig, null);\n",
       "}\n",
       "\n",
       "\n",
       "mpl.find_output_cell = function(html_output) {\n",
       "    // Return the cell and output element which can be found *uniquely* in the notebook.\n",
       "    // Note - this is a bit hacky, but it is done because the \"notebook_saving.Notebook\"\n",
       "    // IPython event is triggered only after the cells have been serialised, which for\n",
       "    // our purposes (turning an active figure into a static one), is too late.\n",
       "    var cells = IPython.notebook.get_cells();\n",
       "    var ncells = cells.length;\n",
       "    for (var i=0; i<ncells; i++) {\n",
       "        var cell = cells[i];\n",
       "        if (cell.cell_type === 'code'){\n",
       "            for (var j=0; j<cell.output_area.outputs.length; j++) {\n",
       "                var data = cell.output_area.outputs[j];\n",
       "                if (data.data) {\n",
       "                    // IPython >= 3 moved mimebundle to data attribute of output\n",
       "                    data = data.data;\n",
       "                }\n",
       "                if (data['text/html'] == html_output) {\n",
       "                    return [cell, data, j];\n",
       "                }\n",
       "            }\n",
       "        }\n",
       "    }\n",
       "}\n",
       "\n",
       "// Register the function which deals with the matplotlib target/channel.\n",
       "// The kernel may be null if the page has been refreshed.\n",
       "if (IPython.notebook.kernel != null) {\n",
       "    IPython.notebook.kernel.comm_manager.register_target('matplotlib', mpl.mpl_figure_comm);\n",
       "}\n"
      ],
      "text/plain": [
       "<IPython.core.display.Javascript object>"
      ]
     },
     "metadata": {},
     "output_type": "display_data"
    },
    {
     "data": {
      "text/html": [
       "<img src=\"data:image/png;base64,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\" width=\"640\">"
      ],
      "text/plain": [
       "<IPython.core.display.HTML object>"
      ]
     },
     "metadata": {},
     "output_type": "display_data"
    },
    {
     "data": {
      "text/plain": [
       "[<matplotlib.lines.Line2D at 0x220a692f1c8>]"
      ]
     },
     "execution_count": 85,
     "metadata": {},
     "output_type": "execute_result"
    }
   ],
   "source": [
    "plt.figure()\n",
    "plt.plot(get_fit(songs_red, False))"
   ]
  },
  {
   "cell_type": "code",
   "execution_count": 86,
   "metadata": {},
   "outputs": [
    {
     "data": {
      "application/javascript": [
       "/* Put everything inside the global mpl namespace */\n",
       "window.mpl = {};\n",
       "\n",
       "\n",
       "mpl.get_websocket_type = function() {\n",
       "    if (typeof(WebSocket) !== 'undefined') {\n",
       "        return WebSocket;\n",
       "    } else if (typeof(MozWebSocket) !== 'undefined') {\n",
       "        return MozWebSocket;\n",
       "    } else {\n",
       "        alert('Your browser does not have WebSocket support. ' +\n",
       "              'Please try Chrome, Safari or Firefox ≥ 6. ' +\n",
       "              'Firefox 4 and 5 are also supported but you ' +\n",
       "              'have to enable WebSockets in about:config.');\n",
       "    };\n",
       "}\n",
       "\n",
       "mpl.figure = function(figure_id, websocket, ondownload, parent_element) {\n",
       "    this.id = figure_id;\n",
       "\n",
       "    this.ws = websocket;\n",
       "\n",
       "    this.supports_binary = (this.ws.binaryType != undefined);\n",
       "\n",
       "    if (!this.supports_binary) {\n",
       "        var warnings = document.getElementById(\"mpl-warnings\");\n",
       "        if (warnings) {\n",
       "            warnings.style.display = 'block';\n",
       "            warnings.textContent = (\n",
       "                \"This browser does not support binary websocket messages. \" +\n",
       "                    \"Performance may be slow.\");\n",
       "        }\n",
       "    }\n",
       "\n",
       "    this.imageObj = new Image();\n",
       "\n",
       "    this.context = undefined;\n",
       "    this.message = undefined;\n",
       "    this.canvas = undefined;\n",
       "    this.rubberband_canvas = undefined;\n",
       "    this.rubberband_context = undefined;\n",
       "    this.format_dropdown = undefined;\n",
       "\n",
       "    this.image_mode = 'full';\n",
       "\n",
       "    this.root = $('<div/>');\n",
       "    this._root_extra_style(this.root)\n",
       "    this.root.attr('style', 'display: inline-block');\n",
       "\n",
       "    $(parent_element).append(this.root);\n",
       "\n",
       "    this._init_header(this);\n",
       "    this._init_canvas(this);\n",
       "    this._init_toolbar(this);\n",
       "\n",
       "    var fig = this;\n",
       "\n",
       "    this.waiting = false;\n",
       "\n",
       "    this.ws.onopen =  function () {\n",
       "            fig.send_message(\"supports_binary\", {value: fig.supports_binary});\n",
       "            fig.send_message(\"send_image_mode\", {});\n",
       "            if (mpl.ratio != 1) {\n",
       "                fig.send_message(\"set_dpi_ratio\", {'dpi_ratio': mpl.ratio});\n",
       "            }\n",
       "            fig.send_message(\"refresh\", {});\n",
       "        }\n",
       "\n",
       "    this.imageObj.onload = function() {\n",
       "            if (fig.image_mode == 'full') {\n",
       "                // Full images could contain transparency (where diff images\n",
       "                // almost always do), so we need to clear the canvas so that\n",
       "                // there is no ghosting.\n",
       "                fig.context.clearRect(0, 0, fig.canvas.width, fig.canvas.height);\n",
       "            }\n",
       "            fig.context.drawImage(fig.imageObj, 0, 0);\n",
       "        };\n",
       "\n",
       "    this.imageObj.onunload = function() {\n",
       "        fig.ws.close();\n",
       "    }\n",
       "\n",
       "    this.ws.onmessage = this._make_on_message_function(this);\n",
       "\n",
       "    this.ondownload = ondownload;\n",
       "}\n",
       "\n",
       "mpl.figure.prototype._init_header = function() {\n",
       "    var titlebar = $(\n",
       "        '<div class=\"ui-dialog-titlebar ui-widget-header ui-corner-all ' +\n",
       "        'ui-helper-clearfix\"/>');\n",
       "    var titletext = $(\n",
       "        '<div class=\"ui-dialog-title\" style=\"width: 100%; ' +\n",
       "        'text-align: center; padding: 3px;\"/>');\n",
       "    titlebar.append(titletext)\n",
       "    this.root.append(titlebar);\n",
       "    this.header = titletext[0];\n",
       "}\n",
       "\n",
       "\n",
       "\n",
       "mpl.figure.prototype._canvas_extra_style = function(canvas_div) {\n",
       "\n",
       "}\n",
       "\n",
       "\n",
       "mpl.figure.prototype._root_extra_style = function(canvas_div) {\n",
       "\n",
       "}\n",
       "\n",
       "mpl.figure.prototype._init_canvas = function() {\n",
       "    var fig = this;\n",
       "\n",
       "    var canvas_div = $('<div/>');\n",
       "\n",
       "    canvas_div.attr('style', 'position: relative; clear: both; outline: 0');\n",
       "\n",
       "    function canvas_keyboard_event(event) {\n",
       "        return fig.key_event(event, event['data']);\n",
       "    }\n",
       "\n",
       "    canvas_div.keydown('key_press', canvas_keyboard_event);\n",
       "    canvas_div.keyup('key_release', canvas_keyboard_event);\n",
       "    this.canvas_div = canvas_div\n",
       "    this._canvas_extra_style(canvas_div)\n",
       "    this.root.append(canvas_div);\n",
       "\n",
       "    var canvas = $('<canvas/>');\n",
       "    canvas.addClass('mpl-canvas');\n",
       "    canvas.attr('style', \"left: 0; top: 0; z-index: 0; outline: 0\")\n",
       "\n",
       "    this.canvas = canvas[0];\n",
       "    this.context = canvas[0].getContext(\"2d\");\n",
       "\n",
       "    var backingStore = this.context.backingStorePixelRatio ||\n",
       "\tthis.context.webkitBackingStorePixelRatio ||\n",
       "\tthis.context.mozBackingStorePixelRatio ||\n",
       "\tthis.context.msBackingStorePixelRatio ||\n",
       "\tthis.context.oBackingStorePixelRatio ||\n",
       "\tthis.context.backingStorePixelRatio || 1;\n",
       "\n",
       "    mpl.ratio = (window.devicePixelRatio || 1) / backingStore;\n",
       "\n",
       "    var rubberband = $('<canvas/>');\n",
       "    rubberband.attr('style', \"position: absolute; left: 0; top: 0; z-index: 1;\")\n",
       "\n",
       "    var pass_mouse_events = true;\n",
       "\n",
       "    canvas_div.resizable({\n",
       "        start: function(event, ui) {\n",
       "            pass_mouse_events = false;\n",
       "        },\n",
       "        resize: function(event, ui) {\n",
       "            fig.request_resize(ui.size.width, ui.size.height);\n",
       "        },\n",
       "        stop: function(event, ui) {\n",
       "            pass_mouse_events = true;\n",
       "            fig.request_resize(ui.size.width, ui.size.height);\n",
       "        },\n",
       "    });\n",
       "\n",
       "    function mouse_event_fn(event) {\n",
       "        if (pass_mouse_events)\n",
       "            return fig.mouse_event(event, event['data']);\n",
       "    }\n",
       "\n",
       "    rubberband.mousedown('button_press', mouse_event_fn);\n",
       "    rubberband.mouseup('button_release', mouse_event_fn);\n",
       "    // Throttle sequential mouse events to 1 every 20ms.\n",
       "    rubberband.mousemove('motion_notify', mouse_event_fn);\n",
       "\n",
       "    rubberband.mouseenter('figure_enter', mouse_event_fn);\n",
       "    rubberband.mouseleave('figure_leave', mouse_event_fn);\n",
       "\n",
       "    canvas_div.on(\"wheel\", function (event) {\n",
       "        event = event.originalEvent;\n",
       "        event['data'] = 'scroll'\n",
       "        if (event.deltaY < 0) {\n",
       "            event.step = 1;\n",
       "        } else {\n",
       "            event.step = -1;\n",
       "        }\n",
       "        mouse_event_fn(event);\n",
       "    });\n",
       "\n",
       "    canvas_div.append(canvas);\n",
       "    canvas_div.append(rubberband);\n",
       "\n",
       "    this.rubberband = rubberband;\n",
       "    this.rubberband_canvas = rubberband[0];\n",
       "    this.rubberband_context = rubberband[0].getContext(\"2d\");\n",
       "    this.rubberband_context.strokeStyle = \"#000000\";\n",
       "\n",
       "    this._resize_canvas = function(width, height) {\n",
       "        // Keep the size of the canvas, canvas container, and rubber band\n",
       "        // canvas in synch.\n",
       "        canvas_div.css('width', width)\n",
       "        canvas_div.css('height', height)\n",
       "\n",
       "        canvas.attr('width', width * mpl.ratio);\n",
       "        canvas.attr('height', height * mpl.ratio);\n",
       "        canvas.attr('style', 'width: ' + width + 'px; height: ' + height + 'px;');\n",
       "\n",
       "        rubberband.attr('width', width);\n",
       "        rubberband.attr('height', height);\n",
       "    }\n",
       "\n",
       "    // Set the figure to an initial 600x600px, this will subsequently be updated\n",
       "    // upon first draw.\n",
       "    this._resize_canvas(600, 600);\n",
       "\n",
       "    // Disable right mouse context menu.\n",
       "    $(this.rubberband_canvas).bind(\"contextmenu\",function(e){\n",
       "        return false;\n",
       "    });\n",
       "\n",
       "    function set_focus () {\n",
       "        canvas.focus();\n",
       "        canvas_div.focus();\n",
       "    }\n",
       "\n",
       "    window.setTimeout(set_focus, 100);\n",
       "}\n",
       "\n",
       "mpl.figure.prototype._init_toolbar = function() {\n",
       "    var fig = this;\n",
       "\n",
       "    var nav_element = $('<div/>');\n",
       "    nav_element.attr('style', 'width: 100%');\n",
       "    this.root.append(nav_element);\n",
       "\n",
       "    // Define a callback function for later on.\n",
       "    function toolbar_event(event) {\n",
       "        return fig.toolbar_button_onclick(event['data']);\n",
       "    }\n",
       "    function toolbar_mouse_event(event) {\n",
       "        return fig.toolbar_button_onmouseover(event['data']);\n",
       "    }\n",
       "\n",
       "    for(var toolbar_ind in mpl.toolbar_items) {\n",
       "        var name = mpl.toolbar_items[toolbar_ind][0];\n",
       "        var tooltip = mpl.toolbar_items[toolbar_ind][1];\n",
       "        var image = mpl.toolbar_items[toolbar_ind][2];\n",
       "        var method_name = mpl.toolbar_items[toolbar_ind][3];\n",
       "\n",
       "        if (!name) {\n",
       "            // put a spacer in here.\n",
       "            continue;\n",
       "        }\n",
       "        var button = $('<button/>');\n",
       "        button.addClass('ui-button ui-widget ui-state-default ui-corner-all ' +\n",
       "                        'ui-button-icon-only');\n",
       "        button.attr('role', 'button');\n",
       "        button.attr('aria-disabled', 'false');\n",
       "        button.click(method_name, toolbar_event);\n",
       "        button.mouseover(tooltip, toolbar_mouse_event);\n",
       "\n",
       "        var icon_img = $('<span/>');\n",
       "        icon_img.addClass('ui-button-icon-primary ui-icon');\n",
       "        icon_img.addClass(image);\n",
       "        icon_img.addClass('ui-corner-all');\n",
       "\n",
       "        var tooltip_span = $('<span/>');\n",
       "        tooltip_span.addClass('ui-button-text');\n",
       "        tooltip_span.html(tooltip);\n",
       "\n",
       "        button.append(icon_img);\n",
       "        button.append(tooltip_span);\n",
       "\n",
       "        nav_element.append(button);\n",
       "    }\n",
       "\n",
       "    var fmt_picker_span = $('<span/>');\n",
       "\n",
       "    var fmt_picker = $('<select/>');\n",
       "    fmt_picker.addClass('mpl-toolbar-option ui-widget ui-widget-content');\n",
       "    fmt_picker_span.append(fmt_picker);\n",
       "    nav_element.append(fmt_picker_span);\n",
       "    this.format_dropdown = fmt_picker[0];\n",
       "\n",
       "    for (var ind in mpl.extensions) {\n",
       "        var fmt = mpl.extensions[ind];\n",
       "        var option = $(\n",
       "            '<option/>', {selected: fmt === mpl.default_extension}).html(fmt);\n",
       "        fmt_picker.append(option);\n",
       "    }\n",
       "\n",
       "    // Add hover states to the ui-buttons\n",
       "    $( \".ui-button\" ).hover(\n",
       "        function() { $(this).addClass(\"ui-state-hover\");},\n",
       "        function() { $(this).removeClass(\"ui-state-hover\");}\n",
       "    );\n",
       "\n",
       "    var status_bar = $('<span class=\"mpl-message\"/>');\n",
       "    nav_element.append(status_bar);\n",
       "    this.message = status_bar[0];\n",
       "}\n",
       "\n",
       "mpl.figure.prototype.request_resize = function(x_pixels, y_pixels) {\n",
       "    // Request matplotlib to resize the figure. Matplotlib will then trigger a resize in the client,\n",
       "    // which will in turn request a refresh of the image.\n",
       "    this.send_message('resize', {'width': x_pixels, 'height': y_pixels});\n",
       "}\n",
       "\n",
       "mpl.figure.prototype.send_message = function(type, properties) {\n",
       "    properties['type'] = type;\n",
       "    properties['figure_id'] = this.id;\n",
       "    this.ws.send(JSON.stringify(properties));\n",
       "}\n",
       "\n",
       "mpl.figure.prototype.send_draw_message = function() {\n",
       "    if (!this.waiting) {\n",
       "        this.waiting = true;\n",
       "        this.ws.send(JSON.stringify({type: \"draw\", figure_id: this.id}));\n",
       "    }\n",
       "}\n",
       "\n",
       "\n",
       "mpl.figure.prototype.handle_save = function(fig, msg) {\n",
       "    var format_dropdown = fig.format_dropdown;\n",
       "    var format = format_dropdown.options[format_dropdown.selectedIndex].value;\n",
       "    fig.ondownload(fig, format);\n",
       "}\n",
       "\n",
       "\n",
       "mpl.figure.prototype.handle_resize = function(fig, msg) {\n",
       "    var size = msg['size'];\n",
       "    if (size[0] != fig.canvas.width || size[1] != fig.canvas.height) {\n",
       "        fig._resize_canvas(size[0], size[1]);\n",
       "        fig.send_message(\"refresh\", {});\n",
       "    };\n",
       "}\n",
       "\n",
       "mpl.figure.prototype.handle_rubberband = function(fig, msg) {\n",
       "    var x0 = msg['x0'] / mpl.ratio;\n",
       "    var y0 = (fig.canvas.height - msg['y0']) / mpl.ratio;\n",
       "    var x1 = msg['x1'] / mpl.ratio;\n",
       "    var y1 = (fig.canvas.height - msg['y1']) / mpl.ratio;\n",
       "    x0 = Math.floor(x0) + 0.5;\n",
       "    y0 = Math.floor(y0) + 0.5;\n",
       "    x1 = Math.floor(x1) + 0.5;\n",
       "    y1 = Math.floor(y1) + 0.5;\n",
       "    var min_x = Math.min(x0, x1);\n",
       "    var min_y = Math.min(y0, y1);\n",
       "    var width = Math.abs(x1 - x0);\n",
       "    var height = Math.abs(y1 - y0);\n",
       "\n",
       "    fig.rubberband_context.clearRect(\n",
       "        0, 0, fig.canvas.width / mpl.ratio, fig.canvas.height / mpl.ratio);\n",
       "\n",
       "    fig.rubberband_context.strokeRect(min_x, min_y, width, height);\n",
       "}\n",
       "\n",
       "mpl.figure.prototype.handle_figure_label = function(fig, msg) {\n",
       "    // Updates the figure title.\n",
       "    fig.header.textContent = msg['label'];\n",
       "}\n",
       "\n",
       "mpl.figure.prototype.handle_cursor = function(fig, msg) {\n",
       "    var cursor = msg['cursor'];\n",
       "    switch(cursor)\n",
       "    {\n",
       "    case 0:\n",
       "        cursor = 'pointer';\n",
       "        break;\n",
       "    case 1:\n",
       "        cursor = 'default';\n",
       "        break;\n",
       "    case 2:\n",
       "        cursor = 'crosshair';\n",
       "        break;\n",
       "    case 3:\n",
       "        cursor = 'move';\n",
       "        break;\n",
       "    }\n",
       "    fig.rubberband_canvas.style.cursor = cursor;\n",
       "}\n",
       "\n",
       "mpl.figure.prototype.handle_message = function(fig, msg) {\n",
       "    fig.message.textContent = msg['message'];\n",
       "}\n",
       "\n",
       "mpl.figure.prototype.handle_draw = function(fig, msg) {\n",
       "    // Request the server to send over a new figure.\n",
       "    fig.send_draw_message();\n",
       "}\n",
       "\n",
       "mpl.figure.prototype.handle_image_mode = function(fig, msg) {\n",
       "    fig.image_mode = msg['mode'];\n",
       "}\n",
       "\n",
       "mpl.figure.prototype.updated_canvas_event = function() {\n",
       "    // Called whenever the canvas gets updated.\n",
       "    this.send_message(\"ack\", {});\n",
       "}\n",
       "\n",
       "// A function to construct a web socket function for onmessage handling.\n",
       "// Called in the figure constructor.\n",
       "mpl.figure.prototype._make_on_message_function = function(fig) {\n",
       "    return function socket_on_message(evt) {\n",
       "        if (evt.data instanceof Blob) {\n",
       "            /* FIXME: We get \"Resource interpreted as Image but\n",
       "             * transferred with MIME type text/plain:\" errors on\n",
       "             * Chrome.  But how to set the MIME type?  It doesn't seem\n",
       "             * to be part of the websocket stream */\n",
       "            evt.data.type = \"image/png\";\n",
       "\n",
       "            /* Free the memory for the previous frames */\n",
       "            if (fig.imageObj.src) {\n",
       "                (window.URL || window.webkitURL).revokeObjectURL(\n",
       "                    fig.imageObj.src);\n",
       "            }\n",
       "\n",
       "            fig.imageObj.src = (window.URL || window.webkitURL).createObjectURL(\n",
       "                evt.data);\n",
       "            fig.updated_canvas_event();\n",
       "            fig.waiting = false;\n",
       "            return;\n",
       "        }\n",
       "        else if (typeof evt.data === 'string' && evt.data.slice(0, 21) == \"data:image/png;base64\") {\n",
       "            fig.imageObj.src = evt.data;\n",
       "            fig.updated_canvas_event();\n",
       "            fig.waiting = false;\n",
       "            return;\n",
       "        }\n",
       "\n",
       "        var msg = JSON.parse(evt.data);\n",
       "        var msg_type = msg['type'];\n",
       "\n",
       "        // Call the  \"handle_{type}\" callback, which takes\n",
       "        // the figure and JSON message as its only arguments.\n",
       "        try {\n",
       "            var callback = fig[\"handle_\" + msg_type];\n",
       "        } catch (e) {\n",
       "            console.log(\"No handler for the '\" + msg_type + \"' message type: \", msg);\n",
       "            return;\n",
       "        }\n",
       "\n",
       "        if (callback) {\n",
       "            try {\n",
       "                // console.log(\"Handling '\" + msg_type + \"' message: \", msg);\n",
       "                callback(fig, msg);\n",
       "            } catch (e) {\n",
       "                console.log(\"Exception inside the 'handler_\" + msg_type + \"' callback:\", e, e.stack, msg);\n",
       "            }\n",
       "        }\n",
       "    };\n",
       "}\n",
       "\n",
       "// from http://stackoverflow.com/questions/1114465/getting-mouse-location-in-canvas\n",
       "mpl.findpos = function(e) {\n",
       "    //this section is from http://www.quirksmode.org/js/events_properties.html\n",
       "    var targ;\n",
       "    if (!e)\n",
       "        e = window.event;\n",
       "    if (e.target)\n",
       "        targ = e.target;\n",
       "    else if (e.srcElement)\n",
       "        targ = e.srcElement;\n",
       "    if (targ.nodeType == 3) // defeat Safari bug\n",
       "        targ = targ.parentNode;\n",
       "\n",
       "    // jQuery normalizes the pageX and pageY\n",
       "    // pageX,Y are the mouse positions relative to the document\n",
       "    // offset() returns the position of the element relative to the document\n",
       "    var x = e.pageX - $(targ).offset().left;\n",
       "    var y = e.pageY - $(targ).offset().top;\n",
       "\n",
       "    return {\"x\": x, \"y\": y};\n",
       "};\n",
       "\n",
       "/*\n",
       " * return a copy of an object with only non-object keys\n",
       " * we need this to avoid circular references\n",
       " * http://stackoverflow.com/a/24161582/3208463\n",
       " */\n",
       "function simpleKeys (original) {\n",
       "  return Object.keys(original).reduce(function (obj, key) {\n",
       "    if (typeof original[key] !== 'object')\n",
       "        obj[key] = original[key]\n",
       "    return obj;\n",
       "  }, {});\n",
       "}\n",
       "\n",
       "mpl.figure.prototype.mouse_event = function(event, name) {\n",
       "    var canvas_pos = mpl.findpos(event)\n",
       "\n",
       "    if (name === 'button_press')\n",
       "    {\n",
       "        this.canvas.focus();\n",
       "        this.canvas_div.focus();\n",
       "    }\n",
       "\n",
       "    var x = canvas_pos.x * mpl.ratio;\n",
       "    var y = canvas_pos.y * mpl.ratio;\n",
       "\n",
       "    this.send_message(name, {x: x, y: y, button: event.button,\n",
       "                             step: event.step,\n",
       "                             guiEvent: simpleKeys(event)});\n",
       "\n",
       "    /* This prevents the web browser from automatically changing to\n",
       "     * the text insertion cursor when the button is pressed.  We want\n",
       "     * to control all of the cursor setting manually through the\n",
       "     * 'cursor' event from matplotlib */\n",
       "    event.preventDefault();\n",
       "    return false;\n",
       "}\n",
       "\n",
       "mpl.figure.prototype._key_event_extra = function(event, name) {\n",
       "    // Handle any extra behaviour associated with a key event\n",
       "}\n",
       "\n",
       "mpl.figure.prototype.key_event = function(event, name) {\n",
       "\n",
       "    // Prevent repeat events\n",
       "    if (name == 'key_press')\n",
       "    {\n",
       "        if (event.which === this._key)\n",
       "            return;\n",
       "        else\n",
       "            this._key = event.which;\n",
       "    }\n",
       "    if (name == 'key_release')\n",
       "        this._key = null;\n",
       "\n",
       "    var value = '';\n",
       "    if (event.ctrlKey && event.which != 17)\n",
       "        value += \"ctrl+\";\n",
       "    if (event.altKey && event.which != 18)\n",
       "        value += \"alt+\";\n",
       "    if (event.shiftKey && event.which != 16)\n",
       "        value += \"shift+\";\n",
       "\n",
       "    value += 'k';\n",
       "    value += event.which.toString();\n",
       "\n",
       "    this._key_event_extra(event, name);\n",
       "\n",
       "    this.send_message(name, {key: value,\n",
       "                             guiEvent: simpleKeys(event)});\n",
       "    return false;\n",
       "}\n",
       "\n",
       "mpl.figure.prototype.toolbar_button_onclick = function(name) {\n",
       "    if (name == 'download') {\n",
       "        this.handle_save(this, null);\n",
       "    } else {\n",
       "        this.send_message(\"toolbar_button\", {name: name});\n",
       "    }\n",
       "};\n",
       "\n",
       "mpl.figure.prototype.toolbar_button_onmouseover = function(tooltip) {\n",
       "    this.message.textContent = tooltip;\n",
       "};\n",
       "mpl.toolbar_items = [[\"Home\", \"Reset original view\", \"fa fa-home icon-home\", \"home\"], [\"Back\", \"Back to previous view\", \"fa fa-arrow-left icon-arrow-left\", \"back\"], [\"Forward\", \"Forward to next view\", \"fa fa-arrow-right icon-arrow-right\", \"forward\"], [\"\", \"\", \"\", \"\"], [\"Pan\", \"Pan axes with left mouse, zoom with right\", \"fa fa-arrows icon-move\", \"pan\"], [\"Zoom\", \"Zoom to rectangle\", \"fa fa-square-o icon-check-empty\", \"zoom\"], [\"\", \"\", \"\", \"\"], [\"Download\", \"Download plot\", \"fa fa-floppy-o icon-save\", \"download\"]];\n",
       "\n",
       "mpl.extensions = [\"eps\", \"jpeg\", \"pdf\", \"png\", \"ps\", \"raw\", \"svg\", \"tif\"];\n",
       "\n",
       "mpl.default_extension = \"png\";var comm_websocket_adapter = function(comm) {\n",
       "    // Create a \"websocket\"-like object which calls the given IPython comm\n",
       "    // object with the appropriate methods. Currently this is a non binary\n",
       "    // socket, so there is still some room for performance tuning.\n",
       "    var ws = {};\n",
       "\n",
       "    ws.close = function() {\n",
       "        comm.close()\n",
       "    };\n",
       "    ws.send = function(m) {\n",
       "        //console.log('sending', m);\n",
       "        comm.send(m);\n",
       "    };\n",
       "    // Register the callback with on_msg.\n",
       "    comm.on_msg(function(msg) {\n",
       "        //console.log('receiving', msg['content']['data'], msg);\n",
       "        // Pass the mpl event to the overridden (by mpl) onmessage function.\n",
       "        ws.onmessage(msg['content']['data'])\n",
       "    });\n",
       "    return ws;\n",
       "}\n",
       "\n",
       "mpl.mpl_figure_comm = function(comm, msg) {\n",
       "    // This is the function which gets called when the mpl process\n",
       "    // starts-up an IPython Comm through the \"matplotlib\" channel.\n",
       "\n",
       "    var id = msg.content.data.id;\n",
       "    // Get hold of the div created by the display call when the Comm\n",
       "    // socket was opened in Python.\n",
       "    var element = $(\"#\" + id);\n",
       "    var ws_proxy = comm_websocket_adapter(comm)\n",
       "\n",
       "    function ondownload(figure, format) {\n",
       "        window.open(figure.imageObj.src);\n",
       "    }\n",
       "\n",
       "    var fig = new mpl.figure(id, ws_proxy,\n",
       "                           ondownload,\n",
       "                           element.get(0));\n",
       "\n",
       "    // Call onopen now - mpl needs it, as it is assuming we've passed it a real\n",
       "    // web socket which is closed, not our websocket->open comm proxy.\n",
       "    ws_proxy.onopen();\n",
       "\n",
       "    fig.parent_element = element.get(0);\n",
       "    fig.cell_info = mpl.find_output_cell(\"<div id='\" + id + \"'></div>\");\n",
       "    if (!fig.cell_info) {\n",
       "        console.error(\"Failed to find cell for figure\", id, fig);\n",
       "        return;\n",
       "    }\n",
       "\n",
       "    var output_index = fig.cell_info[2]\n",
       "    var cell = fig.cell_info[0];\n",
       "\n",
       "};\n",
       "\n",
       "mpl.figure.prototype.handle_close = function(fig, msg) {\n",
       "    var width = fig.canvas.width/mpl.ratio\n",
       "    fig.root.unbind('remove')\n",
       "\n",
       "    // Update the output cell to use the data from the current canvas.\n",
       "    fig.push_to_output();\n",
       "    var dataURL = fig.canvas.toDataURL();\n",
       "    // Re-enable the keyboard manager in IPython - without this line, in FF,\n",
       "    // the notebook keyboard shortcuts fail.\n",
       "    IPython.keyboard_manager.enable()\n",
       "    $(fig.parent_element).html('<img src=\"' + dataURL + '\" width=\"' + width + '\">');\n",
       "    fig.close_ws(fig, msg);\n",
       "}\n",
       "\n",
       "mpl.figure.prototype.close_ws = function(fig, msg){\n",
       "    fig.send_message('closing', msg);\n",
       "    // fig.ws.close()\n",
       "}\n",
       "\n",
       "mpl.figure.prototype.push_to_output = function(remove_interactive) {\n",
       "    // Turn the data on the canvas into data in the output cell.\n",
       "    var width = this.canvas.width/mpl.ratio\n",
       "    var dataURL = this.canvas.toDataURL();\n",
       "    this.cell_info[1]['text/html'] = '<img src=\"' + dataURL + '\" width=\"' + width + '\">';\n",
       "}\n",
       "\n",
       "mpl.figure.prototype.updated_canvas_event = function() {\n",
       "    // Tell IPython that the notebook contents must change.\n",
       "    IPython.notebook.set_dirty(true);\n",
       "    this.send_message(\"ack\", {});\n",
       "    var fig = this;\n",
       "    // Wait a second, then push the new image to the DOM so\n",
       "    // that it is saved nicely (might be nice to debounce this).\n",
       "    setTimeout(function () { fig.push_to_output() }, 1000);\n",
       "}\n",
       "\n",
       "mpl.figure.prototype._init_toolbar = function() {\n",
       "    var fig = this;\n",
       "\n",
       "    var nav_element = $('<div/>');\n",
       "    nav_element.attr('style', 'width: 100%');\n",
       "    this.root.append(nav_element);\n",
       "\n",
       "    // Define a callback function for later on.\n",
       "    function toolbar_event(event) {\n",
       "        return fig.toolbar_button_onclick(event['data']);\n",
       "    }\n",
       "    function toolbar_mouse_event(event) {\n",
       "        return fig.toolbar_button_onmouseover(event['data']);\n",
       "    }\n",
       "\n",
       "    for(var toolbar_ind in mpl.toolbar_items){\n",
       "        var name = mpl.toolbar_items[toolbar_ind][0];\n",
       "        var tooltip = mpl.toolbar_items[toolbar_ind][1];\n",
       "        var image = mpl.toolbar_items[toolbar_ind][2];\n",
       "        var method_name = mpl.toolbar_items[toolbar_ind][3];\n",
       "\n",
       "        if (!name) { continue; };\n",
       "\n",
       "        var button = $('<button class=\"btn btn-default\" href=\"#\" title=\"' + name + '\"><i class=\"fa ' + image + ' fa-lg\"></i></button>');\n",
       "        button.click(method_name, toolbar_event);\n",
       "        button.mouseover(tooltip, toolbar_mouse_event);\n",
       "        nav_element.append(button);\n",
       "    }\n",
       "\n",
       "    // Add the status bar.\n",
       "    var status_bar = $('<span class=\"mpl-message\" style=\"text-align:right; float: right;\"/>');\n",
       "    nav_element.append(status_bar);\n",
       "    this.message = status_bar[0];\n",
       "\n",
       "    // Add the close button to the window.\n",
       "    var buttongrp = $('<div class=\"btn-group inline pull-right\"></div>');\n",
       "    var button = $('<button class=\"btn btn-mini btn-primary\" href=\"#\" title=\"Stop Interaction\"><i class=\"fa fa-power-off icon-remove icon-large\"></i></button>');\n",
       "    button.click(function (evt) { fig.handle_close(fig, {}); } );\n",
       "    button.mouseover('Stop Interaction', toolbar_mouse_event);\n",
       "    buttongrp.append(button);\n",
       "    var titlebar = this.root.find($('.ui-dialog-titlebar'));\n",
       "    titlebar.prepend(buttongrp);\n",
       "}\n",
       "\n",
       "mpl.figure.prototype._root_extra_style = function(el){\n",
       "    var fig = this\n",
       "    el.on(\"remove\", function(){\n",
       "\tfig.close_ws(fig, {});\n",
       "    });\n",
       "}\n",
       "\n",
       "mpl.figure.prototype._canvas_extra_style = function(el){\n",
       "    // this is important to make the div 'focusable\n",
       "    el.attr('tabindex', 0)\n",
       "    // reach out to IPython and tell the keyboard manager to turn it's self\n",
       "    // off when our div gets focus\n",
       "\n",
       "    // location in version 3\n",
       "    if (IPython.notebook.keyboard_manager) {\n",
       "        IPython.notebook.keyboard_manager.register_events(el);\n",
       "    }\n",
       "    else {\n",
       "        // location in version 2\n",
       "        IPython.keyboard_manager.register_events(el);\n",
       "    }\n",
       "\n",
       "}\n",
       "\n",
       "mpl.figure.prototype._key_event_extra = function(event, name) {\n",
       "    var manager = IPython.notebook.keyboard_manager;\n",
       "    if (!manager)\n",
       "        manager = IPython.keyboard_manager;\n",
       "\n",
       "    // Check for shift+enter\n",
       "    if (event.shiftKey && event.which == 13) {\n",
       "        this.canvas_div.blur();\n",
       "        // select the cell after this one\n",
       "        var index = IPython.notebook.find_cell_index(this.cell_info[0]);\n",
       "        IPython.notebook.select(index + 1);\n",
       "    }\n",
       "}\n",
       "\n",
       "mpl.figure.prototype.handle_save = function(fig, msg) {\n",
       "    fig.ondownload(fig, null);\n",
       "}\n",
       "\n",
       "\n",
       "mpl.find_output_cell = function(html_output) {\n",
       "    // Return the cell and output element which can be found *uniquely* in the notebook.\n",
       "    // Note - this is a bit hacky, but it is done because the \"notebook_saving.Notebook\"\n",
       "    // IPython event is triggered only after the cells have been serialised, which for\n",
       "    // our purposes (turning an active figure into a static one), is too late.\n",
       "    var cells = IPython.notebook.get_cells();\n",
       "    var ncells = cells.length;\n",
       "    for (var i=0; i<ncells; i++) {\n",
       "        var cell = cells[i];\n",
       "        if (cell.cell_type === 'code'){\n",
       "            for (var j=0; j<cell.output_area.outputs.length; j++) {\n",
       "                var data = cell.output_area.outputs[j];\n",
       "                if (data.data) {\n",
       "                    // IPython >= 3 moved mimebundle to data attribute of output\n",
       "                    data = data.data;\n",
       "                }\n",
       "                if (data['text/html'] == html_output) {\n",
       "                    return [cell, data, j];\n",
       "                }\n",
       "            }\n",
       "        }\n",
       "    }\n",
       "}\n",
       "\n",
       "// Register the function which deals with the matplotlib target/channel.\n",
       "// The kernel may be null if the page has been refreshed.\n",
       "if (IPython.notebook.kernel != null) {\n",
       "    IPython.notebook.kernel.comm_manager.register_target('matplotlib', mpl.mpl_figure_comm);\n",
       "}\n"
      ],
      "text/plain": [
       "<IPython.core.display.Javascript object>"
      ]
     },
     "metadata": {},
     "output_type": "display_data"
    },
    {
     "data": {
      "text/html": [
       "<img src=\"data:image/png;base64,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\" width=\"886\">"
      ],
      "text/plain": [
       "<IPython.core.display.HTML object>"
      ]
     },
     "metadata": {},
     "output_type": "display_data"
    },
    {
     "data": {
      "text/plain": [
       "[<matplotlib.lines.Line2D at 0x220a662a2c8>]"
      ]
     },
     "execution_count": 86,
     "metadata": {},
     "output_type": "execute_result"
    }
   ],
   "source": [
    "# fit the missings to places where overall transition fit is maximized\n",
    "\n",
    "songs_final = songs_red\n",
    "\n",
    "for m in missings:\n",
    "    # find optimal position\n",
    "    trans_fits = []\n",
    "    best_fit = 0\n",
    "    best_ind = -1\n",
    "    for pos in range(2, len(songs_final) - 2):\n",
    "        test_songs = songs_final[:pos+1] + [m] + songs_final[pos+1:]\n",
    "        curr_fit = get_fit(test_songs)\n",
    "        if curr_fit > best_fit:\n",
    "            best_fit = curr_fit\n",
    "            best_ind = pos\n",
    "    songs_final = songs_final[:best_ind+1] + [m] + songs_final[best_ind+1:]\n",
    "\n",
    "plt.figure()\n",
    "plt.plot(get_fit(songs_final, False))"
   ]
  },
  {
   "cell_type": "code",
   "execution_count": 87,
   "metadata": {},
   "outputs": [
    {
     "data": {
      "text/plain": [
       "[False, False, True, False, False]"
      ]
     },
     "execution_count": 87,
     "metadata": {},
     "output_type": "execute_result"
    }
   ],
   "source": [
    "test_random_it(songs_final, True)"
   ]
  },
  {
   "cell_type": "code",
   "execution_count": 52,
   "metadata": {},
   "outputs": [
    {
     "data": {
      "text/plain": [
       "[None,\n",
       " 'Muse',\n",
       " 'Biffy Clyro',\n",
       " 'Volbeat',\n",
       " 'Vivid',\n",
       " 'Craig Irving',\n",
       " 'Stone Sour',\n",
       " 'Biffy Clyro',\n",
       " 'FINNEAS',\n",
       " None,\n",
       " None,\n",
       " 'Travis',\n",
       " 'FINNEAS',\n",
       " 'Volbeat',\n",
       " 'Vivid',\n",
       " 'Biffy Clyro',\n",
       " 'Grey Daze',\n",
       " 'Queens of the Stone Age',\n",
       " None]"
      ]
     },
     "execution_count": 52,
     "metadata": {},
     "output_type": "execute_result"
    }
   ],
   "source": [
    "# adjacency does not look good, check\n",
    "artists = [df_1[df_1[0] == s][4].tolist()[0] for s in songs_final]\n",
    "artists"
   ]
  },
  {
   "cell_type": "code",
   "execution_count": 1,
   "metadata": {},
   "outputs": [],
   "source": [
    "#TODO: optimize the artist transition criteria while removing/adding single songs (see while loops above)"
   ]
  },
  {
   "cell_type": "code",
   "execution_count": 88,
   "metadata": {},
   "outputs": [],
   "source": [
    "# try to create WMP playlist\n",
    "_m3u = open(mp3_path/\"M_playlist_v2.m3u\", \"w\")\n",
    "for s in songs_final:\n",
    "    _m3u.write(s + \".mp3\\n\")\n",
    "_m3u.close()"
   ]
  },
  {
   "cell_type": "code",
   "execution_count": 93,
   "metadata": {},
   "outputs": [
    {
     "data": {
      "text/plain": [
       "['05 - Wait For You', 'New Born - Muse', 'Resistance - Muse']"
      ]
     },
     "execution_count": 93,
     "metadata": {},
     "output_type": "execute_result"
    }
   ],
   "source": [
    "# get songs that are not used\n",
    "# just for overview\n",
    "not_used = [s for s in df_1[0].tolist() if s not in songs_final]\n",
    "not_used"
   ]
  },
  {
   "cell_type": "code",
   "execution_count": null,
   "metadata": {},
   "outputs": [],
   "source": []
  },
  {
   "cell_type": "code",
   "execution_count": null,
   "metadata": {},
   "outputs": [],
   "source": []
  },
  {
   "cell_type": "code",
   "execution_count": null,
   "metadata": {},
   "outputs": [],
   "source": []
  },
  {
   "cell_type": "code",
   "execution_count": null,
   "metadata": {},
   "outputs": [],
   "source": []
  },
  {
   "cell_type": "code",
   "execution_count": null,
   "metadata": {},
   "outputs": [],
   "source": []
  },
  {
   "cell_type": "code",
   "execution_count": null,
   "metadata": {},
   "outputs": [],
   "source": []
  },
  {
   "cell_type": "code",
   "execution_count": null,
   "metadata": {},
   "outputs": [],
   "source": []
  },
  {
   "cell_type": "markdown",
   "metadata": {},
   "source": [
    "change tracklist manually and save; use next cells to analyze changes"
   ]
  },
  {
   "cell_type": "code",
   "execution_count": 4,
   "metadata": {},
   "outputs": [],
   "source": [
    "# load in tracklist\n",
    "tracklist = \"M_playlist_v2_manual.m3u\""
   ]
  },
  {
   "cell_type": "code",
   "execution_count": 6,
   "metadata": {},
   "outputs": [],
   "source": [
    "f = open(mp3_path/tracklist, \"r\")\n",
    "ll = f.readlines()\n",
    "ll = [l.split(\"\\n\")[0] for l in ll]\n",
    "ll = [l for l in ll if len(l) > 0 and not l.startswith(\"#EXT\")]\n",
    "ll = [l.split(\".mp3\")[0] for l in ll]"
   ]
  },
  {
   "cell_type": "code",
   "execution_count": null,
   "metadata": {},
   "outputs": [],
   "source": [
    "# test the song list\n",
    "print(test_random_it(ll, True))\n",
    "plt.figure()\n",
    "plt.plot(get_fit(ll, False))"
   ]
  },
  {
   "cell_type": "code",
   "execution_count": 39,
   "metadata": {},
   "outputs": [
    {
     "name": "stderr",
     "output_type": "stream",
     "text": [
      "Frame 'SYLT' is not yet supported, using raw Frame to parse\n",
      "Frame 'SYLT' is not yet supported, using raw Frame to parse\n"
     ]
    }
   ],
   "source": [
    "# get tags from MP3s\n",
    "\n",
    "song_names = []\n",
    "artists = []\n",
    "durs = []\n",
    "\n",
    "for s in ll:\n",
    "    # tag infos\n",
    "    tag = eyed3.id3.tag.Tag()\n",
    "    tag.parse(os.path.join(mp3_path, s+\".mp3\"))\n",
    "    song_names.append(tag.title)\n",
    "    artists.append(tag.artist)\n",
    "    # song duration\n",
    "    audio = MP3(os.path.join(mp3_path, s+\".mp3\"))\n",
    "    durs.append(audio.info.length)"
   ]
  },
  {
   "cell_type": "code",
   "execution_count": 40,
   "metadata": {},
   "outputs": [
    {
     "data": {
      "text/plain": [
       "['The Youth',\n",
       " 'Knights of Cydonia',\n",
       " 'Wait For You',\n",
       " 'Do You Wanna Get Lucky',\n",
       " 'Instant History',\n",
       " \"What They'll Say About Us\",\n",
       " 'Off We Go',\n",
       " 'Last Day Under the Sun',\n",
       " 'Through Glass',\n",
       " 'Valentine',\n",
       " 'Still',\n",
       " 'Let Go',\n",
       " 'Tiny Indoor Fireworks',\n",
       " 'Let It Burn',\n",
       " \"Can't Wait To Be Dead Explicit\",\n",
       " 'Space',\n",
       " 'Morei Sky',\n",
       " 'I Sat by the Ocean',\n",
       " 'Tell Them Who You Are']"
      ]
     },
     "execution_count": 40,
     "metadata": {},
     "output_type": "execute_result"
    }
   ],
   "source": [
    "# manually insert missing artist/song name tags\n",
    "artists[0] = \"MGMT\"\n",
    "artists[3] = \"Daniel Powter\"\n",
    "artists[-1] = \"Daniel Powter\"\n",
    "\n",
    "song_names[0] = \"The Youth\"\n",
    "song_names[3] = \"Do You Wanna Get Lucky\"\n",
    "song_names[-1] = \"Tell Them Who You Are\"\n",
    "song_names"
   ]
  },
  {
   "cell_type": "code",
   "execution_count": null,
   "metadata": {},
   "outputs": [],
   "source": []
  }
 ],
 "metadata": {
  "kernelspec": {
   "display_name": "Python 3",
   "language": "python",
   "name": "python3"
  },
  "language_info": {
   "codemirror_mode": {
    "name": "ipython",
    "version": 3
   },
   "file_extension": ".py",
   "mimetype": "text/x-python",
   "name": "python",
   "nbconvert_exporter": "python",
   "pygments_lexer": "ipython3",
   "version": "3.7.7"
  }
 },
 "nbformat": 4,
 "nbformat_minor": 4
}
